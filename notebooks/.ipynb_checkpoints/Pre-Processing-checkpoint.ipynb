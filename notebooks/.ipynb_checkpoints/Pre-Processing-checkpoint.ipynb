{
 "cells": [
  {
   "cell_type": "code",
   "execution_count": 1,
   "id": "e61a24f8",
   "metadata": {},
   "outputs": [
    {
     "data": {
      "text/html": [
       "<style>.container { width:80% !important; }</style>"
      ],
      "text/plain": [
       "<IPython.core.display.HTML object>"
      ]
     },
     "metadata": {},
     "output_type": "display_data"
    }
   ],
   "source": [
    "from IPython.display import display, HTML\n",
    "display(HTML(\"<style>.container { width:80% !important; }</style>\"))"
   ]
  },
  {
   "cell_type": "code",
   "execution_count": 2,
   "id": "bcfd5162",
   "metadata": {},
   "outputs": [],
   "source": [
    "import pandas as pd\n",
    "import numpy as np\n",
    "import seaborn as sns\n",
    "import matplotlib.pyplot as plt\n",
    "import warnings\n",
    "\n",
    "from sklearn.model_selection import train_test_split\n",
    "\n",
    "warnings.filterwarnings('ignore')\n",
    "pd.set_option('display.float_format', lambda x: '%.3f' % x)\n",
    "sns.set(rc={'figure.figsize':(10,6)})"
   ]
  },
  {
   "cell_type": "markdown",
   "id": "7dcca4bd",
   "metadata": {},
   "source": [
    "# 1. Import Dataset"
   ]
  },
  {
   "cell_type": "code",
   "execution_count": 4,
   "id": "b12f08c8",
   "metadata": {
    "scrolled": true
   },
   "outputs": [
    {
     "name": "stdout",
     "output_type": "stream",
     "text": [
      "(3757, 11)\n"
     ]
    },
    {
     "data": {
      "text/html": [
       "<div>\n",
       "<style scoped>\n",
       "    .dataframe tbody tr th:only-of-type {\n",
       "        vertical-align: middle;\n",
       "    }\n",
       "\n",
       "    .dataframe tbody tr th {\n",
       "        vertical-align: top;\n",
       "    }\n",
       "\n",
       "    .dataframe thead th {\n",
       "        text-align: right;\n",
       "    }\n",
       "</style>\n",
       "<table border=\"1\" class=\"dataframe\">\n",
       "  <thead>\n",
       "    <tr style=\"text-align: right;\">\n",
       "      <th></th>\n",
       "      <th>price</th>\n",
       "      <th>energy_certify</th>\n",
       "      <th>metric</th>\n",
       "      <th>description</th>\n",
       "      <th>location</th>\n",
       "      <th>rooms</th>\n",
       "      <th>company</th>\n",
       "      <th>property_type</th>\n",
       "      <th>district</th>\n",
       "      <th>bathroom</th>\n",
       "      <th>condition</th>\n",
       "    </tr>\n",
       "  </thead>\n",
       "  <tbody>\n",
       "    <tr>\n",
       "      <th>0</th>\n",
       "      <td>900</td>\n",
       "      <td>E</td>\n",
       "      <td>124 m²</td>\n",
       "      <td>Andar de Moradia T3| Arrendamento| Cacia</td>\n",
       "      <td>Cacia, Aveiro</td>\n",
       "      <td>T3</td>\n",
       "      <td>Zome Viva Aveiro</td>\n",
       "      <td>moradia</td>\n",
       "      <td>Aveiro</td>\n",
       "      <td>2.000</td>\n",
       "      <td>Usado</td>\n",
       "    </tr>\n",
       "    <tr>\n",
       "      <th>1</th>\n",
       "      <td>2 000</td>\n",
       "      <td>D</td>\n",
       "      <td>147 m²</td>\n",
       "      <td>Moradia T4 para arrendamento na praia de Corte...</td>\n",
       "      <td>Cortegaça, Ovar, Aveiro</td>\n",
       "      <td>T4</td>\n",
       "      <td>A Casa é Sua</td>\n",
       "      <td>moradia</td>\n",
       "      <td>Aveiro</td>\n",
       "      <td>4.000</td>\n",
       "      <td>Usado</td>\n",
       "    </tr>\n",
       "    <tr>\n",
       "      <th>2</th>\n",
       "      <td>5 000</td>\n",
       "      <td>F</td>\n",
       "      <td>300 m²</td>\n",
       "      <td>Moradia T2 para arrendamento</td>\n",
       "      <td>Mozelos, Santa Maria da Feira, Aveiro</td>\n",
       "      <td>T2</td>\n",
       "      <td>RE/MAX + Grupo Vantagem</td>\n",
       "      <td>moradia</td>\n",
       "      <td>Aveiro</td>\n",
       "      <td>1.000</td>\n",
       "      <td>None</td>\n",
       "    </tr>\n",
       "    <tr>\n",
       "      <th>3</th>\n",
       "      <td>900</td>\n",
       "      <td>E</td>\n",
       "      <td>108 m²</td>\n",
       "      <td>Moradia V3, condomínio privado, para arrendar ...</td>\n",
       "      <td>Santa Maria da Feira, Travanca, Sanfins e Espa...</td>\n",
       "      <td>T3</td>\n",
       "      <td>Chave Nova - S.M.Feira</td>\n",
       "      <td>moradia</td>\n",
       "      <td>Aveiro</td>\n",
       "      <td>3.000</td>\n",
       "      <td>Usado</td>\n",
       "    </tr>\n",
       "    <tr>\n",
       "      <th>4</th>\n",
       "      <td>1 200</td>\n",
       "      <td>E</td>\n",
       "      <td>134 m²</td>\n",
       "      <td>Moradia V4 no centro da Feira</td>\n",
       "      <td>Santa Maria da Feira, Travanca, Sanfins e Espa...</td>\n",
       "      <td>T4</td>\n",
       "      <td>Imo2007</td>\n",
       "      <td>moradia</td>\n",
       "      <td>Aveiro</td>\n",
       "      <td>2.000</td>\n",
       "      <td>Usado</td>\n",
       "    </tr>\n",
       "  </tbody>\n",
       "</table>\n",
       "</div>"
      ],
      "text/plain": [
       "   price energy_certify  metric  \\\n",
       "0    900              E  124 m²   \n",
       "1  2 000              D  147 m²   \n",
       "2  5 000              F  300 m²   \n",
       "3    900              E  108 m²   \n",
       "4  1 200              E  134 m²   \n",
       "\n",
       "                                         description  \\\n",
       "0           Andar de Moradia T3| Arrendamento| Cacia   \n",
       "1  Moradia T4 para arrendamento na praia de Corte...   \n",
       "2                       Moradia T2 para arrendamento   \n",
       "3  Moradia V3, condomínio privado, para arrendar ...   \n",
       "4                      Moradia V4 no centro da Feira   \n",
       "\n",
       "                                            location rooms  \\\n",
       "0                                      Cacia, Aveiro    T3   \n",
       "1                            Cortegaça, Ovar, Aveiro    T4   \n",
       "2              Mozelos, Santa Maria da Feira, Aveiro    T2   \n",
       "3  Santa Maria da Feira, Travanca, Sanfins e Espa...    T3   \n",
       "4  Santa Maria da Feira, Travanca, Sanfins e Espa...    T4   \n",
       "\n",
       "                   company property_type district  bathroom condition  \n",
       "0         Zome Viva Aveiro       moradia   Aveiro     2.000     Usado  \n",
       "1             A Casa é Sua       moradia   Aveiro     4.000     Usado  \n",
       "2  RE/MAX + Grupo Vantagem       moradia   Aveiro     1.000      None  \n",
       "3   Chave Nova - S.M.Feira       moradia   Aveiro     3.000     Usado  \n",
       "4                  Imo2007       moradia   Aveiro     2.000     Usado  "
      ]
     },
     "execution_count": 4,
     "metadata": {},
     "output_type": "execute_result"
    }
   ],
   "source": [
    "df = pd.read_parquet('../data/raw/imovirtual_v2.parquet')\n",
    "print(df.shape)\n",
    "df.head()"
   ]
  },
  {
   "cell_type": "markdown",
   "id": "cae796c0",
   "metadata": {},
   "source": [
    "# Clean and set types"
   ]
  },
  {
   "cell_type": "code",
   "execution_count": 5,
   "id": "90e6e7e4",
   "metadata": {},
   "outputs": [],
   "source": [
    "df = df.loc[df.price != \"Preço sob consulta\"]\n",
    "df.price = df.price.str.replace(',', '.').str.replace(' ', '').astype(int)\n",
    "df.metric = df.metric.str.replace(',', '.')\n",
    "df.metric = df.metric.str.replace(' m²', '').str.replace(' ', '').astype(float)\n",
    "df.rooms = df.rooms.str.replace('T', '').str.replace(' ou superior','').astype(int)"
   ]
  },
  {
   "cell_type": "code",
   "execution_count": 6,
   "id": "023d1d91",
   "metadata": {},
   "outputs": [
    {
     "name": "stdout",
     "output_type": "stream",
     "text": [
      "<class 'pandas.core.frame.DataFrame'>\n",
      "Index: 3736 entries, 0 to 6073\n",
      "Data columns (total 11 columns):\n",
      " #   Column          Non-Null Count  Dtype  \n",
      "---  ------          --------------  -----  \n",
      " 0   price           3736 non-null   int32  \n",
      " 1   energy_certify  3736 non-null   object \n",
      " 2   metric          3736 non-null   float64\n",
      " 3   description     3736 non-null   object \n",
      " 4   location        3736 non-null   object \n",
      " 5   rooms           3736 non-null   int32  \n",
      " 6   company         3736 non-null   object \n",
      " 7   property_type   3736 non-null   object \n",
      " 8   district        3736 non-null   object \n",
      " 9   bathroom        3324 non-null   float64\n",
      " 10  condition       2805 non-null   object \n",
      "dtypes: float64(2), int32(2), object(7)\n",
      "memory usage: 321.1+ KB\n"
     ]
    }
   ],
   "source": [
    "df.info()"
   ]
  },
  {
   "cell_type": "markdown",
   "id": "7cdf47ec",
   "metadata": {},
   "source": [
    "# Split data "
   ]
  },
  {
   "cell_type": "code",
   "execution_count": 7,
   "id": "a82756f3",
   "metadata": {},
   "outputs": [],
   "source": [
    "# Generate val_data\n",
    "train, val = train_test_split(df,  test_size=.3, train_size=.7, random_state=42)"
   ]
  },
  {
   "cell_type": "code",
   "execution_count": 8,
   "id": "cd6fe9b5",
   "metadata": {},
   "outputs": [
    {
     "name": "stdout",
     "output_type": "stream",
     "text": [
      "Train: 2615\n",
      "Val: 1121\n"
     ]
    }
   ],
   "source": [
    "print(f'Train: {train.shape[0]}\\nVal: {val.shape[0]}')"
   ]
  },
  {
   "cell_type": "markdown",
   "id": "62af4992",
   "metadata": {},
   "source": [
    "# Train"
   ]
  },
  {
   "cell_type": "markdown",
   "id": "0889b90d",
   "metadata": {},
   "source": [
    "# 2. Remove Outliers and NaN values\n",
    "\n",
    "* First, the outliers filter will be performed and then check how the missing data will be imputed or not."
   ]
  },
  {
   "cell_type": "code",
   "execution_count": 9,
   "id": "49fbbf49",
   "metadata": {},
   "outputs": [
    {
     "data": {
      "text/plain": [
       "price            0.000\n",
       "energy_certify   0.000\n",
       "metric           0.000\n",
       "description      0.000\n",
       "location         0.000\n",
       "rooms            0.000\n",
       "company          0.000\n",
       "property_type    0.000\n",
       "district         0.000\n",
       "bathroom         0.108\n",
       "condition        0.242\n",
       "dtype: float64"
      ]
     },
     "execution_count": 9,
     "metadata": {},
     "output_type": "execute_result"
    }
   ],
   "source": [
    "train.isna().mean().sort_values()"
   ]
  },
  {
   "cell_type": "code",
   "execution_count": 10,
   "id": "9ec97a5e",
   "metadata": {},
   "outputs": [],
   "source": [
    "train.bathroom.fillna(1, inplace=True)"
   ]
  },
  {
   "cell_type": "code",
   "execution_count": 11,
   "id": "915a7edc",
   "metadata": {},
   "outputs": [
    {
     "name": "stdout",
     "output_type": "stream",
     "text": [
      "<class 'pandas.core.frame.DataFrame'>\n",
      "Index: 2615 entries, 1979 to 3837\n",
      "Data columns (total 11 columns):\n",
      " #   Column          Non-Null Count  Dtype  \n",
      "---  ------          --------------  -----  \n",
      " 0   price           2615 non-null   int32  \n",
      " 1   energy_certify  2615 non-null   object \n",
      " 2   metric          2615 non-null   float64\n",
      " 3   description     2615 non-null   object \n",
      " 4   location        2615 non-null   object \n",
      " 5   rooms           2615 non-null   int32  \n",
      " 6   company         2615 non-null   object \n",
      " 7   property_type   2615 non-null   object \n",
      " 8   district        2615 non-null   object \n",
      " 9   bathroom        2615 non-null   float64\n",
      " 10  condition       1982 non-null   object \n",
      "dtypes: float64(2), int32(2), object(7)\n",
      "memory usage: 224.7+ KB\n"
     ]
    }
   ],
   "source": [
    "train.info()"
   ]
  },
  {
   "cell_type": "code",
   "execution_count": 12,
   "id": "2daff9ba",
   "metadata": {
    "scrolled": true
   },
   "outputs": [
    {
     "data": {
      "text/html": [
       "<div>\n",
       "<style scoped>\n",
       "    .dataframe tbody tr th:only-of-type {\n",
       "        vertical-align: middle;\n",
       "    }\n",
       "\n",
       "    .dataframe tbody tr th {\n",
       "        vertical-align: top;\n",
       "    }\n",
       "\n",
       "    .dataframe thead th {\n",
       "        text-align: right;\n",
       "    }\n",
       "</style>\n",
       "<table border=\"1\" class=\"dataframe\">\n",
       "  <thead>\n",
       "    <tr style=\"text-align: right;\">\n",
       "      <th></th>\n",
       "      <th>price</th>\n",
       "      <th>metric</th>\n",
       "      <th>rooms</th>\n",
       "      <th>bathroom</th>\n",
       "    </tr>\n",
       "  </thead>\n",
       "  <tbody>\n",
       "    <tr>\n",
       "      <th>count</th>\n",
       "      <td>2615.000</td>\n",
       "      <td>2615.000</td>\n",
       "      <td>2615.000</td>\n",
       "      <td>2615.000</td>\n",
       "    </tr>\n",
       "    <tr>\n",
       "      <th>mean</th>\n",
       "      <td>7494.218</td>\n",
       "      <td>155.326</td>\n",
       "      <td>2.362</td>\n",
       "      <td>2.734</td>\n",
       "    </tr>\n",
       "    <tr>\n",
       "      <th>std</th>\n",
       "      <td>113778.832</td>\n",
       "      <td>1274.894</td>\n",
       "      <td>1.254</td>\n",
       "      <td>43.328</td>\n",
       "    </tr>\n",
       "    <tr>\n",
       "      <th>min</th>\n",
       "      <td>50.000</td>\n",
       "      <td>1.000</td>\n",
       "      <td>0.000</td>\n",
       "      <td>1.000</td>\n",
       "    </tr>\n",
       "    <tr>\n",
       "      <th>2%</th>\n",
       "      <td>400.000</td>\n",
       "      <td>28.084</td>\n",
       "      <td>0.000</td>\n",
       "      <td>1.000</td>\n",
       "    </tr>\n",
       "    <tr>\n",
       "      <th>10%</th>\n",
       "      <td>650.000</td>\n",
       "      <td>50.000</td>\n",
       "      <td>1.000</td>\n",
       "      <td>1.000</td>\n",
       "    </tr>\n",
       "    <tr>\n",
       "      <th>25%</th>\n",
       "      <td>875.000</td>\n",
       "      <td>70.000</td>\n",
       "      <td>2.000</td>\n",
       "      <td>1.000</td>\n",
       "    </tr>\n",
       "    <tr>\n",
       "      <th>50%</th>\n",
       "      <td>1300.000</td>\n",
       "      <td>96.000</td>\n",
       "      <td>2.000</td>\n",
       "      <td>2.000</td>\n",
       "    </tr>\n",
       "    <tr>\n",
       "      <th>90%</th>\n",
       "      <td>3680.000</td>\n",
       "      <td>200.000</td>\n",
       "      <td>4.000</td>\n",
       "      <td>3.000</td>\n",
       "    </tr>\n",
       "    <tr>\n",
       "      <th>95%</th>\n",
       "      <td>5500.000</td>\n",
       "      <td>260.000</td>\n",
       "      <td>4.000</td>\n",
       "      <td>4.000</td>\n",
       "    </tr>\n",
       "    <tr>\n",
       "      <th>99%</th>\n",
       "      <td>15000.000</td>\n",
       "      <td>449.300</td>\n",
       "      <td>6.000</td>\n",
       "      <td>4.000</td>\n",
       "    </tr>\n",
       "    <tr>\n",
       "      <th>99.9%</th>\n",
       "      <td>1746806.000</td>\n",
       "      <td>9904.200</td>\n",
       "      <td>9.386</td>\n",
       "      <td>44.000</td>\n",
       "    </tr>\n",
       "    <tr>\n",
       "      <th>max</th>\n",
       "      <td>3995000.000</td>\n",
       "      <td>50680.000</td>\n",
       "      <td>10.000</td>\n",
       "      <td>2212.000</td>\n",
       "    </tr>\n",
       "  </tbody>\n",
       "</table>\n",
       "</div>"
      ],
      "text/plain": [
       "            price    metric    rooms  bathroom\n",
       "count    2615.000  2615.000 2615.000  2615.000\n",
       "mean     7494.218   155.326    2.362     2.734\n",
       "std    113778.832  1274.894    1.254    43.328\n",
       "min        50.000     1.000    0.000     1.000\n",
       "2%        400.000    28.084    0.000     1.000\n",
       "10%       650.000    50.000    1.000     1.000\n",
       "25%       875.000    70.000    2.000     1.000\n",
       "50%      1300.000    96.000    2.000     2.000\n",
       "90%      3680.000   200.000    4.000     3.000\n",
       "95%      5500.000   260.000    4.000     4.000\n",
       "99%     15000.000   449.300    6.000     4.000\n",
       "99.9% 1746806.000  9904.200    9.386    44.000\n",
       "max   3995000.000 50680.000   10.000  2212.000"
      ]
     },
     "execution_count": 12,
     "metadata": {},
     "output_type": "execute_result"
    }
   ],
   "source": [
    "train.describe(percentiles=[0.02, 0.1, .25, .50, 0.9, 0.95, 0.99, 0.999], include=['number'])"
   ]
  },
  {
   "cell_type": "code",
   "execution_count": 13,
   "id": "17282151",
   "metadata": {},
   "outputs": [],
   "source": [
    "def remove_outlier(data: pd.DataFrame, column: str, min_value, max_value) -> pd.DataFrame:\n",
    "    return data.query(f'({column} >= @min_value) and ({column} <= @max_value)')\n"
   ]
  },
  {
   "cell_type": "markdown",
   "id": "52e10adc",
   "metadata": {},
   "source": [
    "## 2.1 bathroom"
   ]
  },
  {
   "cell_type": "code",
   "execution_count": 14,
   "id": "f5573037",
   "metadata": {},
   "outputs": [
    {
     "name": "stdout",
     "output_type": "stream",
     "text": [
      "min_bath: 1.0, Max_price: 4.0\n"
     ]
    }
   ],
   "source": [
    "min_bath = np.percentile(train.bathroom, 0.02)\n",
    "max_bath = np.percentile(train.bathroom, 99)\n",
    "print(f'min_bath: {min_bath}, Max_price: {max_bath}')"
   ]
  },
  {
   "cell_type": "code",
   "execution_count": 15,
   "id": "67591c84",
   "metadata": {},
   "outputs": [],
   "source": [
    "train = remove_outlier(train, 'bathroom', min_bath, max_bath)"
   ]
  },
  {
   "cell_type": "code",
   "execution_count": 16,
   "id": "aa7eef85",
   "metadata": {},
   "outputs": [
    {
     "data": {
      "image/png": "[encoded data removed]",
      "text/plain": [
       "<Figure size 1000x600 with 1 Axes>"
      ]
     },
     "metadata": {},
     "output_type": "display_data"
    }
   ],
   "source": [
    "sns.histplot(train.bathroom);"
   ]
  },
  {
   "cell_type": "markdown",
   "id": "577c5475",
   "metadata": {},
   "source": [
    "## 2.2 Price"
   ]
  },
  {
   "cell_type": "code",
   "execution_count": 17,
   "id": "561a0b7b",
   "metadata": {},
   "outputs": [
    {
     "name": "stdout",
     "output_type": "stream",
     "text": [
      "Min_price: 55.202, Max_price: 18590.999999999894\n"
     ]
    }
   ],
   "source": [
    "min_price = np.percentile(train.price, 0.02)\n",
    "max_price = np.percentile(train.price, 99.1)\n",
    "print(f'Min_price: {min_price}, Max_price: {max_price}')"
   ]
  },
  {
   "cell_type": "code",
   "execution_count": 18,
   "id": "886a96cb",
   "metadata": {},
   "outputs": [],
   "source": [
    "train = remove_outlier(train, 'price', min_price, max_price)"
   ]
  },
  {
   "cell_type": "markdown",
   "id": "26e06795",
   "metadata": {},
   "source": [
    "## 2.3 Metric"
   ]
  },
  {
   "cell_type": "code",
   "execution_count": 19,
   "id": "99f9caa9",
   "metadata": {},
   "outputs": [
    {
     "name": "stdout",
     "output_type": "stream",
     "text": [
      "Min_price: 1.0, Max_price: 10652.800000008529\n"
     ]
    }
   ],
   "source": [
    "min_metric = np.percentile(train.metric, 0.02)\n",
    "max_metric = np.percentile(train.metric, 99.9)\n",
    "print(f'Min_price: {min_metric}, Max_price: {max_metric}')"
   ]
  },
  {
   "cell_type": "code",
   "execution_count": 20,
   "id": "1e3e0777",
   "metadata": {},
   "outputs": [],
   "source": [
    "train = remove_outlier(train, 'metric', min_metric, max_metric)"
   ]
  },
  {
   "cell_type": "code",
   "execution_count": 21,
   "id": "4d8bca66",
   "metadata": {},
   "outputs": [
    {
     "data": {
      "text/html": [
       "<div>\n",
       "<style scoped>\n",
       "    .dataframe tbody tr th:only-of-type {\n",
       "        vertical-align: middle;\n",
       "    }\n",
       "\n",
       "    .dataframe tbody tr th {\n",
       "        vertical-align: top;\n",
       "    }\n",
       "\n",
       "    .dataframe thead th {\n",
       "        text-align: right;\n",
       "    }\n",
       "</style>\n",
       "<table border=\"1\" class=\"dataframe\">\n",
       "  <thead>\n",
       "    <tr style=\"text-align: right;\">\n",
       "      <th></th>\n",
       "      <th>price</th>\n",
       "      <th>energy_certify</th>\n",
       "      <th>metric</th>\n",
       "      <th>description</th>\n",
       "      <th>location</th>\n",
       "      <th>rooms</th>\n",
       "      <th>company</th>\n",
       "      <th>property_type</th>\n",
       "      <th>district</th>\n",
       "      <th>bathroom</th>\n",
       "      <th>condition</th>\n",
       "    </tr>\n",
       "  </thead>\n",
       "  <tbody>\n",
       "    <tr>\n",
       "      <th>1979</th>\n",
       "      <td>1200</td>\n",
       "      <td>C</td>\n",
       "      <td>70.000</td>\n",
       "      <td>T2 em Campolide</td>\n",
       "      <td>Campolide, Lisboa</td>\n",
       "      <td>2</td>\n",
       "      <td>Quartier</td>\n",
       "      <td>apartamento</td>\n",
       "      <td>Lisboa</td>\n",
       "      <td>1.000</td>\n",
       "      <td>Usado</td>\n",
       "    </tr>\n",
       "    <tr>\n",
       "      <th>901</th>\n",
       "      <td>700</td>\n",
       "      <td>D</td>\n",
       "      <td>87.200</td>\n",
       "      <td>Apartamento T2 em condominio com piscina (Aloj...</td>\n",
       "      <td>Conceição e Cabanas de Tavira, Tavira, Faro</td>\n",
       "      <td>2</td>\n",
       "      <td>WORK DIGITAL SUN, UNIPESSOAL, LDA</td>\n",
       "      <td>apartamento</td>\n",
       "      <td>Faro</td>\n",
       "      <td>2.000</td>\n",
       "      <td>Usado</td>\n",
       "    </tr>\n",
       "    <tr>\n",
       "      <th>2681</th>\n",
       "      <td>850</td>\n",
       "      <td>C</td>\n",
       "      <td>42.000</td>\n",
       "      <td>TO mobilado _ Edifício Alameda nas Antas (Porto)</td>\n",
       "      <td>Campanhã, Porto</td>\n",
       "      <td>0</td>\n",
       "      <td>OLX</td>\n",
       "      <td>apartamento</td>\n",
       "      <td>Porto</td>\n",
       "      <td>1.000</td>\n",
       "      <td>Novo</td>\n",
       "    </tr>\n",
       "    <tr>\n",
       "      <th>696</th>\n",
       "      <td>750</td>\n",
       "      <td>C</td>\n",
       "      <td>85.000</td>\n",
       "      <td>Alugo T2 na zona da Macro</td>\n",
       "      <td>Nogueira, Fraião e Lamaçães, Braga</td>\n",
       "      <td>2</td>\n",
       "      <td>OLX</td>\n",
       "      <td>apartamento</td>\n",
       "      <td>Braga</td>\n",
       "      <td>1.000</td>\n",
       "      <td>Renovado</td>\n",
       "    </tr>\n",
       "    <tr>\n",
       "      <th>803</th>\n",
       "      <td>390</td>\n",
       "      <td>E</td>\n",
       "      <td>97.200</td>\n",
       "      <td>Apartamento T3 para arrendamento</td>\n",
       "      <td>Poiares (Santo André), Vila Nova de Poiares, C...</td>\n",
       "      <td>3</td>\n",
       "      <td>NA</td>\n",
       "      <td>apartamento</td>\n",
       "      <td>Coimbra</td>\n",
       "      <td>1.000</td>\n",
       "      <td>None</td>\n",
       "    </tr>\n",
       "  </tbody>\n",
       "</table>\n",
       "</div>"
      ],
      "text/plain": [
       "      price energy_certify  metric  \\\n",
       "1979   1200              C  70.000   \n",
       "901     700              D  87.200   \n",
       "2681    850              C  42.000   \n",
       "696     750              C  85.000   \n",
       "803     390              E  97.200   \n",
       "\n",
       "                                            description  \\\n",
       "1979                                    T2 em Campolide   \n",
       "901   Apartamento T2 em condominio com piscina (Aloj...   \n",
       "2681   TO mobilado _ Edifício Alameda nas Antas (Porto)   \n",
       "696                           Alugo T2 na zona da Macro   \n",
       "803                    Apartamento T3 para arrendamento   \n",
       "\n",
       "                                               location  rooms  \\\n",
       "1979                                  Campolide, Lisboa      2   \n",
       "901         Conceição e Cabanas de Tavira, Tavira, Faro      2   \n",
       "2681                                    Campanhã, Porto      0   \n",
       "696                  Nogueira, Fraião e Lamaçães, Braga      2   \n",
       "803   Poiares (Santo André), Vila Nova de Poiares, C...      3   \n",
       "\n",
       "                                company property_type district  bathroom  \\\n",
       "1979                           Quartier   apartamento   Lisboa     1.000   \n",
       "901   WORK DIGITAL SUN, UNIPESSOAL, LDA   apartamento     Faro     2.000   \n",
       "2681                                OLX   apartamento    Porto     1.000   \n",
       "696                                 OLX   apartamento    Braga     1.000   \n",
       "803                                  NA   apartamento  Coimbra     1.000   \n",
       "\n",
       "     condition  \n",
       "1979     Usado  \n",
       "901      Usado  \n",
       "2681      Novo  \n",
       "696   Renovado  \n",
       "803       None  "
      ]
     },
     "execution_count": 21,
     "metadata": {},
     "output_type": "execute_result"
    }
   ],
   "source": [
    "train.head()"
   ]
  },
  {
   "cell_type": "markdown",
   "id": "d3121891",
   "metadata": {},
   "source": [
    "# 2.4 condition"
   ]
  },
  {
   "cell_type": "code",
   "execution_count": 22,
   "id": "a14ae7ee",
   "metadata": {},
   "outputs": [],
   "source": [
    "train.condition = train.condition.fillna('Usado')"
   ]
  },
  {
   "cell_type": "markdown",
   "id": "3671171f",
   "metadata": {},
   "source": [
    "## 2.5 Rooms"
   ]
  },
  {
   "cell_type": "code",
   "execution_count": 23,
   "id": "217251ef",
   "metadata": {},
   "outputs": [
    {
     "data": {
      "image/png": "[encoded data removed]",
      "text/plain": [
       "<Figure size 1000x600 with 1 Axes>"
      ]
     },
     "metadata": {},
     "output_type": "display_data"
    }
   ],
   "source": [
    "# Create a distplot\n",
    "sns.regplot(x='rooms',\n",
    "             y='price',\n",
    "             data=train)\n",
    "\n",
    "# Display the plot\n",
    "plt.show()"
   ]
  },
  {
   "cell_type": "markdown",
   "id": "cc4938dc",
   "metadata": {},
   "source": [
    "# Save Train Data"
   ]
  },
  {
   "cell_type": "code",
   "execution_count": 24,
   "id": "41601a36",
   "metadata": {},
   "outputs": [],
   "source": [
    "assert train.isna().sum().sum() == 0\n",
    "\n",
    "train.to_parquet('../data/processed/train.parquet')"
   ]
  },
  {
   "cell_type": "markdown",
   "id": "86412870",
   "metadata": {},
   "source": [
    "# Val"
   ]
  },
  {
   "cell_type": "code",
   "execution_count": 25,
   "id": "e0bfc10c",
   "metadata": {},
   "outputs": [
    {
     "data": {
      "text/html": [
       "<div>\n",
       "<style scoped>\n",
       "    .dataframe tbody tr th:only-of-type {\n",
       "        vertical-align: middle;\n",
       "    }\n",
       "\n",
       "    .dataframe tbody tr th {\n",
       "        vertical-align: top;\n",
       "    }\n",
       "\n",
       "    .dataframe thead th {\n",
       "        text-align: right;\n",
       "    }\n",
       "</style>\n",
       "<table border=\"1\" class=\"dataframe\">\n",
       "  <thead>\n",
       "    <tr style=\"text-align: right;\">\n",
       "      <th></th>\n",
       "      <th>price</th>\n",
       "      <th>energy_certify</th>\n",
       "      <th>metric</th>\n",
       "      <th>description</th>\n",
       "      <th>location</th>\n",
       "      <th>rooms</th>\n",
       "      <th>company</th>\n",
       "      <th>property_type</th>\n",
       "      <th>district</th>\n",
       "      <th>bathroom</th>\n",
       "      <th>condition</th>\n",
       "    </tr>\n",
       "  </thead>\n",
       "  <tbody>\n",
       "    <tr>\n",
       "      <th>4130</th>\n",
       "      <td>1600</td>\n",
       "      <td>B-</td>\n",
       "      <td>113.000</td>\n",
       "      <td>Apartamento T2 em Miraflores com dois lugares ...</td>\n",
       "      <td>Algés, Linda-a-Velha e Cruz Quebrada-Dafundo, ...</td>\n",
       "      <td>2</td>\n",
       "      <td>KW Lead1</td>\n",
       "      <td>apartamento</td>\n",
       "      <td>Lisboa</td>\n",
       "      <td>2.000</td>\n",
       "      <td>None</td>\n",
       "    </tr>\n",
       "    <tr>\n",
       "      <th>4720</th>\n",
       "      <td>1850</td>\n",
       "      <td>B-</td>\n",
       "      <td>146.000</td>\n",
       "      <td>Apartamento T3 - Varanda - Vista de rio - Luga...</td>\n",
       "      <td>Moscavide e Portela, Loures, Lisboa</td>\n",
       "      <td>3</td>\n",
       "      <td>Anúncio Particular</td>\n",
       "      <td>apartamento</td>\n",
       "      <td>Lisboa</td>\n",
       "      <td>2.000</td>\n",
       "      <td>Renovado</td>\n",
       "    </tr>\n",
       "    <tr>\n",
       "      <th>1563</th>\n",
       "      <td>5950</td>\n",
       "      <td>C</td>\n",
       "      <td>160.000</td>\n",
       "      <td>Penthouse T3 Monte Estoril, Cascais.</td>\n",
       "      <td>Cascais e Estoril, Cascais, Lisboa</td>\n",
       "      <td>3</td>\n",
       "      <td>La Vita - Homes -</td>\n",
       "      <td>apartamento</td>\n",
       "      <td>Lisboa</td>\n",
       "      <td>2.000</td>\n",
       "      <td>Usado</td>\n",
       "    </tr>\n",
       "    <tr>\n",
       "      <th>4798</th>\n",
       "      <td>2200</td>\n",
       "      <td>B</td>\n",
       "      <td>80.000</td>\n",
       "      <td>T2 Duplex no condomínio Metrocity</td>\n",
       "      <td>Parque das Nações, Lisboa</td>\n",
       "      <td>2</td>\n",
       "      <td>Sucessos Confiantes</td>\n",
       "      <td>apartamento</td>\n",
       "      <td>Lisboa</td>\n",
       "      <td>2.000</td>\n",
       "      <td>Usado</td>\n",
       "    </tr>\n",
       "    <tr>\n",
       "      <th>652</th>\n",
       "      <td>1200</td>\n",
       "      <td>D</td>\n",
       "      <td>119.400</td>\n",
       "      <td>APARTAMENTO T3 PARA ARRENDAMENTO, LAMAÇÃES</td>\n",
       "      <td>Nogueira, Fraião e Lamaçães, Braga</td>\n",
       "      <td>3</td>\n",
       "      <td>PREDIMED PORTUGAL</td>\n",
       "      <td>apartamento</td>\n",
       "      <td>Braga</td>\n",
       "      <td>NaN</td>\n",
       "      <td>None</td>\n",
       "    </tr>\n",
       "  </tbody>\n",
       "</table>\n",
       "</div>"
      ],
      "text/plain": [
       "      price energy_certify  metric  \\\n",
       "4130   1600             B- 113.000   \n",
       "4720   1850             B- 146.000   \n",
       "1563   5950              C 160.000   \n",
       "4798   2200              B  80.000   \n",
       "652    1200              D 119.400   \n",
       "\n",
       "                                            description  \\\n",
       "4130  Apartamento T2 em Miraflores com dois lugares ...   \n",
       "4720  Apartamento T3 - Varanda - Vista de rio - Luga...   \n",
       "1563               Penthouse T3 Monte Estoril, Cascais.   \n",
       "4798                  T2 Duplex no condomínio Metrocity   \n",
       "652          APARTAMENTO T3 PARA ARRENDAMENTO, LAMAÇÃES   \n",
       "\n",
       "                                               location  rooms  \\\n",
       "4130  Algés, Linda-a-Velha e Cruz Quebrada-Dafundo, ...      2   \n",
       "4720                Moscavide e Portela, Loures, Lisboa      3   \n",
       "1563                 Cascais e Estoril, Cascais, Lisboa      3   \n",
       "4798                          Parque das Nações, Lisboa      2   \n",
       "652                  Nogueira, Fraião e Lamaçães, Braga      3   \n",
       "\n",
       "                  company property_type district  bathroom condition  \n",
       "4130             KW Lead1   apartamento   Lisboa     2.000      None  \n",
       "4720   Anúncio Particular   apartamento   Lisboa     2.000  Renovado  \n",
       "1563    La Vita - Homes -   apartamento   Lisboa     2.000     Usado  \n",
       "4798  Sucessos Confiantes   apartamento   Lisboa     2.000     Usado  \n",
       "652     PREDIMED PORTUGAL   apartamento    Braga       NaN      None  "
      ]
     },
     "execution_count": 25,
     "metadata": {},
     "output_type": "execute_result"
    }
   ],
   "source": [
    "val.head()"
   ]
  },
  {
   "cell_type": "code",
   "execution_count": 26,
   "id": "c1eac59c",
   "metadata": {},
   "outputs": [
    {
     "data": {
      "text/plain": [
       "price               0\n",
       "energy_certify      0\n",
       "metric              0\n",
       "description         0\n",
       "location            0\n",
       "rooms               0\n",
       "company             0\n",
       "property_type       0\n",
       "district            0\n",
       "bathroom          129\n",
       "condition         298\n",
       "dtype: int64"
      ]
     },
     "execution_count": 26,
     "metadata": {},
     "output_type": "execute_result"
    }
   ],
   "source": [
    "val.isna().sum()"
   ]
  },
  {
   "cell_type": "code",
   "execution_count": 27,
   "id": "c8302de5",
   "metadata": {},
   "outputs": [],
   "source": [
    "val.condition = val.condition.fillna('Usado')\n",
    "val.bathroom = val.bathroom.fillna(1)"
   ]
  },
  {
   "cell_type": "code",
   "execution_count": 28,
   "id": "274ea046",
   "metadata": {},
   "outputs": [
    {
     "data": {
      "text/html": [
       "<div>\n",
       "<style scoped>\n",
       "    .dataframe tbody tr th:only-of-type {\n",
       "        vertical-align: middle;\n",
       "    }\n",
       "\n",
       "    .dataframe tbody tr th {\n",
       "        vertical-align: top;\n",
       "    }\n",
       "\n",
       "    .dataframe thead th {\n",
       "        text-align: right;\n",
       "    }\n",
       "</style>\n",
       "<table border=\"1\" class=\"dataframe\">\n",
       "  <thead>\n",
       "    <tr style=\"text-align: right;\">\n",
       "      <th></th>\n",
       "      <th>price</th>\n",
       "      <th>metric</th>\n",
       "      <th>rooms</th>\n",
       "      <th>bathroom</th>\n",
       "    </tr>\n",
       "  </thead>\n",
       "  <tbody>\n",
       "    <tr>\n",
       "      <th>count</th>\n",
       "      <td>1121.000</td>\n",
       "      <td>1121.000</td>\n",
       "      <td>1121.000</td>\n",
       "      <td>1121.000</td>\n",
       "    </tr>\n",
       "    <tr>\n",
       "      <th>mean</th>\n",
       "      <td>4453.154</td>\n",
       "      <td>122.181</td>\n",
       "      <td>2.475</td>\n",
       "      <td>1.947</td>\n",
       "    </tr>\n",
       "    <tr>\n",
       "      <th>std</th>\n",
       "      <td>34290.118</td>\n",
       "      <td>152.166</td>\n",
       "      <td>1.369</td>\n",
       "      <td>2.131</td>\n",
       "    </tr>\n",
       "    <tr>\n",
       "      <th>min</th>\n",
       "      <td>60.000</td>\n",
       "      <td>1.000</td>\n",
       "      <td>0.000</td>\n",
       "      <td>1.000</td>\n",
       "    </tr>\n",
       "    <tr>\n",
       "      <th>25%</th>\n",
       "      <td>900.000</td>\n",
       "      <td>70.000</td>\n",
       "      <td>2.000</td>\n",
       "      <td>1.000</td>\n",
       "    </tr>\n",
       "    <tr>\n",
       "      <th>50%</th>\n",
       "      <td>1350.000</td>\n",
       "      <td>96.400</td>\n",
       "      <td>2.000</td>\n",
       "      <td>2.000</td>\n",
       "    </tr>\n",
       "    <tr>\n",
       "      <th>75%</th>\n",
       "      <td>2200.000</td>\n",
       "      <td>140.000</td>\n",
       "      <td>3.000</td>\n",
       "      <td>2.000</td>\n",
       "    </tr>\n",
       "    <tr>\n",
       "      <th>max</th>\n",
       "      <td>770000.000</td>\n",
       "      <td>4058.000</td>\n",
       "      <td>10.000</td>\n",
       "      <td>42.000</td>\n",
       "    </tr>\n",
       "  </tbody>\n",
       "</table>\n",
       "</div>"
      ],
      "text/plain": [
       "           price   metric    rooms  bathroom\n",
       "count   1121.000 1121.000 1121.000  1121.000\n",
       "mean    4453.154  122.181    2.475     1.947\n",
       "std    34290.118  152.166    1.369     2.131\n",
       "min       60.000    1.000    0.000     1.000\n",
       "25%      900.000   70.000    2.000     1.000\n",
       "50%     1350.000   96.400    2.000     2.000\n",
       "75%     2200.000  140.000    3.000     2.000\n",
       "max   770000.000 4058.000   10.000    42.000"
      ]
     },
     "execution_count": 28,
     "metadata": {},
     "output_type": "execute_result"
    }
   ],
   "source": [
    "val.describe()"
   ]
  },
  {
   "cell_type": "markdown",
   "id": "60826322",
   "metadata": {},
   "source": [
    "# Save Val Data"
   ]
  },
  {
   "cell_type": "code",
   "execution_count": 29,
   "id": "2f39c529",
   "metadata": {},
   "outputs": [],
   "source": [
    "assert val.isna().sum().sum() == 0\n",
    "\n",
    "val.to_parquet('../data/processed/val.parquet')"
   ]
  },
  {
   "cell_type": "code",
   "execution_count": null,
   "id": "bc8dc555",
   "metadata": {},
   "outputs": [],
   "source": []
  }
 ],
 "metadata": {
  "kernelspec": {
   "display_name": "Python 3 (ipykernel)",
   "language": "python",
   "name": "python3"
  },
  "language_info": {
   "codemirror_mode": {
    "name": "ipython",
    "version": 3
   },
   "file_extension": ".py",
   "mimetype": "text/x-python",
   "name": "python",
   "nbconvert_exporter": "python",
   "pygments_lexer": "ipython3",
   "version": "3.9.12"
  }
 },
 "nbformat": 4,
 "nbformat_minor": 5
}
