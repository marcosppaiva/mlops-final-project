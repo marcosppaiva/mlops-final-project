{
 "cells": [
  {
   "cell_type": "code",
   "execution_count": 1,
   "metadata": {},
   "outputs": [],
   "source": [
    "import mlflow\n",
    "from mlflow import MlflowClient\n",
    "from mlflow.entities import ViewType\n"
   ]
  },
  {
   "cell_type": "code",
   "execution_count": 2,
   "metadata": {},
   "outputs": [],
   "source": [
    "MLFLOW_TRACKING_URI = 'http://54.163.199.103:5000/'\n",
    "EXPERIMENT_NAME = 'portugal-rent-price'"
   ]
  },
  {
   "cell_type": "code",
   "execution_count": 3,
   "metadata": {},
   "outputs": [],
   "source": [
    "mlflow.set_tracking_uri(MLFLOW_TRACKING_URI)"
   ]
  },
  {
   "cell_type": "code",
   "execution_count": 4,
   "metadata": {},
   "outputs": [],
   "source": [
    "client = MlflowClient(tracking_uri=MLFLOW_TRACKING_URI)"
   ]
  },
  {
   "cell_type": "code",
   "execution_count": 5,
   "metadata": {},
   "outputs": [],
   "source": [
    "query = 'tags.runtype = \"hyperparameter_tuning\"'"
   ]
  },
  {
   "cell_type": "code",
   "execution_count": 8,
   "metadata": {},
   "outputs": [],
   "source": [
    "experiment = client.get_experiment_by_name(EXPERIMENT_NAME)\n",
    "best_run = client.search_runs(\n",
    "    experiment_ids=experiment.experiment_id,\n",
    "    run_view_type=ViewType.ACTIVE_ONLY,\n",
    "    max_results=1,\n",
    "    filter_string='tags.runtype = \"best_model\"',\n",
    "    order_by=[\"metrics.rmse ASC\"],\n",
    ")[0]\n",
    "\n",
    "best_model_rmse = best_run.data.metrics['rmse']\n",
    "run_id = best_run.info.run_id"
   ]
  },
  {
   "cell_type": "code",
   "execution_count": 9,
   "metadata": {},
   "outputs": [],
   "source": [
    "model_tunnings = client.search_runs(\n",
    "            experiment_ids=[\"1\"],\n",
    "            filter_string=query,\n",
    "            order_by=[\"metrics.rmse ASC\", \"metrics.r2 DESC\"],\n",
    "            max_results=5,\n",
    "        )"
   ]
  },
  {
   "cell_type": "code",
   "execution_count": 10,
   "metadata": {},
   "outputs": [
    {
     "data": {
      "text/plain": [
       "<Run: data=<RunData: metrics={'r2': 0.6924328765364193, 'rmse': 1083.7872154557951}, params={'learning_rate': '0.27940914581222503',\n",
       " 'max_depth': '5',\n",
       " 'min_child_weight': '1.128011907112829',\n",
       " 'reg_alpha': '0.040383536932105425',\n",
       " 'reg_lambda': '0.5896272832277738',\n",
       " 'seed': '42'}, tags={'mlflow.runName': 'tasteful-carp-428',\n",
       " 'mlflow.source.git.commit': 'aa663eaf013a61d3299fdda589232a7b6bb7f0c0',\n",
       " 'mlflow.source.name': 'E:\\\\Estudos\\\\Projetos\\\\Python\\\\mlops_final_project\\\\.venv\\\\lib\\\\site-packages\\\\prefect\\\\engine.py',\n",
       " 'mlflow.source.type': 'LOCAL',\n",
       " 'mlflow.user': 'MarcosPaulo',\n",
       " 'model': 'xboostRegressor',\n",
       " 'runtype': 'hyperparameter_tuning'}>, info=<RunInfo: artifact_uri='s3://final-project-mlops/mlflow/1/9d678377214149e394e267941e634f92/artifacts', end_time=1691010202801, experiment_id='1', lifecycle_stage='active', run_id='9d678377214149e394e267941e634f92', run_name='tasteful-carp-428', run_uuid='9d678377214149e394e267941e634f92', start_time=1691010201386, status='FINISHED', user_id='MarcosPaulo'>, inputs=<RunInputs: dataset_inputs=[]>>"
      ]
     },
     "execution_count": 10,
     "metadata": {},
     "output_type": "execute_result"
    }
   ],
   "source": [
    "model_tunnings[0]"
   ]
  },
  {
   "cell_type": "code",
   "execution_count": 11,
   "metadata": {},
   "outputs": [],
   "source": [
    "best_param = model_tunnings[0].data.params"
   ]
  },
  {
   "cell_type": "code",
   "execution_count": 12,
   "metadata": {},
   "outputs": [
    {
     "data": {
      "text/plain": [
       "{'learning_rate': '0.27940914581222503',\n",
       " 'max_depth': '5',\n",
       " 'min_child_weight': '1.128011907112829',\n",
       " 'reg_alpha': '0.040383536932105425',\n",
       " 'reg_lambda': '0.5896272832277738',\n",
       " 'seed': '42'}"
      ]
     },
     "execution_count": 12,
     "metadata": {},
     "output_type": "execute_result"
    }
   ],
   "source": [
    "best_param"
   ]
  },
  {
   "cell_type": "code",
   "execution_count": 13,
   "metadata": {},
   "outputs": [],
   "source": [
    "experiment = client.get_experiment_by_name(EXPERIMENT_NAME)\n",
    "query = 'tags.runtype = \"best_model\"'\n",
    "best_run = client.search_runs(\n",
    "    experiment_ids=experiment.experiment_id,\n",
    "    run_view_type=ViewType.ACTIVE_ONLY,\n",
    "    max_results=1,\n",
    "    filter_string=query,\n",
    "    order_by=[\"metrics.rmse ASC\"],\n",
    ")[0]"
   ]
  },
  {
   "cell_type": "code",
   "execution_count": 16,
   "metadata": {},
   "outputs": [
    {
     "data": {
      "text/plain": [
       "'9990c3108cd147b88db15cc07d4b7ace'"
      ]
     },
     "execution_count": 16,
     "metadata": {},
     "output_type": "execute_result"
    }
   ],
   "source": [
    "best_run.info.run_id"
   ]
  },
  {
   "cell_type": "code",
   "execution_count": 35,
   "metadata": {},
   "outputs": [],
   "source": [
    "latest_prod_version = client.get_latest_versions(\n",
    "    EXPERIMENT_NAME, stages=[\"Production\"]\n",
    ")\n"
   ]
  },
  {
   "cell_type": "code",
   "execution_count": 40,
   "metadata": {},
   "outputs": [
    {
     "data": {
      "text/plain": [
       "'64ffbb9362c64ca2b545e04665b26075'"
      ]
     },
     "execution_count": 40,
     "metadata": {},
     "output_type": "execute_result"
    }
   ],
   "source": [
    "latest_prod_version[0].run_id"
   ]
  },
  {
   "cell_type": "code",
   "execution_count": 48,
   "metadata": {},
   "outputs": [],
   "source": [
    "prod_model = latest_prod_version[0]"
   ]
  },
  {
   "cell_type": "code",
   "execution_count": 52,
   "metadata": {},
   "outputs": [
    {
     "data": {
      "text/plain": [
       "'64ffbb9362c64ca2b545e04665b26075'"
      ]
     },
     "execution_count": 52,
     "metadata": {},
     "output_type": "execute_result"
    }
   ],
   "source": [
    "latest_prod_version[0].run_id"
   ]
  },
  {
   "cell_type": "code",
   "execution_count": 51,
   "metadata": {},
   "outputs": [
    {
     "data": {
      "text/plain": [
       "1083.7872154557951"
      ]
     },
     "execution_count": 51,
     "metadata": {},
     "output_type": "execute_result"
    }
   ],
   "source": [
    "prod_model = client.get_run(prod_model.run_id)\n",
    "prod_model.data.metrics['rmse']"
   ]
  },
  {
   "cell_type": "code",
   "execution_count": 45,
   "metadata": {},
   "outputs": [
    {
     "data": {
      "text/plain": [
       "1083.7872154557951"
      ]
     },
     "execution_count": 45,
     "metadata": {},
     "output_type": "execute_result"
    }
   ],
   "source": []
  },
  {
   "cell_type": "code",
   "execution_count": 26,
   "metadata": {},
   "outputs": [],
   "source": [
    "model_name = EXPERIMENT_NAME\n",
    "latest_versions = client.get_latest_versions(model_name)"
   ]
  },
  {
   "cell_type": "code",
   "execution_count": 27,
   "metadata": {},
   "outputs": [
    {
     "name": "stdout",
     "output_type": "stream",
     "text": [
      "version: 1, stage: Production\n",
      "<ModelVersion: aliases=[], creation_timestamp=1690975772499, current_stage='Production', description='The model version 1 was transitioned to Production on 2023-08-02', last_updated_timestamp=1690975773469, name='portugal-rent-price', run_id='64ffbb9362c64ca2b545e04665b26075', run_link='', source='s3://final-project-mlops/mlflow/1/64ffbb9362c64ca2b545e04665b26075/artifacts/models', status='READY', status_message='', tags={}, user_id='', version='1'>\n",
      "version: 3, stage: None\n",
      "<ModelVersion: aliases=[], creation_timestamp=1691010904466, current_stage='None', description='', last_updated_timestamp=1691010904466, name='portugal-rent-price', run_id='9990c3108cd147b88db15cc07d4b7ace', run_link='', source='s3://final-project-mlops/mlflow/1/9990c3108cd147b88db15cc07d4b7ace/artifacts/models', status='READY', status_message='', tags={}, user_id='', version='3'>\n"
     ]
    }
   ],
   "source": [
    "for version in latest_versions:\n",
    "    print(f\"version: {version.version}, stage: {version.current_stage}\")\n",
    "    print(version)\n"
   ]
  },
  {
   "cell_type": "code",
   "execution_count": 28,
   "metadata": {},
   "outputs": [],
   "source": [
    "model_prod_id = [version.run_id for version in latest_versions if version.current_stage == \"Production\"]"
   ]
  },
  {
   "cell_type": "code",
   "execution_count": 29,
   "metadata": {},
   "outputs": [
    {
     "data": {
      "text/plain": [
       "['64ffbb9362c64ca2b545e04665b26075']"
      ]
     },
     "execution_count": 29,
     "metadata": {},
     "output_type": "execute_result"
    }
   ],
   "source": [
    "model_prod_id"
   ]
  },
  {
   "cell_type": "code",
   "execution_count": 30,
   "metadata": {},
   "outputs": [],
   "source": [
    "prod_model = client.get_run(model_prod_id[0])"
   ]
  },
  {
   "cell_type": "code",
   "execution_count": 31,
   "metadata": {},
   "outputs": [
    {
     "data": {
      "text/plain": [
       "1083.7872154557951"
      ]
     },
     "execution_count": 31,
     "metadata": {},
     "output_type": "execute_result"
    }
   ],
   "source": [
    "prod_model.data.metrics['rmse']"
   ]
  },
  {
   "cell_type": "code",
   "execution_count": null,
   "metadata": {},
   "outputs": [],
   "source": []
  }
 ],
 "metadata": {
  "kernelspec": {
   "display_name": "Python 3 (ipykernel)",
   "language": "python",
   "name": "python3"
  },
  "language_info": {
   "codemirror_mode": {
    "name": "ipython",
    "version": 3
   },
   "file_extension": ".py",
   "mimetype": "text/x-python",
   "name": "python",
   "nbconvert_exporter": "python",
   "pygments_lexer": "ipython3",
   "version": "3.9.12"
  }
 },
 "nbformat": 4,
 "nbformat_minor": 2
}
