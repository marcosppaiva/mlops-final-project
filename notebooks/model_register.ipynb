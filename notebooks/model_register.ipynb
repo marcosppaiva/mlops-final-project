{
 "cells": [
  {
   "cell_type": "code",
   "execution_count": 25,
   "metadata": {},
   "outputs": [],
   "source": [
    "import mlflow\n",
    "from mlflow import MlflowClient\n",
    "from mlflow.entities import ViewType\n"
   ]
  },
  {
   "cell_type": "code",
   "execution_count": 2,
   "metadata": {},
   "outputs": [],
   "source": [
    "MLFLOW_TRACKING_URI = 'http://127.0.0.1:5000'\n",
    "EXPERIMENT_NAME = 'portugal-rent-price'"
   ]
  },
  {
   "cell_type": "code",
   "execution_count": 3,
   "metadata": {},
   "outputs": [],
   "source": [
    "mlflow.set_tracking_uri(MLFLOW_TRACKING_URI)"
   ]
  },
  {
   "cell_type": "code",
   "execution_count": 4,
   "metadata": {},
   "outputs": [],
   "source": [
    "client = MlflowClient(tracking_uri=MLFLOW_TRACKING_URI)"
   ]
  },
  {
   "cell_type": "code",
   "execution_count": 7,
   "metadata": {},
   "outputs": [],
   "source": [
    "query = 'tags.runtype = \"hyperparameter_tuning\"'"
   ]
  },
  {
   "cell_type": "code",
   "execution_count": 21,
   "metadata": {},
   "outputs": [],
   "source": [
    "model_tunnings = client.search_runs(\n",
    "            experiment_ids=[\"1\"],\n",
    "            filter_string=query,\n",
    "            order_by=[\"metrics.rmse ASC\", \"metrics.r2 DESC\"],\n",
    "            max_results=5,\n",
    "        )"
   ]
  },
  {
   "cell_type": "code",
   "execution_count": 22,
   "metadata": {},
   "outputs": [
    {
     "data": {
      "text/plain": [
       "<Run: data=<RunData: metrics={'r2': 0.6988719204367879, 'rmse': 1104.0525084883911}, params={'learning_rate': '0.0988686395515279',\n",
       " 'max_depth': '5',\n",
       " 'min_child_weight': '3.3709971786192416',\n",
       " 'objective': 'reg:squarederror',\n",
       " 'reg_alpha': '0.11891552093518695',\n",
       " 'reg_lambda': '0.13849211277084655',\n",
       " 'seed': '42'}, tags={'mlflow.runName': 'likeable-conch-145',\n",
       " 'mlflow.source.git.commit': '31ff8daf350dc8c1b55b5a9e93ca5b52824d532f',\n",
       " 'mlflow.source.name': '.\\\\src\\\\training\\\\train.py',\n",
       " 'mlflow.source.type': 'LOCAL',\n",
       " 'mlflow.user': 'MarcosPaulo',\n",
       " 'model': 'xboostRegressor',\n",
       " 'runtype': 'hyperparameter_tuning'}>, info=<RunInfo: artifact_uri='s3://final-project-mlops/airflow/1/bf188ed76cb04c5b9a5825cafd5811bb/artifacts', end_time=1690130235386, experiment_id='1', lifecycle_stage='active', run_id='bf188ed76cb04c5b9a5825cafd5811bb', run_name='likeable-conch-145', run_uuid='bf188ed76cb04c5b9a5825cafd5811bb', start_time=1690130235217, status='FINISHED', user_id='MarcosPaulo'>, inputs=<RunInputs: dataset_inputs=[]>>"
      ]
     },
     "execution_count": 22,
     "metadata": {},
     "output_type": "execute_result"
    }
   ],
   "source": [
    "model_tunnings[0]"
   ]
  },
  {
   "cell_type": "code",
   "execution_count": 12,
   "metadata": {},
   "outputs": [],
   "source": [
    "best_param = model_tunnings[0].data.params"
   ]
  },
  {
   "cell_type": "code",
   "execution_count": 13,
   "metadata": {},
   "outputs": [
    {
     "data": {
      "text/plain": [
       "{'learning_rate': '0.0988686395515279',\n",
       " 'max_depth': '5',\n",
       " 'min_child_weight': '3.3709971786192416',\n",
       " 'objective': 'reg:squarederror',\n",
       " 'reg_alpha': '0.11891552093518695',\n",
       " 'reg_lambda': '0.13849211277084655',\n",
       " 'seed': '42'}"
      ]
     },
     "execution_count": 13,
     "metadata": {},
     "output_type": "execute_result"
    }
   ],
   "source": [
    "best_param"
   ]
  },
  {
   "cell_type": "code",
   "execution_count": 26,
   "metadata": {},
   "outputs": [],
   "source": [
    "experiment = client.get_experiment_by_name(EXPERIMENT_NAME)\n",
    "query = 'tags.runtype = \"best_model\"'\n",
    "best_run = client.search_runs(\n",
    "    experiment_ids=experiment.experiment_id,\n",
    "    run_view_type=ViewType.ACTIVE_ONLY,\n",
    "    max_results=1,\n",
    "    filter_string=query,\n",
    "    order_by=[\"metrics.rmse ASC\"],\n",
    ")[0]"
   ]
  },
  {
   "cell_type": "code",
   "execution_count": 27,
   "metadata": {},
   "outputs": [
    {
     "data": {
      "text/plain": [
       "<Run: data=<RunData: metrics={'rmse': 2842.0227587570203}, params={'learning_rate': '0.010223292622345987',\n",
       " 'max_depth': '3',\n",
       " 'min_child_weight': '0.8738004629860953',\n",
       " 'objective': 'reg:squarederror',\n",
       " 'reg_alpha': '0.007200362321984579',\n",
       " 'reg_lambda': '0.19740775735980534',\n",
       " 'seed': '42'}, tags={'mlflow.log-model.history': '[{\"run_id\": \"b59f734d975840a5ba5198d21b6b4e83\", '\n",
       "                             '\"artifact_path\": \"models\", \"utc_time_created\": '\n",
       "                             '\"2023-07-23 16:38:47.606025\", \"flavors\": '\n",
       "                             '{\"python_function\": {\"loader_module\": '\n",
       "                             '\"mlflow.xgboost\", \"python_version\": \"3.9.12\", '\n",
       "                             '\"data\": \"model.xgb\", \"env\": {\"conda\": '\n",
       "                             '\"conda.yaml\", \"virtualenv\": \"python_env.yaml\"}}, '\n",
       "                             '\"xgboost\": {\"xgb_version\": \"1.7.6\", \"data\": '\n",
       "                             '\"model.xgb\", \"model_class\": '\n",
       "                             '\"xgboost.core.Booster\", \"model_format\": \"xgb\", '\n",
       "                             '\"code\": null}}, \"model_uuid\": '\n",
       "                             '\"df075c6df1c84678a114200e6a76b200\", '\n",
       "                             '\"mlflow_version\": \"2.4.1\"}]',\n",
       " 'mlflow.runName': 'silent-zebra-937',\n",
       " 'mlflow.source.git.commit': '31ff8daf350dc8c1b55b5a9e93ca5b52824d532f',\n",
       " 'mlflow.source.name': '.\\\\src\\\\training\\\\train.py',\n",
       " 'mlflow.source.type': 'LOCAL',\n",
       " 'mlflow.user': 'MarcosPaulo',\n",
       " 'model': 'XGBRegressor',\n",
       " 'runtype': 'best_model'}>, info=<RunInfo: artifact_uri='s3://final-project-mlops/airflow/1/b59f734d975840a5ba5198d21b6b4e83/artifacts', end_time=1690130329606, experiment_id='1', lifecycle_stage='active', run_id='b59f734d975840a5ba5198d21b6b4e83', run_name='silent-zebra-937', run_uuid='b59f734d975840a5ba5198d21b6b4e83', start_time=1690130326799, status='FINISHED', user_id='MarcosPaulo'>, inputs=<RunInputs: dataset_inputs=[]>>"
      ]
     },
     "execution_count": 27,
     "metadata": {},
     "output_type": "execute_result"
    }
   ],
   "source": [
    "best_run"
   ]
  },
  {
   "cell_type": "code",
   "execution_count": null,
   "metadata": {},
   "outputs": [],
   "source": []
  },
  {
   "cell_type": "code",
   "execution_count": null,
   "metadata": {},
   "outputs": [],
   "source": []
  },
  {
   "cell_type": "code",
   "execution_count": null,
   "metadata": {},
   "outputs": [],
   "source": []
  },
  {
   "cell_type": "code",
   "execution_count": null,
   "metadata": {},
   "outputs": [],
   "source": []
  },
  {
   "cell_type": "code",
   "execution_count": 5,
   "metadata": {},
   "outputs": [],
   "source": [
    "model_name = EXPERIMENT_NAME\n",
    "latest_versions = client.get_latest_versions(model_name)"
   ]
  },
  {
   "cell_type": "code",
   "execution_count": 6,
   "metadata": {},
   "outputs": [
    {
     "name": "stdout",
     "output_type": "stream",
     "text": [
      "version: 1, stage: Production\n",
      "<ModelVersion: aliases=[], creation_timestamp=1689533803895, current_stage='Production', description='The model version 1 was transitioned to Production on 2023-07-16', last_updated_timestamp=1689533803987, name='portugal-rent-price', run_id='3d9d5a71529743d9b2f52c86fc657510', run_link='', source='s3://final-project-mlops/airflow/1/3d9d5a71529743d9b2f52c86fc657510/artifacts/models', status='READY', status_message='', tags={}, user_id='', version='1'>\n",
      "version: 5, stage: Archived\n",
      "<ModelVersion: aliases=[], creation_timestamp=1690130329846, current_stage='Archived', description='The model version 5 was transitioned to Archived on 2023-07-23', last_updated_timestamp=1690130329971, name='portugal-rent-price', run_id='3d9d5a71529743d9b2f52c86fc657510', run_link='', source='s3://final-project-mlops/airflow/1/3d9d5a71529743d9b2f52c86fc657510/artifacts/models', status='READY', status_message='', tags={}, user_id='', version='5'>\n"
     ]
    }
   ],
   "source": [
    "for version in latest_versions:\n",
    "    print(f\"version: {version.version}, stage: {version.current_stage}\")\n",
    "    print(version)\n"
   ]
  },
  {
   "cell_type": "code",
   "execution_count": 12,
   "metadata": {},
   "outputs": [],
   "source": [
    "model_prod_id = [version.run_id for version in latest_versions if version.current_stage == \"Production\"]"
   ]
  },
  {
   "cell_type": "code",
   "execution_count": 13,
   "metadata": {},
   "outputs": [
    {
     "data": {
      "text/plain": [
       "['9eaf128191ec4d72985f202969b34b88']"
      ]
     },
     "execution_count": 13,
     "metadata": {},
     "output_type": "execute_result"
    }
   ],
   "source": [
    "model_prod_id"
   ]
  },
  {
   "cell_type": "code",
   "execution_count": 15,
   "metadata": {},
   "outputs": [],
   "source": [
    "prod_model = client.get_run(model_prod_id[0])"
   ]
  },
  {
   "cell_type": "code",
   "execution_count": 21,
   "metadata": {},
   "outputs": [
    {
     "data": {
      "text/plain": [
       "34559.642613140764"
      ]
     },
     "execution_count": 21,
     "metadata": {},
     "output_type": "execute_result"
    }
   ],
   "source": [
    "prod_model.data.metrics['rmse']"
   ]
  },
  {
   "cell_type": "code",
   "execution_count": null,
   "metadata": {},
   "outputs": [],
   "source": []
  }
 ],
 "metadata": {
  "kernelspec": {
   "display_name": "Python 3 (ipykernel)",
   "language": "python",
   "name": "python3"
  },
  "language_info": {
   "codemirror_mode": {
    "name": "ipython",
    "version": 3
   },
   "file_extension": ".py",
   "mimetype": "text/x-python",
   "name": "python",
   "nbconvert_exporter": "python",
   "pygments_lexer": "ipython3",
   "version": "3.9.12"
  }
 },
 "nbformat": 4,
 "nbformat_minor": 2
}
