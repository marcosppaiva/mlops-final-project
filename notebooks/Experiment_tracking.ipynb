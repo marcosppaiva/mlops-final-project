{
 "cells": [
  {
   "cell_type": "code",
   "execution_count": 1,
   "id": "cda447d0",
   "metadata": {},
   "outputs": [],
   "source": [
    "import pandas as pd\n",
    "import numpy as np\n",
    "import xgboost as xgb\n",
    "import mlflow\n",
    "import matplotlib.pyplot as plt\n",
    "import seaborn as sns\n",
    "import \n",
    "\n",
    "from sklearn.pipeline import Pipeline\n",
    "from sklearn.compose import ColumnTransformer\n",
    "from sklearn.model_selection import KFold, cross_val_score\n",
    "from sklearn.preprocessing import MinMaxScaler, StandardScaler, OneHotEncoder, LabelEncoder\n",
    "from sklearn.feature_extraction import DictVectorizer\n",
    "from sklearn.metrics import mean_squared_error, r2_score\n",
    "from sklearn.linear_model import LinearRegression, Ridge, Lasso, BayesianRidge\n",
    "from sklearn.ensemble import RandomForestRegressor, GradientBoostingRegressor\n",
    "from sklearn.svm import SVR\n",
    "from sklearn.neighbors import KNeighborsRegressor\n",
    "from hyperopt import fmin, tpe, hp, STATUS_OK, Trials\n",
    "from hyperopt.pyll import scope\n",
    "\n",
    "import warnings\n",
    "\n",
    "warnings.filterwarnings('ignore')"
   ]
  },
  {
   "cell_type": "markdown",
   "id": "4bfb5e8b",
   "metadata": {},
   "source": [
    "# Configs and Variables"
   ]
  },
  {
   "cell_type": "code",
   "execution_count": 2,
   "id": "5c93f6b5",
   "metadata": {},
   "outputs": [
    {
     "data": {
      "text/plain": [
       "<Experiment: artifact_location='s3://final-project-mlops/airflow/1', creation_time=1688139905984, experiment_id='1', last_update_time=1688139905984, lifecycle_stage='active', name='portugal-rent-price', tags={}>"
      ]
     },
     "execution_count": 2,
     "metadata": {},
     "output_type": "execute_result"
    }
   ],
   "source": [
    "MLFLOW_TRACKING_URI = 'http://127.0.0.1:5000'\n",
    "\n",
    "mlflow.set_tracking_uri(MLFLOW_TRACKING_URI)\n",
    "mlflow.set_experiment('portugal-rent-price')"
   ]
  },
  {
   "cell_type": "code",
   "execution_count": 3,
   "id": "67ad0834",
   "metadata": {},
   "outputs": [],
   "source": [
    "TRAIN_DATA_PATH = '../data/processed/train.parquet'\n",
    "VAL_DATA_PATH = '../data/processed/val.parquet'"
   ]
  },
  {
   "cell_type": "markdown",
   "id": "1a79cf2c",
   "metadata": {},
   "source": [
    "# Functions"
   ]
  },
  {
   "cell_type": "code",
   "execution_count": 4,
   "id": "21f24f65",
   "metadata": {},
   "outputs": [],
   "source": [
    "def read_dataset(filename: str) -> pd.DataFrame:\n",
    "    df = pd.read_parquet(filename)\n",
    "    \n",
    "    df['property_ads'] = df.company.apply(lambda x: 'private' if x == 'Anúncio Particular' else 'private')\n",
    "    \n",
    "    data = df.drop(['price'], axis=1)\n",
    "    target = df['price']\n",
    "    \n",
    "    return (data, target)"
   ]
  },
  {
   "cell_type": "code",
   "execution_count": 5,
   "id": "3e87c0d9",
   "metadata": {},
   "outputs": [],
   "source": [
    "def one_hot_encode(data, column, encoder):\n",
    "    encoded = encoder.transform(data[column])\n",
    "    ohe_df = pd.DataFrame(encoded, columns=encoder.get_feature_names_out())\n",
    "    #concat with original data\n",
    "    data = pd.concat([data, ohe_df], axis=1).drop(column, axis=1)\n",
    "\n",
    "    return data"
   ]
  },
  {
   "cell_type": "markdown",
   "id": "fe95fc5b",
   "metadata": {},
   "source": [
    "# Load Data"
   ]
  },
  {
   "cell_type": "code",
   "execution_count": 6,
   "id": "3f3cdbef",
   "metadata": {},
   "outputs": [],
   "source": [
    "X_train, y_train = read_dataset(TRAIN_DATA_PATH)\n",
    "X_val, y_val = read_dataset(VAL_DATA_PATH)"
   ]
  },
  {
   "cell_type": "code",
   "execution_count": 7,
   "id": "b22022b6",
   "metadata": {},
   "outputs": [],
   "source": [
    "# Fazer isso no pre-processamento\n",
    "X_train.reset_index(drop=True, inplace=True)\n",
    "y_train.reset_index(drop=True, inplace=True)\n",
    "X_val.reset_index(drop=True, inplace=True)\n",
    "y_val.reset_index(drop=True, inplace=True)\n"
   ]
  },
  {
   "cell_type": "code",
   "execution_count": 8,
   "id": "452a2fc2",
   "metadata": {},
   "outputs": [
    {
     "name": "stdout",
     "output_type": "stream",
     "text": [
      "Train dataset: (2555, 11)\n",
      "Val dataset: (1121, 11)\n"
     ]
    }
   ],
   "source": [
    "print('Train dataset:', X_train.shape)\n",
    "print('Val dataset:', X_val.shape)"
   ]
  },
  {
   "cell_type": "markdown",
   "id": "bec7b0f9",
   "metadata": {},
   "source": [
    "# Preparing Data"
   ]
  },
  {
   "cell_type": "code",
   "execution_count": 9,
   "id": "acd18266",
   "metadata": {},
   "outputs": [],
   "source": [
    "numb_columns = ['metric', 'rooms', 'bathroom']\n",
    "cat_columns = ['energy_certify', 'property_type', 'district', 'condition', 'property_ads']"
   ]
  },
  {
   "cell_type": "code",
   "execution_count": 10,
   "id": "0c0fab0b",
   "metadata": {},
   "outputs": [
    {
     "data": {
      "text/html": [
       "<style>#sk-container-id-1 {color: black;background-color: white;}#sk-container-id-1 pre{padding: 0;}#sk-container-id-1 div.sk-toggleable {background-color: white;}#sk-container-id-1 label.sk-toggleable__label {cursor: pointer;display: block;width: 100%;margin-bottom: 0;padding: 0.3em;box-sizing: border-box;text-align: center;}#sk-container-id-1 label.sk-toggleable__label-arrow:before {content: \"▸\";float: left;margin-right: 0.25em;color: #696969;}#sk-container-id-1 label.sk-toggleable__label-arrow:hover:before {color: black;}#sk-container-id-1 div.sk-estimator:hover label.sk-toggleable__label-arrow:before {color: black;}#sk-container-id-1 div.sk-toggleable__content {max-height: 0;max-width: 0;overflow: hidden;text-align: left;background-color: #f0f8ff;}#sk-container-id-1 div.sk-toggleable__content pre {margin: 0.2em;color: black;border-radius: 0.25em;background-color: #f0f8ff;}#sk-container-id-1 input.sk-toggleable__control:checked~div.sk-toggleable__content {max-height: 200px;max-width: 100%;overflow: auto;}#sk-container-id-1 input.sk-toggleable__control:checked~label.sk-toggleable__label-arrow:before {content: \"▾\";}#sk-container-id-1 div.sk-estimator input.sk-toggleable__control:checked~label.sk-toggleable__label {background-color: #d4ebff;}#sk-container-id-1 div.sk-label input.sk-toggleable__control:checked~label.sk-toggleable__label {background-color: #d4ebff;}#sk-container-id-1 input.sk-hidden--visually {border: 0;clip: rect(1px 1px 1px 1px);clip: rect(1px, 1px, 1px, 1px);height: 1px;margin: -1px;overflow: hidden;padding: 0;position: absolute;width: 1px;}#sk-container-id-1 div.sk-estimator {font-family: monospace;background-color: #f0f8ff;border: 1px dotted black;border-radius: 0.25em;box-sizing: border-box;margin-bottom: 0.5em;}#sk-container-id-1 div.sk-estimator:hover {background-color: #d4ebff;}#sk-container-id-1 div.sk-parallel-item::after {content: \"\";width: 100%;border-bottom: 1px solid gray;flex-grow: 1;}#sk-container-id-1 div.sk-label:hover label.sk-toggleable__label {background-color: #d4ebff;}#sk-container-id-1 div.sk-serial::before {content: \"\";position: absolute;border-left: 1px solid gray;box-sizing: border-box;top: 0;bottom: 0;left: 50%;z-index: 0;}#sk-container-id-1 div.sk-serial {display: flex;flex-direction: column;align-items: center;background-color: white;padding-right: 0.2em;padding-left: 0.2em;position: relative;}#sk-container-id-1 div.sk-item {position: relative;z-index: 1;}#sk-container-id-1 div.sk-parallel {display: flex;align-items: stretch;justify-content: center;background-color: white;position: relative;}#sk-container-id-1 div.sk-item::before, #sk-container-id-1 div.sk-parallel-item::before {content: \"\";position: absolute;border-left: 1px solid gray;box-sizing: border-box;top: 0;bottom: 0;left: 50%;z-index: -1;}#sk-container-id-1 div.sk-parallel-item {display: flex;flex-direction: column;z-index: 1;position: relative;background-color: white;}#sk-container-id-1 div.sk-parallel-item:first-child::after {align-self: flex-end;width: 50%;}#sk-container-id-1 div.sk-parallel-item:last-child::after {align-self: flex-start;width: 50%;}#sk-container-id-1 div.sk-parallel-item:only-child::after {width: 0;}#sk-container-id-1 div.sk-dashed-wrapped {border: 1px dashed gray;margin: 0 0.4em 0.5em 0.4em;box-sizing: border-box;padding-bottom: 0.4em;background-color: white;}#sk-container-id-1 div.sk-label label {font-family: monospace;font-weight: bold;display: inline-block;line-height: 1.2em;}#sk-container-id-1 div.sk-label-container {text-align: center;}#sk-container-id-1 div.sk-container {/* jupyter's `normalize.less` sets `[hidden] { display: none; }` but bootstrap.min.css set `[hidden] { display: none !important; }` so we also need the `!important` here to be able to override the default hidden behavior on the sphinx rendered scikit-learn.org. See: https://github.com/scikit-learn/scikit-learn/issues/21755 */display: inline-block !important;position: relative;}#sk-container-id-1 div.sk-text-repr-fallback {display: none;}</style><div id=\"sk-container-id-1\" class=\"sk-top-container\"><div class=\"sk-text-repr-fallback\"><pre>OneHotEncoder(drop=&#x27;first&#x27;, handle_unknown=&#x27;ignore&#x27;, sparse=False,\n",
       "              sparse_output=False)</pre><b>In a Jupyter environment, please rerun this cell to show the HTML representation or trust the notebook. <br />On GitHub, the HTML representation is unable to render, please try loading this page with nbviewer.org.</b></div><div class=\"sk-container\" hidden><div class=\"sk-item\"><div class=\"sk-estimator sk-toggleable\"><input class=\"sk-toggleable__control sk-hidden--visually\" id=\"sk-estimator-id-1\" type=\"checkbox\" checked><label for=\"sk-estimator-id-1\" class=\"sk-toggleable__label sk-toggleable__label-arrow\">OneHotEncoder</label><div class=\"sk-toggleable__content\"><pre>OneHotEncoder(drop=&#x27;first&#x27;, handle_unknown=&#x27;ignore&#x27;, sparse=False,\n",
       "              sparse_output=False)</pre></div></div></div></div></div>"
      ],
      "text/plain": [
       "OneHotEncoder(drop='first', handle_unknown='ignore', sparse=False,\n",
       "              sparse_output=False)"
      ]
     },
     "execution_count": 10,
     "metadata": {},
     "output_type": "execute_result"
    }
   ],
   "source": [
    "encoder = OneHotEncoder(handle_unknown='ignore', drop='first', sparse=False)\n",
    "encoder.fit(X_train[cat_columns])\n"
   ]
  },
  {
   "cell_type": "code",
   "execution_count": 11,
   "id": "1bdcd37b",
   "metadata": {},
   "outputs": [],
   "source": [
    "X_train_dummy = one_hot_encode(X_train, cat_columns, encoder)\n",
    "X_train_dummy.drop(['description', 'location', 'company'], inplace=True, axis=1)"
   ]
  },
  {
   "cell_type": "code",
   "execution_count": 12,
   "id": "dfc05a24",
   "metadata": {},
   "outputs": [],
   "source": [
    "scaler = StandardScaler()\n",
    "\n",
    "# Scale and Encode Separate Columns\n",
    "scaled_columns = scaler.fit_transform(X_train_dummy[numb_columns])\n",
    "X_train_dummy[numb_columns] = scaled_columns\n",
    "X_train_f = X_train_dummy.copy()\n"
   ]
  },
  {
   "cell_type": "code",
   "execution_count": 13,
   "id": "15e61e74",
   "metadata": {},
   "outputs": [],
   "source": [
    "X_val_dummy = one_hot_encode(X_val, cat_columns, encoder)\n",
    "X_val_dummy.drop(['description', 'location', 'company'], inplace=True, axis=1)"
   ]
  },
  {
   "cell_type": "code",
   "execution_count": 14,
   "id": "6800d92c",
   "metadata": {},
   "outputs": [],
   "source": [
    "X_val_dummy[numb_columns] = scaler.transform(X_val_dummy[numb_columns])\n",
    "X_val_f = X_val_dummy.copy()"
   ]
  },
  {
   "cell_type": "markdown",
   "id": "e9c98c15",
   "metadata": {},
   "source": [
    "# Start Run Models"
   ]
  },
  {
   "cell_type": "code",
   "execution_count": 15,
   "id": "4005c2b4",
   "metadata": {},
   "outputs": [],
   "source": [
    "models = {\n",
    "    'ridge' : Ridge(),\n",
    "    'xgboost' : xgb.XGBRegressor(),\n",
    "    'gradient boosting' : GradientBoostingRegressor(),\n",
    "    'lasso' : Lasso(),\n",
    "    'random forest' : RandomForestRegressor(),\n",
    "    'bayesian ridge' : BayesianRidge(),\n",
    "    'support vector': SVR(),\n",
    "    'linear regressor': LinearRegression(),\n",
    "    'knn' : KNeighborsRegressor(n_neighbors = 4)\n",
    "}"
   ]
  },
  {
   "cell_type": "code",
   "execution_count": 16,
   "id": "9b2f2caf",
   "metadata": {},
   "outputs": [
    {
     "name": "stdout",
     "output_type": "stream",
     "text": [
      "Training the model: ridge\n",
      "Training the model: xgboost\n",
      "Training the model: gradient boosting\n",
      "Training the model: lasso\n",
      "Training the model: random forest\n",
      "Training the model: bayesian ridge\n",
      "Training the model: support vector\n",
      "Training the model: linear regressor\n",
      "Training the model: knn\n"
     ]
    }
   ],
   "source": [
    "for name, model in models.items():\n",
    "\n",
    "    with mlflow.start_run():\n",
    "        mlflow.set_tag('features', 'filter_rooms')\n",
    "        mlflow.set_tag('developer', 'marcospereira')\n",
    "        mlflow.log_param('numeric_columns', numb_columns)\n",
    "        mlflow.log_param('categorical_columns', cat_columns)\n",
    "\n",
    "\n",
    "        mlflow.set_tag('model', name)\n",
    "        print(f'Training the model: {name}')\n",
    "        model.fit(X_train_f, y_train)\n",
    "\n",
    "        y_pred = model.predict(X_val_f)\n",
    "\n",
    "        rmse = mean_squared_error(y_val, y_pred, squared=False)\n",
    "        r2 = r2_score(y_val, y_pred)\n",
    "        mlflow.log_metric('rmse', rmse)\n",
    "        mlflow.log_metric('r2', r2)\n",
    "    \n"
   ]
  },
  {
   "cell_type": "code",
   "execution_count": null,
   "id": "665b9416",
   "metadata": {},
   "outputs": [],
   "source": []
  },
  {
   "cell_type": "code",
   "execution_count": 10,
   "id": "bc8cf4f6",
   "metadata": {},
   "outputs": [],
   "source": [
    "from pycaret.regression import *"
   ]
  },
  {
   "cell_type": "code",
   "execution_count": 53,
   "id": "c84b3cda",
   "metadata": {},
   "outputs": [],
   "source": [
    "data = X_train.copy()\n",
    "data['Price'] = y_train"
   ]
  },
  {
   "cell_type": "code",
   "execution_count": 55,
   "id": "40e8922e",
   "metadata": {},
   "outputs": [],
   "source": [
    "data.drop(['description', 'company', 'location'], inplace=True, axis=1)"
   ]
  },
  {
   "cell_type": "code",
   "execution_count": 56,
   "id": "d6c0f191",
   "metadata": {},
   "outputs": [
    {
     "data": {
      "text/html": [
       "<style type=\"text/css\">\n",
       "#T_02e89_row10_col1, #T_02e89_row16_col1 {\n",
       "  background-color: lightgreen;\n",
       "}\n",
       "</style>\n",
       "<table id=\"T_02e89\">\n",
       "  <thead>\n",
       "    <tr>\n",
       "      <th class=\"blank level0\" >&nbsp;</th>\n",
       "      <th id=\"T_02e89_level0_col0\" class=\"col_heading level0 col0\" >Description</th>\n",
       "      <th id=\"T_02e89_level0_col1\" class=\"col_heading level0 col1\" >Value</th>\n",
       "    </tr>\n",
       "  </thead>\n",
       "  <tbody>\n",
       "    <tr>\n",
       "      <th id=\"T_02e89_level0_row0\" class=\"row_heading level0 row0\" >0</th>\n",
       "      <td id=\"T_02e89_row0_col0\" class=\"data row0 col0\" >Session id</td>\n",
       "      <td id=\"T_02e89_row0_col1\" class=\"data row0 col1\" >6341</td>\n",
       "    </tr>\n",
       "    <tr>\n",
       "      <th id=\"T_02e89_level0_row1\" class=\"row_heading level0 row1\" >1</th>\n",
       "      <td id=\"T_02e89_row1_col0\" class=\"data row1 col0\" >Target</td>\n",
       "      <td id=\"T_02e89_row1_col1\" class=\"data row1 col1\" >Price</td>\n",
       "    </tr>\n",
       "    <tr>\n",
       "      <th id=\"T_02e89_level0_row2\" class=\"row_heading level0 row2\" >2</th>\n",
       "      <td id=\"T_02e89_row2_col0\" class=\"data row2 col0\" >Target type</td>\n",
       "      <td id=\"T_02e89_row2_col1\" class=\"data row2 col1\" >Regression</td>\n",
       "    </tr>\n",
       "    <tr>\n",
       "      <th id=\"T_02e89_level0_row3\" class=\"row_heading level0 row3\" >3</th>\n",
       "      <td id=\"T_02e89_row3_col0\" class=\"data row3 col0\" >Original data shape</td>\n",
       "      <td id=\"T_02e89_row3_col1\" class=\"data row3 col1\" >(2555, 9)</td>\n",
       "    </tr>\n",
       "    <tr>\n",
       "      <th id=\"T_02e89_level0_row4\" class=\"row_heading level0 row4\" >4</th>\n",
       "      <td id=\"T_02e89_row4_col0\" class=\"data row4 col0\" >Transformed data shape</td>\n",
       "      <td id=\"T_02e89_row4_col1\" class=\"data row4 col1\" >(2555, 41)</td>\n",
       "    </tr>\n",
       "    <tr>\n",
       "      <th id=\"T_02e89_level0_row5\" class=\"row_heading level0 row5\" >5</th>\n",
       "      <td id=\"T_02e89_row5_col0\" class=\"data row5 col0\" >Transformed train set shape</td>\n",
       "      <td id=\"T_02e89_row5_col1\" class=\"data row5 col1\" >(1788, 41)</td>\n",
       "    </tr>\n",
       "    <tr>\n",
       "      <th id=\"T_02e89_level0_row6\" class=\"row_heading level0 row6\" >6</th>\n",
       "      <td id=\"T_02e89_row6_col0\" class=\"data row6 col0\" >Transformed test set shape</td>\n",
       "      <td id=\"T_02e89_row6_col1\" class=\"data row6 col1\" >(767, 41)</td>\n",
       "    </tr>\n",
       "    <tr>\n",
       "      <th id=\"T_02e89_level0_row7\" class=\"row_heading level0 row7\" >7</th>\n",
       "      <td id=\"T_02e89_row7_col0\" class=\"data row7 col0\" >Ordinal features</td>\n",
       "      <td id=\"T_02e89_row7_col1\" class=\"data row7 col1\" >1</td>\n",
       "    </tr>\n",
       "    <tr>\n",
       "      <th id=\"T_02e89_level0_row8\" class=\"row_heading level0 row8\" >8</th>\n",
       "      <td id=\"T_02e89_row8_col0\" class=\"data row8 col0\" >Numeric features</td>\n",
       "      <td id=\"T_02e89_row8_col1\" class=\"data row8 col1\" >3</td>\n",
       "    </tr>\n",
       "    <tr>\n",
       "      <th id=\"T_02e89_level0_row9\" class=\"row_heading level0 row9\" >9</th>\n",
       "      <td id=\"T_02e89_row9_col0\" class=\"data row9 col0\" >Categorical features</td>\n",
       "      <td id=\"T_02e89_row9_col1\" class=\"data row9 col1\" >5</td>\n",
       "    </tr>\n",
       "    <tr>\n",
       "      <th id=\"T_02e89_level0_row10\" class=\"row_heading level0 row10\" >10</th>\n",
       "      <td id=\"T_02e89_row10_col0\" class=\"data row10 col0\" >Preprocess</td>\n",
       "      <td id=\"T_02e89_row10_col1\" class=\"data row10 col1\" >True</td>\n",
       "    </tr>\n",
       "    <tr>\n",
       "      <th id=\"T_02e89_level0_row11\" class=\"row_heading level0 row11\" >11</th>\n",
       "      <td id=\"T_02e89_row11_col0\" class=\"data row11 col0\" >Imputation type</td>\n",
       "      <td id=\"T_02e89_row11_col1\" class=\"data row11 col1\" >simple</td>\n",
       "    </tr>\n",
       "    <tr>\n",
       "      <th id=\"T_02e89_level0_row12\" class=\"row_heading level0 row12\" >12</th>\n",
       "      <td id=\"T_02e89_row12_col0\" class=\"data row12 col0\" >Numeric imputation</td>\n",
       "      <td id=\"T_02e89_row12_col1\" class=\"data row12 col1\" >mean</td>\n",
       "    </tr>\n",
       "    <tr>\n",
       "      <th id=\"T_02e89_level0_row13\" class=\"row_heading level0 row13\" >13</th>\n",
       "      <td id=\"T_02e89_row13_col0\" class=\"data row13 col0\" >Categorical imputation</td>\n",
       "      <td id=\"T_02e89_row13_col1\" class=\"data row13 col1\" >mode</td>\n",
       "    </tr>\n",
       "    <tr>\n",
       "      <th id=\"T_02e89_level0_row14\" class=\"row_heading level0 row14\" >14</th>\n",
       "      <td id=\"T_02e89_row14_col0\" class=\"data row14 col0\" >Maximum one-hot encoding</td>\n",
       "      <td id=\"T_02e89_row14_col1\" class=\"data row14 col1\" >25</td>\n",
       "    </tr>\n",
       "    <tr>\n",
       "      <th id=\"T_02e89_level0_row15\" class=\"row_heading level0 row15\" >15</th>\n",
       "      <td id=\"T_02e89_row15_col0\" class=\"data row15 col0\" >Encoding method</td>\n",
       "      <td id=\"T_02e89_row15_col1\" class=\"data row15 col1\" >None</td>\n",
       "    </tr>\n",
       "    <tr>\n",
       "      <th id=\"T_02e89_level0_row16\" class=\"row_heading level0 row16\" >16</th>\n",
       "      <td id=\"T_02e89_row16_col0\" class=\"data row16 col0\" >Transform target</td>\n",
       "      <td id=\"T_02e89_row16_col1\" class=\"data row16 col1\" >True</td>\n",
       "    </tr>\n",
       "    <tr>\n",
       "      <th id=\"T_02e89_level0_row17\" class=\"row_heading level0 row17\" >17</th>\n",
       "      <td id=\"T_02e89_row17_col0\" class=\"data row17 col0\" >Transform target method</td>\n",
       "      <td id=\"T_02e89_row17_col1\" class=\"data row17 col1\" >yeo-johnson</td>\n",
       "    </tr>\n",
       "    <tr>\n",
       "      <th id=\"T_02e89_level0_row18\" class=\"row_heading level0 row18\" >18</th>\n",
       "      <td id=\"T_02e89_row18_col0\" class=\"data row18 col0\" >Fold Generator</td>\n",
       "      <td id=\"T_02e89_row18_col1\" class=\"data row18 col1\" >KFold</td>\n",
       "    </tr>\n",
       "    <tr>\n",
       "      <th id=\"T_02e89_level0_row19\" class=\"row_heading level0 row19\" >19</th>\n",
       "      <td id=\"T_02e89_row19_col0\" class=\"data row19 col0\" >Fold Number</td>\n",
       "      <td id=\"T_02e89_row19_col1\" class=\"data row19 col1\" >10</td>\n",
       "    </tr>\n",
       "    <tr>\n",
       "      <th id=\"T_02e89_level0_row20\" class=\"row_heading level0 row20\" >20</th>\n",
       "      <td id=\"T_02e89_row20_col0\" class=\"data row20 col0\" >CPU Jobs</td>\n",
       "      <td id=\"T_02e89_row20_col1\" class=\"data row20 col1\" >-1</td>\n",
       "    </tr>\n",
       "    <tr>\n",
       "      <th id=\"T_02e89_level0_row21\" class=\"row_heading level0 row21\" >21</th>\n",
       "      <td id=\"T_02e89_row21_col0\" class=\"data row21 col0\" >Use GPU</td>\n",
       "      <td id=\"T_02e89_row21_col1\" class=\"data row21 col1\" >False</td>\n",
       "    </tr>\n",
       "    <tr>\n",
       "      <th id=\"T_02e89_level0_row22\" class=\"row_heading level0 row22\" >22</th>\n",
       "      <td id=\"T_02e89_row22_col0\" class=\"data row22 col0\" >Log Experiment</td>\n",
       "      <td id=\"T_02e89_row22_col1\" class=\"data row22 col1\" >False</td>\n",
       "    </tr>\n",
       "    <tr>\n",
       "      <th id=\"T_02e89_level0_row23\" class=\"row_heading level0 row23\" >23</th>\n",
       "      <td id=\"T_02e89_row23_col0\" class=\"data row23 col0\" >Experiment Name</td>\n",
       "      <td id=\"T_02e89_row23_col1\" class=\"data row23 col1\" >reg-default-name</td>\n",
       "    </tr>\n",
       "    <tr>\n",
       "      <th id=\"T_02e89_level0_row24\" class=\"row_heading level0 row24\" >24</th>\n",
       "      <td id=\"T_02e89_row24_col0\" class=\"data row24 col0\" >USI</td>\n",
       "      <td id=\"T_02e89_row24_col1\" class=\"data row24 col1\" >1100</td>\n",
       "    </tr>\n",
       "  </tbody>\n",
       "</table>\n"
      ],
      "text/plain": [
       "<pandas.io.formats.style.Styler at 0x16c9c0069a0>"
      ]
     },
     "metadata": {},
     "output_type": "display_data"
    }
   ],
   "source": [
    "s = setup(data, target='Price', transform_target=True)"
   ]
  },
  {
   "cell_type": "code",
   "execution_count": 57,
   "id": "b7d82fb0",
   "metadata": {},
   "outputs": [
    {
     "data": {
      "text/html": [],
      "text/plain": [
       "<IPython.core.display.HTML object>"
      ]
     },
     "metadata": {},
     "output_type": "display_data"
    },
    {
     "data": {
      "text/html": [
       "<style type=\"text/css\">\n",
       "#T_0085d th {\n",
       "  text-align: left;\n",
       "}\n",
       "#T_0085d_row0_col0, #T_0085d_row0_col1, #T_0085d_row0_col2, #T_0085d_row0_col3, #T_0085d_row0_col5, #T_0085d_row0_col6, #T_0085d_row1_col0, #T_0085d_row1_col1, #T_0085d_row1_col2, #T_0085d_row1_col3, #T_0085d_row1_col4, #T_0085d_row1_col5, #T_0085d_row1_col6, #T_0085d_row2_col0, #T_0085d_row2_col1, #T_0085d_row2_col2, #T_0085d_row2_col3, #T_0085d_row2_col4, #T_0085d_row2_col5, #T_0085d_row2_col6, #T_0085d_row3_col0, #T_0085d_row3_col1, #T_0085d_row3_col2, #T_0085d_row3_col3, #T_0085d_row3_col4, #T_0085d_row3_col5, #T_0085d_row3_col6, #T_0085d_row4_col0, #T_0085d_row4_col1, #T_0085d_row4_col2, #T_0085d_row4_col3, #T_0085d_row4_col4, #T_0085d_row4_col5, #T_0085d_row4_col6, #T_0085d_row5_col0, #T_0085d_row5_col1, #T_0085d_row5_col2, #T_0085d_row5_col3, #T_0085d_row5_col4, #T_0085d_row5_col5, #T_0085d_row5_col6, #T_0085d_row6_col0, #T_0085d_row6_col1, #T_0085d_row6_col2, #T_0085d_row6_col3, #T_0085d_row6_col4, #T_0085d_row6_col5, #T_0085d_row6_col6, #T_0085d_row7_col0, #T_0085d_row7_col1, #T_0085d_row7_col2, #T_0085d_row7_col3, #T_0085d_row7_col4, #T_0085d_row7_col5, #T_0085d_row7_col6, #T_0085d_row8_col0, #T_0085d_row8_col1, #T_0085d_row8_col2, #T_0085d_row8_col3, #T_0085d_row8_col4, #T_0085d_row8_col5, #T_0085d_row8_col6, #T_0085d_row9_col0, #T_0085d_row9_col1, #T_0085d_row9_col2, #T_0085d_row9_col3, #T_0085d_row9_col4, #T_0085d_row9_col5, #T_0085d_row9_col6, #T_0085d_row10_col0, #T_0085d_row10_col1, #T_0085d_row10_col2, #T_0085d_row10_col3, #T_0085d_row10_col4, #T_0085d_row10_col5, #T_0085d_row10_col6, #T_0085d_row11_col0, #T_0085d_row11_col4, #T_0085d_row12_col0, #T_0085d_row12_col1, #T_0085d_row12_col2, #T_0085d_row12_col3, #T_0085d_row12_col4, #T_0085d_row12_col5, #T_0085d_row12_col6, #T_0085d_row13_col0, #T_0085d_row13_col1, #T_0085d_row13_col2, #T_0085d_row13_col3, #T_0085d_row13_col4, #T_0085d_row13_col5, #T_0085d_row13_col6, #T_0085d_row14_col0, #T_0085d_row14_col1, #T_0085d_row14_col2, #T_0085d_row14_col3, #T_0085d_row14_col4, #T_0085d_row14_col5, #T_0085d_row14_col6, #T_0085d_row15_col0, #T_0085d_row15_col1, #T_0085d_row15_col2, #T_0085d_row15_col3, #T_0085d_row15_col4, #T_0085d_row15_col5, #T_0085d_row15_col6, #T_0085d_row16_col0, #T_0085d_row16_col1, #T_0085d_row16_col2, #T_0085d_row16_col3, #T_0085d_row16_col4, #T_0085d_row16_col5, #T_0085d_row16_col6, #T_0085d_row17_col0, #T_0085d_row17_col1, #T_0085d_row17_col2, #T_0085d_row17_col3, #T_0085d_row17_col4, #T_0085d_row17_col5, #T_0085d_row17_col6, #T_0085d_row18_col0, #T_0085d_row18_col1, #T_0085d_row18_col2, #T_0085d_row18_col3, #T_0085d_row18_col4, #T_0085d_row18_col5, #T_0085d_row18_col6 {\n",
       "  text-align: left;\n",
       "}\n",
       "#T_0085d_row0_col4, #T_0085d_row11_col1, #T_0085d_row11_col2, #T_0085d_row11_col3, #T_0085d_row11_col5, #T_0085d_row11_col6 {\n",
       "  text-align: left;\n",
       "  background-color: yellow;\n",
       "}\n",
       "#T_0085d_row0_col7, #T_0085d_row1_col7, #T_0085d_row2_col7, #T_0085d_row3_col7, #T_0085d_row4_col7, #T_0085d_row5_col7, #T_0085d_row7_col7, #T_0085d_row8_col7, #T_0085d_row9_col7, #T_0085d_row10_col7, #T_0085d_row11_col7, #T_0085d_row12_col7, #T_0085d_row13_col7, #T_0085d_row14_col7, #T_0085d_row15_col7, #T_0085d_row16_col7, #T_0085d_row17_col7, #T_0085d_row18_col7 {\n",
       "  text-align: left;\n",
       "  background-color: lightgrey;\n",
       "}\n",
       "#T_0085d_row6_col7 {\n",
       "  text-align: left;\n",
       "  background-color: yellow;\n",
       "  background-color: lightgrey;\n",
       "}\n",
       "</style>\n",
       "<table id=\"T_0085d\">\n",
       "  <thead>\n",
       "    <tr>\n",
       "      <th class=\"blank level0\" >&nbsp;</th>\n",
       "      <th id=\"T_0085d_level0_col0\" class=\"col_heading level0 col0\" >Model</th>\n",
       "      <th id=\"T_0085d_level0_col1\" class=\"col_heading level0 col1\" >MAE</th>\n",
       "      <th id=\"T_0085d_level0_col2\" class=\"col_heading level0 col2\" >MSE</th>\n",
       "      <th id=\"T_0085d_level0_col3\" class=\"col_heading level0 col3\" >RMSE</th>\n",
       "      <th id=\"T_0085d_level0_col4\" class=\"col_heading level0 col4\" >R2</th>\n",
       "      <th id=\"T_0085d_level0_col5\" class=\"col_heading level0 col5\" >RMSLE</th>\n",
       "      <th id=\"T_0085d_level0_col6\" class=\"col_heading level0 col6\" >MAPE</th>\n",
       "      <th id=\"T_0085d_level0_col7\" class=\"col_heading level0 col7\" >TT (Sec)</th>\n",
       "    </tr>\n",
       "  </thead>\n",
       "  <tbody>\n",
       "    <tr>\n",
       "      <th id=\"T_0085d_level0_row0\" class=\"row_heading level0 row0\" >gbr</th>\n",
       "      <td id=\"T_0085d_row0_col0\" class=\"data row0 col0\" >Gradient Boosting Regressor</td>\n",
       "      <td id=\"T_0085d_row0_col1\" class=\"data row0 col1\" >554.3544</td>\n",
       "      <td id=\"T_0085d_row0_col2\" class=\"data row0 col2\" >1140484.6030</td>\n",
       "      <td id=\"T_0085d_row0_col3\" class=\"data row0 col3\" >1044.4215</td>\n",
       "      <td id=\"T_0085d_row0_col4\" class=\"data row0 col4\" >0.6332</td>\n",
       "      <td id=\"T_0085d_row0_col5\" class=\"data row0 col5\" >0.3945</td>\n",
       "      <td id=\"T_0085d_row0_col6\" class=\"data row0 col6\" >0.3160</td>\n",
       "      <td id=\"T_0085d_row0_col7\" class=\"data row0 col7\" >0.0650</td>\n",
       "    </tr>\n",
       "    <tr>\n",
       "      <th id=\"T_0085d_level0_row1\" class=\"row_heading level0 row1\" >lightgbm</th>\n",
       "      <td id=\"T_0085d_row1_col0\" class=\"data row1 col0\" >Light Gradient Boosting Machine</td>\n",
       "      <td id=\"T_0085d_row1_col1\" class=\"data row1 col1\" >565.5778</td>\n",
       "      <td id=\"T_0085d_row1_col2\" class=\"data row1 col2\" >1153426.3236</td>\n",
       "      <td id=\"T_0085d_row1_col3\" class=\"data row1 col3\" >1050.9838</td>\n",
       "      <td id=\"T_0085d_row1_col4\" class=\"data row1 col4\" >0.6286</td>\n",
       "      <td id=\"T_0085d_row1_col5\" class=\"data row1 col5\" >0.4013</td>\n",
       "      <td id=\"T_0085d_row1_col6\" class=\"data row1 col6\" >0.3247</td>\n",
       "      <td id=\"T_0085d_row1_col7\" class=\"data row1 col7\" >0.0480</td>\n",
       "    </tr>\n",
       "    <tr>\n",
       "      <th id=\"T_0085d_level0_row2\" class=\"row_heading level0 row2\" >rf</th>\n",
       "      <td id=\"T_0085d_row2_col0\" class=\"data row2 col0\" >Random Forest Regressor</td>\n",
       "      <td id=\"T_0085d_row2_col1\" class=\"data row2 col1\" >575.0345</td>\n",
       "      <td id=\"T_0085d_row2_col2\" class=\"data row2 col2\" >1219382.4209</td>\n",
       "      <td id=\"T_0085d_row2_col3\" class=\"data row2 col3\" >1079.5857</td>\n",
       "      <td id=\"T_0085d_row2_col4\" class=\"data row2 col4\" >0.6051</td>\n",
       "      <td id=\"T_0085d_row2_col5\" class=\"data row2 col5\" >0.4177</td>\n",
       "      <td id=\"T_0085d_row2_col6\" class=\"data row2 col6\" >0.3394</td>\n",
       "      <td id=\"T_0085d_row2_col7\" class=\"data row2 col7\" >0.0950</td>\n",
       "    </tr>\n",
       "    <tr>\n",
       "      <th id=\"T_0085d_level0_row3\" class=\"row_heading level0 row3\" >xgboost</th>\n",
       "      <td id=\"T_0085d_row3_col0\" class=\"data row3 col0\" >Extreme Gradient Boosting</td>\n",
       "      <td id=\"T_0085d_row3_col1\" class=\"data row3 col1\" >578.2415</td>\n",
       "      <td id=\"T_0085d_row3_col2\" class=\"data row3 col2\" >1241637.4841</td>\n",
       "      <td id=\"T_0085d_row3_col3\" class=\"data row3 col3\" >1099.7477</td>\n",
       "      <td id=\"T_0085d_row3_col4\" class=\"data row3 col4\" >0.5712</td>\n",
       "      <td id=\"T_0085d_row3_col5\" class=\"data row3 col5\" >0.4232</td>\n",
       "      <td id=\"T_0085d_row3_col6\" class=\"data row3 col6\" >0.3470</td>\n",
       "      <td id=\"T_0085d_row3_col7\" class=\"data row3 col7\" >0.0690</td>\n",
       "    </tr>\n",
       "    <tr>\n",
       "      <th id=\"T_0085d_level0_row4\" class=\"row_heading level0 row4\" >lr</th>\n",
       "      <td id=\"T_0085d_row4_col0\" class=\"data row4 col0\" >Linear Regression</td>\n",
       "      <td id=\"T_0085d_row4_col1\" class=\"data row4 col1\" >523.2331</td>\n",
       "      <td id=\"T_0085d_row4_col2\" class=\"data row4 col2\" >1169574.1177</td>\n",
       "      <td id=\"T_0085d_row4_col3\" class=\"data row4 col3\" >1005.2378</td>\n",
       "      <td id=\"T_0085d_row4_col4\" class=\"data row4 col4\" >0.5373</td>\n",
       "      <td id=\"T_0085d_row4_col5\" class=\"data row4 col5\" >0.3558</td>\n",
       "      <td id=\"T_0085d_row4_col6\" class=\"data row4 col6\" >0.2818</td>\n",
       "      <td id=\"T_0085d_row4_col7\" class=\"data row4 col7\" >0.0360</td>\n",
       "    </tr>\n",
       "    <tr>\n",
       "      <th id=\"T_0085d_level0_row5\" class=\"row_heading level0 row5\" >ridge</th>\n",
       "      <td id=\"T_0085d_row5_col0\" class=\"data row5 col0\" >Ridge Regression</td>\n",
       "      <td id=\"T_0085d_row5_col1\" class=\"data row5 col1\" >523.3342</td>\n",
       "      <td id=\"T_0085d_row5_col2\" class=\"data row5 col2\" >1172249.3726</td>\n",
       "      <td id=\"T_0085d_row5_col3\" class=\"data row5 col3\" >1006.3117</td>\n",
       "      <td id=\"T_0085d_row5_col4\" class=\"data row5 col4\" >0.5366</td>\n",
       "      <td id=\"T_0085d_row5_col5\" class=\"data row5 col5\" >0.3553</td>\n",
       "      <td id=\"T_0085d_row5_col6\" class=\"data row5 col6\" >0.2814</td>\n",
       "      <td id=\"T_0085d_row5_col7\" class=\"data row5 col7\" >0.0360</td>\n",
       "    </tr>\n",
       "    <tr>\n",
       "      <th id=\"T_0085d_level0_row6\" class=\"row_heading level0 row6\" >br</th>\n",
       "      <td id=\"T_0085d_row6_col0\" class=\"data row6 col0\" >Bayesian Ridge</td>\n",
       "      <td id=\"T_0085d_row6_col1\" class=\"data row6 col1\" >523.6362</td>\n",
       "      <td id=\"T_0085d_row6_col2\" class=\"data row6 col2\" >1176051.1627</td>\n",
       "      <td id=\"T_0085d_row6_col3\" class=\"data row6 col3\" >1007.8685</td>\n",
       "      <td id=\"T_0085d_row6_col4\" class=\"data row6 col4\" >0.5356</td>\n",
       "      <td id=\"T_0085d_row6_col5\" class=\"data row6 col5\" >0.3555</td>\n",
       "      <td id=\"T_0085d_row6_col6\" class=\"data row6 col6\" >0.2813</td>\n",
       "      <td id=\"T_0085d_row6_col7\" class=\"data row6 col7\" >0.0340</td>\n",
       "    </tr>\n",
       "    <tr>\n",
       "      <th id=\"T_0085d_level0_row7\" class=\"row_heading level0 row7\" >et</th>\n",
       "      <td id=\"T_0085d_row7_col0\" class=\"data row7 col0\" >Extra Trees Regressor</td>\n",
       "      <td id=\"T_0085d_row7_col1\" class=\"data row7 col1\" >614.1763</td>\n",
       "      <td id=\"T_0085d_row7_col2\" class=\"data row7 col2\" >1396718.3101</td>\n",
       "      <td id=\"T_0085d_row7_col3\" class=\"data row7 col3\" >1158.7520</td>\n",
       "      <td id=\"T_0085d_row7_col4\" class=\"data row7 col4\" >0.5301</td>\n",
       "      <td id=\"T_0085d_row7_col5\" class=\"data row7 col5\" >0.4598</td>\n",
       "      <td id=\"T_0085d_row7_col6\" class=\"data row7 col6\" >0.3719</td>\n",
       "      <td id=\"T_0085d_row7_col7\" class=\"data row7 col7\" >0.1000</td>\n",
       "    </tr>\n",
       "    <tr>\n",
       "      <th id=\"T_0085d_level0_row8\" class=\"row_heading level0 row8\" >omp</th>\n",
       "      <td id=\"T_0085d_row8_col0\" class=\"data row8 col0\" >Orthogonal Matching Pursuit</td>\n",
       "      <td id=\"T_0085d_row8_col1\" class=\"data row8 col1\" >579.2343</td>\n",
       "      <td id=\"T_0085d_row8_col2\" class=\"data row8 col2\" >1378088.0588</td>\n",
       "      <td id=\"T_0085d_row8_col3\" class=\"data row8 col3\" >1087.5639</td>\n",
       "      <td id=\"T_0085d_row8_col4\" class=\"data row8 col4\" >0.4792</td>\n",
       "      <td id=\"T_0085d_row8_col5\" class=\"data row8 col5\" >0.4032</td>\n",
       "      <td id=\"T_0085d_row8_col6\" class=\"data row8 col6\" >0.3287</td>\n",
       "      <td id=\"T_0085d_row8_col7\" class=\"data row8 col7\" >0.0370</td>\n",
       "    </tr>\n",
       "    <tr>\n",
       "      <th id=\"T_0085d_level0_row9\" class=\"row_heading level0 row9\" >huber</th>\n",
       "      <td id=\"T_0085d_row9_col0\" class=\"data row9 col0\" >Huber Regressor</td>\n",
       "      <td id=\"T_0085d_row9_col1\" class=\"data row9 col1\" >526.4687</td>\n",
       "      <td id=\"T_0085d_row9_col2\" class=\"data row9 col2\" >1347258.9713</td>\n",
       "      <td id=\"T_0085d_row9_col3\" class=\"data row9 col3\" >1060.2040</td>\n",
       "      <td id=\"T_0085d_row9_col4\" class=\"data row9 col4\" >0.4773</td>\n",
       "      <td id=\"T_0085d_row9_col5\" class=\"data row9 col5\" >0.3658</td>\n",
       "      <td id=\"T_0085d_row9_col6\" class=\"data row9 col6\" >0.2908</td>\n",
       "      <td id=\"T_0085d_row9_col7\" class=\"data row9 col7\" >0.0380</td>\n",
       "    </tr>\n",
       "    <tr>\n",
       "      <th id=\"T_0085d_level0_row10\" class=\"row_heading level0 row10\" >ada</th>\n",
       "      <td id=\"T_0085d_row10_col0\" class=\"data row10 col0\" >AdaBoost Regressor</td>\n",
       "      <td id=\"T_0085d_row10_col1\" class=\"data row10 col1\" >680.2853</td>\n",
       "      <td id=\"T_0085d_row10_col2\" class=\"data row10 col2\" >1713347.0792</td>\n",
       "      <td id=\"T_0085d_row10_col3\" class=\"data row10 col3\" >1279.2329</td>\n",
       "      <td id=\"T_0085d_row10_col4\" class=\"data row10 col4\" >0.4590</td>\n",
       "      <td id=\"T_0085d_row10_col5\" class=\"data row10 col5\" >0.4705</td>\n",
       "      <td id=\"T_0085d_row10_col6\" class=\"data row10 col6\" >0.3686</td>\n",
       "      <td id=\"T_0085d_row10_col7\" class=\"data row10 col7\" >0.0530</td>\n",
       "    </tr>\n",
       "    <tr>\n",
       "      <th id=\"T_0085d_level0_row11\" class=\"row_heading level0 row11\" >lar</th>\n",
       "      <td id=\"T_0085d_row11_col0\" class=\"data row11 col0\" >Least Angle Regression</td>\n",
       "      <td id=\"T_0085d_row11_col1\" class=\"data row11 col1\" >412.5876</td>\n",
       "      <td id=\"T_0085d_row11_col2\" class=\"data row11 col2\" >963898.9840</td>\n",
       "      <td id=\"T_0085d_row11_col3\" class=\"data row11 col3\" >805.2099</td>\n",
       "      <td id=\"T_0085d_row11_col4\" class=\"data row11 col4\" >0.4317</td>\n",
       "      <td id=\"T_0085d_row11_col5\" class=\"data row11 col5\" >0.2747</td>\n",
       "      <td id=\"T_0085d_row11_col6\" class=\"data row11 col6\" >0.2187</td>\n",
       "      <td id=\"T_0085d_row11_col7\" class=\"data row11 col7\" >0.0350</td>\n",
       "    </tr>\n",
       "    <tr>\n",
       "      <th id=\"T_0085d_level0_row12\" class=\"row_heading level0 row12\" >knn</th>\n",
       "      <td id=\"T_0085d_row12_col0\" class=\"data row12 col0\" >K Neighbors Regressor</td>\n",
       "      <td id=\"T_0085d_row12_col1\" class=\"data row12 col1\" >759.3781</td>\n",
       "      <td id=\"T_0085d_row12_col2\" class=\"data row12 col2\" >1925402.6668</td>\n",
       "      <td id=\"T_0085d_row12_col3\" class=\"data row12 col3\" >1361.0419</td>\n",
       "      <td id=\"T_0085d_row12_col4\" class=\"data row12 col4\" >0.3847</td>\n",
       "      <td id=\"T_0085d_row12_col5\" class=\"data row12 col5\" >0.5272</td>\n",
       "      <td id=\"T_0085d_row12_col6\" class=\"data row12 col6\" >0.4762</td>\n",
       "      <td id=\"T_0085d_row12_col7\" class=\"data row12 col7\" >0.0350</td>\n",
       "    </tr>\n",
       "    <tr>\n",
       "      <th id=\"T_0085d_level0_row13\" class=\"row_heading level0 row13\" >dt</th>\n",
       "      <td id=\"T_0085d_row13_col0\" class=\"data row13 col0\" >Decision Tree Regressor</td>\n",
       "      <td id=\"T_0085d_row13_col1\" class=\"data row13 col1\" >711.9614</td>\n",
       "      <td id=\"T_0085d_row13_col2\" class=\"data row13 col2\" >1784976.8307</td>\n",
       "      <td id=\"T_0085d_row13_col3\" class=\"data row13 col3\" >1318.6393</td>\n",
       "      <td id=\"T_0085d_row13_col4\" class=\"data row13 col4\" >0.3781</td>\n",
       "      <td id=\"T_0085d_row13_col5\" class=\"data row13 col5\" >0.5270</td>\n",
       "      <td id=\"T_0085d_row13_col6\" class=\"data row13 col6\" >0.4373</td>\n",
       "      <td id=\"T_0085d_row13_col7\" class=\"data row13 col7\" >0.0370</td>\n",
       "    </tr>\n",
       "    <tr>\n",
       "      <th id=\"T_0085d_level0_row14\" class=\"row_heading level0 row14\" >en</th>\n",
       "      <td id=\"T_0085d_row14_col0\" class=\"data row14 col0\" >Elastic Net</td>\n",
       "      <td id=\"T_0085d_row14_col1\" class=\"data row14 col1\" >788.5593</td>\n",
       "      <td id=\"T_0085d_row14_col2\" class=\"data row14 col2\" >2401808.9962</td>\n",
       "      <td id=\"T_0085d_row14_col3\" class=\"data row14 col3\" >1448.9360</td>\n",
       "      <td id=\"T_0085d_row14_col4\" class=\"data row14 col4\" >0.1503</td>\n",
       "      <td id=\"T_0085d_row14_col5\" class=\"data row14 col5\" >0.5310</td>\n",
       "      <td id=\"T_0085d_row14_col6\" class=\"data row14 col6\" >0.4489</td>\n",
       "      <td id=\"T_0085d_row14_col7\" class=\"data row14 col7\" >0.0360</td>\n",
       "    </tr>\n",
       "    <tr>\n",
       "      <th id=\"T_0085d_level0_row15\" class=\"row_heading level0 row15\" >lasso</th>\n",
       "      <td id=\"T_0085d_row15_col0\" class=\"data row15 col0\" >Lasso Regression</td>\n",
       "      <td id=\"T_0085d_row15_col1\" class=\"data row15 col1\" >791.8485</td>\n",
       "      <td id=\"T_0085d_row15_col2\" class=\"data row15 col2\" >2431760.2906</td>\n",
       "      <td id=\"T_0085d_row15_col3\" class=\"data row15 col3\" >1458.3510</td>\n",
       "      <td id=\"T_0085d_row15_col4\" class=\"data row15 col4\" >0.1402</td>\n",
       "      <td id=\"T_0085d_row15_col5\" class=\"data row15 col5\" >0.5353</td>\n",
       "      <td id=\"T_0085d_row15_col6\" class=\"data row15 col6\" >0.4507</td>\n",
       "      <td id=\"T_0085d_row15_col7\" class=\"data row15 col7\" >0.0360</td>\n",
       "    </tr>\n",
       "    <tr>\n",
       "      <th id=\"T_0085d_level0_row16\" class=\"row_heading level0 row16\" >llar</th>\n",
       "      <td id=\"T_0085d_row16_col0\" class=\"data row16 col0\" >Lasso Least Angle Regression</td>\n",
       "      <td id=\"T_0085d_row16_col1\" class=\"data row16 col1\" >791.8485</td>\n",
       "      <td id=\"T_0085d_row16_col2\" class=\"data row16 col2\" >2431760.2906</td>\n",
       "      <td id=\"T_0085d_row16_col3\" class=\"data row16 col3\" >1458.3510</td>\n",
       "      <td id=\"T_0085d_row16_col4\" class=\"data row16 col4\" >0.1402</td>\n",
       "      <td id=\"T_0085d_row16_col5\" class=\"data row16 col5\" >0.5353</td>\n",
       "      <td id=\"T_0085d_row16_col6\" class=\"data row16 col6\" >0.4507</td>\n",
       "      <td id=\"T_0085d_row16_col7\" class=\"data row16 col7\" >0.0350</td>\n",
       "    </tr>\n",
       "    <tr>\n",
       "      <th id=\"T_0085d_level0_row17\" class=\"row_heading level0 row17\" >dummy</th>\n",
       "      <td id=\"T_0085d_row17_col0\" class=\"data row17 col0\" >Dummy Regressor</td>\n",
       "      <td id=\"T_0085d_row17_col1\" class=\"data row17 col1\" >972.3636</td>\n",
       "      <td id=\"T_0085d_row17_col2\" class=\"data row17 col2\" >3334977.0481</td>\n",
       "      <td id=\"T_0085d_row17_col3\" class=\"data row17 col3\" >1799.4914</td>\n",
       "      <td id=\"T_0085d_row17_col4\" class=\"data row17 col4\" >-0.0811</td>\n",
       "      <td id=\"T_0085d_row17_col5\" class=\"data row17 col5\" >0.6894</td>\n",
       "      <td id=\"T_0085d_row17_col6\" class=\"data row17 col6\" >0.5715</td>\n",
       "      <td id=\"T_0085d_row17_col7\" class=\"data row17 col7\" >0.0460</td>\n",
       "    </tr>\n",
       "    <tr>\n",
       "      <th id=\"T_0085d_level0_row18\" class=\"row_heading level0 row18\" >par</th>\n",
       "      <td id=\"T_0085d_row18_col0\" class=\"data row18 col0\" >Passive Aggressive Regressor</td>\n",
       "      <td id=\"T_0085d_row18_col1\" class=\"data row18 col1\" >1000060.2306</td>\n",
       "      <td id=\"T_0085d_row18_col2\" class=\"data row18 col2\" >1756167378846568.2500</td>\n",
       "      <td id=\"T_0085d_row18_col3\" class=\"data row18 col3\" >13326086.7568</td>\n",
       "      <td id=\"T_0085d_row18_col4\" class=\"data row18 col4\" >-401675478.0056</td>\n",
       "      <td id=\"T_0085d_row18_col5\" class=\"data row18 col5\" >0.6303</td>\n",
       "      <td id=\"T_0085d_row18_col6\" class=\"data row18 col6\" >67.6148</td>\n",
       "      <td id=\"T_0085d_row18_col7\" class=\"data row18 col7\" >0.0370</td>\n",
       "    </tr>\n",
       "  </tbody>\n",
       "</table>\n"
      ],
      "text/plain": [
       "<pandas.io.formats.style.Styler at 0x16c8dbf9af0>"
      ]
     },
     "metadata": {},
     "output_type": "display_data"
    },
    {
     "data": {
      "text/html": [],
      "text/plain": [
       "<IPython.core.display.HTML object>"
      ]
     },
     "metadata": {},
     "output_type": "display_data"
    }
   ],
   "source": [
    "best = compare_models()"
   ]
  },
  {
   "cell_type": "code",
   "execution_count": 62,
   "id": "c966fd5f",
   "metadata": {},
   "outputs": [
    {
     "data": {
      "text/html": [],
      "text/plain": [
       "<IPython.core.display.HTML object>"
      ]
     },
     "metadata": {},
     "output_type": "display_data"
    },
    {
     "data": {
      "application/vnd.jupyter.widget-view+json": {
       "model_id": "fb9aa2398c474cfa80ea9e11b8381986",
       "version_major": 2,
       "version_minor": 0
      },
      "text/plain": [
       "VBox(children=(HBox(children=(TukeyAnscombeWidget({\n",
       "    'data': [{'hovertemplate': 'Split=train<br>Predictions…"
      ]
     },
     "metadata": {},
     "output_type": "display_data"
    }
   ],
   "source": [
    "plot_model(best, plot = 'residuals_interactive')\n"
   ]
  },
  {
   "cell_type": "code",
   "execution_count": 63,
   "id": "d51f8592",
   "metadata": {},
   "outputs": [
    {
     "data": {
      "text/html": [],
      "text/plain": [
       "<IPython.core.display.HTML object>"
      ]
     },
     "metadata": {},
     "output_type": "display_data"
    },
    {
     "data": {
      "image/png": "[encoded data removed]",
      "text/plain": [
       "<Figure size 800x500 with 1 Axes>"
      ]
     },
     "metadata": {},
     "output_type": "display_data"
    }
   ],
   "source": [
    "plot_model(best, plot = 'feature')\n"
   ]
  },
  {
   "cell_type": "code",
   "execution_count": 64,
   "id": "c14e5dcc",
   "metadata": {},
   "outputs": [],
   "source": [
    "# finalize the model\n",
    "final_best = finalize_model(best)"
   ]
  },
  {
   "cell_type": "code",
   "execution_count": 65,
   "id": "3ff57829",
   "metadata": {},
   "outputs": [
    {
     "data": {
      "text/html": [
       "<style>#sk-container-id-4 {color: black;background-color: white;}#sk-container-id-4 pre{padding: 0;}#sk-container-id-4 div.sk-toggleable {background-color: white;}#sk-container-id-4 label.sk-toggleable__label {cursor: pointer;display: block;width: 100%;margin-bottom: 0;padding: 0.3em;box-sizing: border-box;text-align: center;}#sk-container-id-4 label.sk-toggleable__label-arrow:before {content: \"▸\";float: left;margin-right: 0.25em;color: #696969;}#sk-container-id-4 label.sk-toggleable__label-arrow:hover:before {color: black;}#sk-container-id-4 div.sk-estimator:hover label.sk-toggleable__label-arrow:before {color: black;}#sk-container-id-4 div.sk-toggleable__content {max-height: 0;max-width: 0;overflow: hidden;text-align: left;background-color: #f0f8ff;}#sk-container-id-4 div.sk-toggleable__content pre {margin: 0.2em;color: black;border-radius: 0.25em;background-color: #f0f8ff;}#sk-container-id-4 input.sk-toggleable__control:checked~div.sk-toggleable__content {max-height: 200px;max-width: 100%;overflow: auto;}#sk-container-id-4 input.sk-toggleable__control:checked~label.sk-toggleable__label-arrow:before {content: \"▾\";}#sk-container-id-4 div.sk-estimator input.sk-toggleable__control:checked~label.sk-toggleable__label {background-color: #d4ebff;}#sk-container-id-4 div.sk-label input.sk-toggleable__control:checked~label.sk-toggleable__label {background-color: #d4ebff;}#sk-container-id-4 input.sk-hidden--visually {border: 0;clip: rect(1px 1px 1px 1px);clip: rect(1px, 1px, 1px, 1px);height: 1px;margin: -1px;overflow: hidden;padding: 0;position: absolute;width: 1px;}#sk-container-id-4 div.sk-estimator {font-family: monospace;background-color: #f0f8ff;border: 1px dotted black;border-radius: 0.25em;box-sizing: border-box;margin-bottom: 0.5em;}#sk-container-id-4 div.sk-estimator:hover {background-color: #d4ebff;}#sk-container-id-4 div.sk-parallel-item::after {content: \"\";width: 100%;border-bottom: 1px solid gray;flex-grow: 1;}#sk-container-id-4 div.sk-label:hover label.sk-toggleable__label {background-color: #d4ebff;}#sk-container-id-4 div.sk-serial::before {content: \"\";position: absolute;border-left: 1px solid gray;box-sizing: border-box;top: 0;bottom: 0;left: 50%;z-index: 0;}#sk-container-id-4 div.sk-serial {display: flex;flex-direction: column;align-items: center;background-color: white;padding-right: 0.2em;padding-left: 0.2em;position: relative;}#sk-container-id-4 div.sk-item {position: relative;z-index: 1;}#sk-container-id-4 div.sk-parallel {display: flex;align-items: stretch;justify-content: center;background-color: white;position: relative;}#sk-container-id-4 div.sk-item::before, #sk-container-id-4 div.sk-parallel-item::before {content: \"\";position: absolute;border-left: 1px solid gray;box-sizing: border-box;top: 0;bottom: 0;left: 50%;z-index: -1;}#sk-container-id-4 div.sk-parallel-item {display: flex;flex-direction: column;z-index: 1;position: relative;background-color: white;}#sk-container-id-4 div.sk-parallel-item:first-child::after {align-self: flex-end;width: 50%;}#sk-container-id-4 div.sk-parallel-item:last-child::after {align-self: flex-start;width: 50%;}#sk-container-id-4 div.sk-parallel-item:only-child::after {width: 0;}#sk-container-id-4 div.sk-dashed-wrapped {border: 1px dashed gray;margin: 0 0.4em 0.5em 0.4em;box-sizing: border-box;padding-bottom: 0.4em;background-color: white;}#sk-container-id-4 div.sk-label label {font-family: monospace;font-weight: bold;display: inline-block;line-height: 1.2em;}#sk-container-id-4 div.sk-label-container {text-align: center;}#sk-container-id-4 div.sk-container {/* jupyter's `normalize.less` sets `[hidden] { display: none; }` but bootstrap.min.css set `[hidden] { display: none !important; }` so we also need the `!important` here to be able to override the default hidden behavior on the sphinx rendered scikit-learn.org. See: https://github.com/scikit-learn/scikit-learn/issues/21755 */display: inline-block !important;position: relative;}#sk-container-id-4 div.sk-text-repr-fallback {display: none;}</style><div id=\"sk-container-id-4\" class=\"sk-top-container\"><div class=\"sk-text-repr-fallback\"><pre>Pipeline(memory=FastMemory(location=C:\\Users\\MARCOS~1\\AppData\\Local\\Temp\\joblib),\n",
       "         steps=[(&#x27;target_transformation&#x27;,\n",
       "                 TransformerWrapperWithInverse(transformer=TargetTransformer(estimator=PowerTransformer(standardize=False)))),\n",
       "                (&#x27;numerical_imputer&#x27;,\n",
       "                 TransformerWrapper(include=[&#x27;metric&#x27;, &#x27;rooms&#x27;, &#x27;bathroom&#x27;],\n",
       "                                    transformer=SimpleImputer())),\n",
       "                (&#x27;categorical_impute...\n",
       "                                                                         &#x27;mapping&#x27;: apartamento    0\n",
       "moradia        1\n",
       "NaN           -1\n",
       "dtype: int64}]))),\n",
       "                (&#x27;onehot_encoding&#x27;,\n",
       "                 TransformerWrapper(include=[&#x27;energy_certify&#x27;, &#x27;district&#x27;,\n",
       "                                             &#x27;condition&#x27;, &#x27;property_ads&#x27;],\n",
       "                                    transformer=OneHotEncoder(cols=[&#x27;energy_certify&#x27;,\n",
       "                                                                    &#x27;district&#x27;,\n",
       "                                                                    &#x27;condition&#x27;,\n",
       "                                                                    &#x27;property_ads&#x27;],\n",
       "                                                              handle_missing=&#x27;return_nan&#x27;,\n",
       "                                                              use_cat_names=True))),\n",
       "                (&#x27;actual_estimator&#x27;,\n",
       "                 GradientBoostingRegressor(random_state=6341))])</pre><b>In a Jupyter environment, please rerun this cell to show the HTML representation or trust the notebook. <br />On GitHub, the HTML representation is unable to render, please try loading this page with nbviewer.org.</b></div><div class=\"sk-container\" hidden><div class=\"sk-item sk-dashed-wrapped\"><div class=\"sk-label-container\"><div class=\"sk-label sk-toggleable\"><input class=\"sk-toggleable__control sk-hidden--visually\" id=\"sk-estimator-id-61\" type=\"checkbox\" ><label for=\"sk-estimator-id-61\" class=\"sk-toggleable__label sk-toggleable__label-arrow\">Pipeline</label><div class=\"sk-toggleable__content\"><pre>Pipeline(memory=FastMemory(location=C:\\Users\\MARCOS~1\\AppData\\Local\\Temp\\joblib),\n",
       "         steps=[(&#x27;target_transformation&#x27;,\n",
       "                 TransformerWrapperWithInverse(transformer=TargetTransformer(estimator=PowerTransformer(standardize=False)))),\n",
       "                (&#x27;numerical_imputer&#x27;,\n",
       "                 TransformerWrapper(include=[&#x27;metric&#x27;, &#x27;rooms&#x27;, &#x27;bathroom&#x27;],\n",
       "                                    transformer=SimpleImputer())),\n",
       "                (&#x27;categorical_impute...\n",
       "                                                                         &#x27;mapping&#x27;: apartamento    0\n",
       "moradia        1\n",
       "NaN           -1\n",
       "dtype: int64}]))),\n",
       "                (&#x27;onehot_encoding&#x27;,\n",
       "                 TransformerWrapper(include=[&#x27;energy_certify&#x27;, &#x27;district&#x27;,\n",
       "                                             &#x27;condition&#x27;, &#x27;property_ads&#x27;],\n",
       "                                    transformer=OneHotEncoder(cols=[&#x27;energy_certify&#x27;,\n",
       "                                                                    &#x27;district&#x27;,\n",
       "                                                                    &#x27;condition&#x27;,\n",
       "                                                                    &#x27;property_ads&#x27;],\n",
       "                                                              handle_missing=&#x27;return_nan&#x27;,\n",
       "                                                              use_cat_names=True))),\n",
       "                (&#x27;actual_estimator&#x27;,\n",
       "                 GradientBoostingRegressor(random_state=6341))])</pre></div></div></div><div class=\"sk-serial\"><div class=\"sk-item sk-dashed-wrapped\"><div class=\"sk-label-container\"><div class=\"sk-label sk-toggleable\"><input class=\"sk-toggleable__control sk-hidden--visually\" id=\"sk-estimator-id-62\" type=\"checkbox\" ><label for=\"sk-estimator-id-62\" class=\"sk-toggleable__label sk-toggleable__label-arrow\">target_transformation: TransformerWrapperWithInverse</label><div class=\"sk-toggleable__content\"><pre>TransformerWrapperWithInverse(transformer=TargetTransformer(estimator=PowerTransformer(standardize=False)))</pre></div></div></div><div class=\"sk-parallel\"><div class=\"sk-parallel-item\"><div class=\"sk-item\"><div class=\"sk-label-container\"><div class=\"sk-label sk-toggleable\"><input class=\"sk-toggleable__control sk-hidden--visually\" id=\"sk-estimator-id-63\" type=\"checkbox\" ><label for=\"sk-estimator-id-63\" class=\"sk-toggleable__label sk-toggleable__label-arrow\">transformer: TargetTransformer</label><div class=\"sk-toggleable__content\"><pre>TargetTransformer(estimator=PowerTransformer(standardize=False))</pre></div></div></div><div class=\"sk-serial\"><div class=\"sk-item sk-dashed-wrapped\"><div class=\"sk-parallel\"><div class=\"sk-parallel-item\"><div class=\"sk-item\"><div class=\"sk-label-container\"><div class=\"sk-label sk-toggleable\"><input class=\"sk-toggleable__control sk-hidden--visually\" id=\"sk-estimator-id-64\" type=\"checkbox\" ><label for=\"sk-estimator-id-64\" class=\"sk-toggleable__label sk-toggleable__label-arrow\">estimator: PowerTransformer</label><div class=\"sk-toggleable__content\"><pre>PowerTransformer(standardize=False)</pre></div></div></div><div class=\"sk-serial\"><div class=\"sk-item\"><div class=\"sk-estimator sk-toggleable\"><input class=\"sk-toggleable__control sk-hidden--visually\" id=\"sk-estimator-id-65\" type=\"checkbox\" ><label for=\"sk-estimator-id-65\" class=\"sk-toggleable__label sk-toggleable__label-arrow\">PowerTransformer</label><div class=\"sk-toggleable__content\"><pre>PowerTransformer(standardize=False)</pre></div></div></div></div></div></div></div></div></div></div></div></div></div><div class=\"sk-item sk-dashed-wrapped\"><div class=\"sk-label-container\"><div class=\"sk-label sk-toggleable\"><input class=\"sk-toggleable__control sk-hidden--visually\" id=\"sk-estimator-id-66\" type=\"checkbox\" ><label for=\"sk-estimator-id-66\" class=\"sk-toggleable__label sk-toggleable__label-arrow\">numerical_imputer: TransformerWrapper</label><div class=\"sk-toggleable__content\"><pre>TransformerWrapper(include=[&#x27;metric&#x27;, &#x27;rooms&#x27;, &#x27;bathroom&#x27;],\n",
       "                   transformer=SimpleImputer())</pre></div></div></div><div class=\"sk-parallel\"><div class=\"sk-parallel-item\"><div class=\"sk-item\"><div class=\"sk-label-container\"><div class=\"sk-label sk-toggleable\"><input class=\"sk-toggleable__control sk-hidden--visually\" id=\"sk-estimator-id-67\" type=\"checkbox\" ><label for=\"sk-estimator-id-67\" class=\"sk-toggleable__label sk-toggleable__label-arrow\">transformer: SimpleImputer</label><div class=\"sk-toggleable__content\"><pre>SimpleImputer()</pre></div></div></div><div class=\"sk-serial\"><div class=\"sk-item\"><div class=\"sk-estimator sk-toggleable\"><input class=\"sk-toggleable__control sk-hidden--visually\" id=\"sk-estimator-id-68\" type=\"checkbox\" ><label for=\"sk-estimator-id-68\" class=\"sk-toggleable__label sk-toggleable__label-arrow\">SimpleImputer</label><div class=\"sk-toggleable__content\"><pre>SimpleImputer()</pre></div></div></div></div></div></div></div></div><div class=\"sk-item sk-dashed-wrapped\"><div class=\"sk-label-container\"><div class=\"sk-label sk-toggleable\"><input class=\"sk-toggleable__control sk-hidden--visually\" id=\"sk-estimator-id-69\" type=\"checkbox\" ><label for=\"sk-estimator-id-69\" class=\"sk-toggleable__label sk-toggleable__label-arrow\">categorical_imputer: TransformerWrapper</label><div class=\"sk-toggleable__content\"><pre>TransformerWrapper(include=[&#x27;energy_certify&#x27;, &#x27;property_type&#x27;, &#x27;district&#x27;,\n",
       "                            &#x27;condition&#x27;, &#x27;property_ads&#x27;],\n",
       "                   transformer=SimpleImputer(strategy=&#x27;most_frequent&#x27;))</pre></div></div></div><div class=\"sk-parallel\"><div class=\"sk-parallel-item\"><div class=\"sk-item\"><div class=\"sk-label-container\"><div class=\"sk-label sk-toggleable\"><input class=\"sk-toggleable__control sk-hidden--visually\" id=\"sk-estimator-id-70\" type=\"checkbox\" ><label for=\"sk-estimator-id-70\" class=\"sk-toggleable__label sk-toggleable__label-arrow\">transformer: SimpleImputer</label><div class=\"sk-toggleable__content\"><pre>SimpleImputer(strategy=&#x27;most_frequent&#x27;)</pre></div></div></div><div class=\"sk-serial\"><div class=\"sk-item\"><div class=\"sk-estimator sk-toggleable\"><input class=\"sk-toggleable__control sk-hidden--visually\" id=\"sk-estimator-id-71\" type=\"checkbox\" ><label for=\"sk-estimator-id-71\" class=\"sk-toggleable__label sk-toggleable__label-arrow\">SimpleImputer</label><div class=\"sk-toggleable__content\"><pre>SimpleImputer(strategy=&#x27;most_frequent&#x27;)</pre></div></div></div></div></div></div></div></div><div class=\"sk-item sk-dashed-wrapped\"><div class=\"sk-label-container\"><div class=\"sk-label sk-toggleable\"><input class=\"sk-toggleable__control sk-hidden--visually\" id=\"sk-estimator-id-72\" type=\"checkbox\" ><label for=\"sk-estimator-id-72\" class=\"sk-toggleable__label sk-toggleable__label-arrow\">ordinal_encoding: TransformerWrapper</label><div class=\"sk-toggleable__content\"><pre>TransformerWrapper(include=[&#x27;property_type&#x27;],\n",
       "                   transformer=OrdinalEncoder(cols=[&#x27;property_type&#x27;],\n",
       "                                              handle_missing=&#x27;return_nan&#x27;,\n",
       "                                              mapping=[{&#x27;col&#x27;: &#x27;property_type&#x27;,\n",
       "                                                        &#x27;data_type&#x27;: dtype(&#x27;O&#x27;),\n",
       "                                                        &#x27;mapping&#x27;: apartamento    0\n",
       "moradia        1\n",
       "NaN           -1\n",
       "dtype: int64}]))</pre></div></div></div><div class=\"sk-parallel\"><div class=\"sk-parallel-item\"><div class=\"sk-item\"><div class=\"sk-label-container\"><div class=\"sk-label sk-toggleable\"><input class=\"sk-toggleable__control sk-hidden--visually\" id=\"sk-estimator-id-73\" type=\"checkbox\" ><label for=\"sk-estimator-id-73\" class=\"sk-toggleable__label sk-toggleable__label-arrow\">transformer: OrdinalEncoder</label><div class=\"sk-toggleable__content\"><pre>OrdinalEncoder(cols=[&#x27;property_type&#x27;], handle_missing=&#x27;return_nan&#x27;,\n",
       "               mapping=[{&#x27;col&#x27;: &#x27;property_type&#x27;, &#x27;data_type&#x27;: dtype(&#x27;O&#x27;),\n",
       "                         &#x27;mapping&#x27;: apartamento    0\n",
       "moradia        1\n",
       "NaN           -1\n",
       "dtype: int64}])</pre></div></div></div><div class=\"sk-serial\"><div class=\"sk-item\"><div class=\"sk-estimator sk-toggleable\"><input class=\"sk-toggleable__control sk-hidden--visually\" id=\"sk-estimator-id-74\" type=\"checkbox\" ><label for=\"sk-estimator-id-74\" class=\"sk-toggleable__label sk-toggleable__label-arrow\">OrdinalEncoder</label><div class=\"sk-toggleable__content\"><pre>OrdinalEncoder(cols=[&#x27;property_type&#x27;], handle_missing=&#x27;return_nan&#x27;,\n",
       "               mapping=[{&#x27;col&#x27;: &#x27;property_type&#x27;, &#x27;data_type&#x27;: dtype(&#x27;O&#x27;),\n",
       "                         &#x27;mapping&#x27;: apartamento    0\n",
       "moradia        1\n",
       "NaN           -1\n",
       "dtype: int64}])</pre></div></div></div></div></div></div></div></div><div class=\"sk-item sk-dashed-wrapped\"><div class=\"sk-label-container\"><div class=\"sk-label sk-toggleable\"><input class=\"sk-toggleable__control sk-hidden--visually\" id=\"sk-estimator-id-75\" type=\"checkbox\" ><label for=\"sk-estimator-id-75\" class=\"sk-toggleable__label sk-toggleable__label-arrow\">onehot_encoding: TransformerWrapper</label><div class=\"sk-toggleable__content\"><pre>TransformerWrapper(include=[&#x27;energy_certify&#x27;, &#x27;district&#x27;, &#x27;condition&#x27;,\n",
       "                            &#x27;property_ads&#x27;],\n",
       "                   transformer=OneHotEncoder(cols=[&#x27;energy_certify&#x27;, &#x27;district&#x27;,\n",
       "                                                   &#x27;condition&#x27;,\n",
       "                                                   &#x27;property_ads&#x27;],\n",
       "                                             handle_missing=&#x27;return_nan&#x27;,\n",
       "                                             use_cat_names=True))</pre></div></div></div><div class=\"sk-parallel\"><div class=\"sk-parallel-item\"><div class=\"sk-item\"><div class=\"sk-label-container\"><div class=\"sk-label sk-toggleable\"><input class=\"sk-toggleable__control sk-hidden--visually\" id=\"sk-estimator-id-76\" type=\"checkbox\" ><label for=\"sk-estimator-id-76\" class=\"sk-toggleable__label sk-toggleable__label-arrow\">transformer: OneHotEncoder</label><div class=\"sk-toggleable__content\"><pre>OneHotEncoder(cols=[&#x27;energy_certify&#x27;, &#x27;district&#x27;, &#x27;condition&#x27;, &#x27;property_ads&#x27;],\n",
       "              handle_missing=&#x27;return_nan&#x27;, use_cat_names=True)</pre></div></div></div><div class=\"sk-serial\"><div class=\"sk-item\"><div class=\"sk-estimator sk-toggleable\"><input class=\"sk-toggleable__control sk-hidden--visually\" id=\"sk-estimator-id-77\" type=\"checkbox\" ><label for=\"sk-estimator-id-77\" class=\"sk-toggleable__label sk-toggleable__label-arrow\">OneHotEncoder</label><div class=\"sk-toggleable__content\"><pre>OneHotEncoder(cols=[&#x27;energy_certify&#x27;, &#x27;district&#x27;, &#x27;condition&#x27;, &#x27;property_ads&#x27;],\n",
       "              handle_missing=&#x27;return_nan&#x27;, use_cat_names=True)</pre></div></div></div></div></div></div></div></div><div class=\"sk-item\"><div class=\"sk-estimator sk-toggleable\"><input class=\"sk-toggleable__control sk-hidden--visually\" id=\"sk-estimator-id-78\" type=\"checkbox\" ><label for=\"sk-estimator-id-78\" class=\"sk-toggleable__label sk-toggleable__label-arrow\">GradientBoostingRegressor</label><div class=\"sk-toggleable__content\"><pre>GradientBoostingRegressor(random_state=6341)</pre></div></div></div></div></div></div></div>"
      ],
      "text/plain": [
       "Pipeline(memory=FastMemory(location=C:\\Users\\MARCOS~1\\AppData\\Local\\Temp\\joblib),\n",
       "         steps=[('target_transformation',\n",
       "                 TransformerWrapperWithInverse(transformer=TargetTransformer(estimator=PowerTransformer(standardize=False)))),\n",
       "                ('numerical_imputer',\n",
       "                 TransformerWrapper(include=['metric', 'rooms', 'bathroom'],\n",
       "                                    transformer=SimpleImputer())),\n",
       "                ('categorical_impute...\n",
       "                                                                         'mapping': apartamento    0\n",
       "moradia        1\n",
       "NaN           -1\n",
       "dtype: int64}]))),\n",
       "                ('onehot_encoding',\n",
       "                 TransformerWrapper(include=['energy_certify', 'district',\n",
       "                                             'condition', 'property_ads'],\n",
       "                                    transformer=OneHotEncoder(cols=['energy_certify',\n",
       "                                                                    'district',\n",
       "                                                                    'condition',\n",
       "                                                                    'property_ads'],\n",
       "                                                              handle_missing='return_nan',\n",
       "                                                              use_cat_names=True))),\n",
       "                ('actual_estimator',\n",
       "                 GradientBoostingRegressor(random_state=6341))])"
      ]
     },
     "execution_count": 65,
     "metadata": {},
     "output_type": "execute_result"
    }
   ],
   "source": [
    "final_best"
   ]
  },
  {
   "cell_type": "code",
   "execution_count": 66,
   "id": "e27b6802",
   "metadata": {},
   "outputs": [],
   "source": [
    "y_pred = final_best.predict(X_val.drop(['description', 'company', 'location'], axis=1))"
   ]
  },
  {
   "cell_type": "code",
   "execution_count": 67,
   "id": "25cb8c34",
   "metadata": {},
   "outputs": [
    {
     "data": {
      "text/plain": [
       "0"
      ]
     },
     "execution_count": 67,
     "metadata": {},
     "output_type": "execute_result"
    }
   ],
   "source": [
    "y_pred.isna().sum()"
   ]
  },
  {
   "cell_type": "code",
   "execution_count": 68,
   "id": "3a3286dc",
   "metadata": {},
   "outputs": [
    {
     "data": {
      "text/plain": [
       "0       2149.897813\n",
       "1       2484.451779\n",
       "2       2804.310517\n",
       "3       1610.993707\n",
       "4        892.357558\n",
       "           ...     \n",
       "1116    1251.802785\n",
       "1117     847.902807\n",
       "1118    1074.154380\n",
       "1119    1851.446111\n",
       "1120    1211.126465\n",
       "Name: Price, Length: 1121, dtype: float64"
      ]
     },
     "execution_count": 68,
     "metadata": {},
     "output_type": "execute_result"
    }
   ],
   "source": [
    "y_pred"
   ]
  },
  {
   "cell_type": "code",
   "execution_count": 69,
   "id": "985d7958",
   "metadata": {},
   "outputs": [
    {
     "data": {
      "text/plain": [
       "34345.2465525129"
      ]
     },
     "execution_count": 69,
     "metadata": {},
     "output_type": "execute_result"
    }
   ],
   "source": [
    "mean_squared_error(y_val, round(y_pred), squared=False)"
   ]
  },
  {
   "cell_type": "code",
   "execution_count": 70,
   "id": "f3c50ce5",
   "metadata": {},
   "outputs": [
    {
     "data": {
      "text/plain": [
       "0         1600\n",
       "1         1850\n",
       "2         5950\n",
       "3         2200\n",
       "4         1200\n",
       "         ...  \n",
       "1116      1250\n",
       "1117       650\n",
       "1118    153700\n",
       "1119      1750\n",
       "1120       800\n",
       "Name: price, Length: 1121, dtype: int32"
      ]
     },
     "execution_count": 70,
     "metadata": {},
     "output_type": "execute_result"
    }
   ],
   "source": [
    "y_val"
   ]
  },
  {
   "cell_type": "code",
   "execution_count": 71,
   "id": "98f8af30",
   "metadata": {},
   "outputs": [
    {
     "data": {
      "text/plain": [
       "0       2150.0\n",
       "1       2484.0\n",
       "2       2804.0\n",
       "3       1611.0\n",
       "4        892.0\n",
       "         ...  \n",
       "1116    1252.0\n",
       "1117     848.0\n",
       "1118    1074.0\n",
       "1119    1851.0\n",
       "1120    1211.0\n",
       "Name: Price, Length: 1121, dtype: float64"
      ]
     },
     "execution_count": 71,
     "metadata": {},
     "output_type": "execute_result"
    }
   ],
   "source": [
    "round(y_pred)"
   ]
  },
  {
   "cell_type": "code",
   "execution_count": 72,
   "id": "b5ad67e0",
   "metadata": {},
   "outputs": [
    {
     "data": {
      "text/plain": [
       "-0.004113741340350918"
      ]
     },
     "execution_count": 72,
     "metadata": {},
     "output_type": "execute_result"
    }
   ],
   "source": [
    "r2_score(y_val, round(y_pred))"
   ]
  },
  {
   "cell_type": "code",
   "execution_count": null,
   "id": "0db7d886",
   "metadata": {},
   "outputs": [],
   "source": [
    "# https://towardsdatascience.com/easy-mlops-with-pycaret-mlflow-7fbcbf1e38c6"
   ]
  }
 ],
 "metadata": {
  "kernelspec": {
   "display_name": "Python 3 (ipykernel)",
   "language": "python",
   "name": "python3"
  },
  "language_info": {
   "codemirror_mode": {
    "name": "ipython",
    "version": 3
   },
   "file_extension": ".py",
   "mimetype": "text/x-python",
   "name": "python",
   "nbconvert_exporter": "python",
   "pygments_lexer": "ipython3",
   "version": "3.9.12"
  }
 },
 "nbformat": 4,
 "nbformat_minor": 5
}
