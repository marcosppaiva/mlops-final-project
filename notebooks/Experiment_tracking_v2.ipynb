{
 "cells": [
  {
   "cell_type": "code",
   "execution_count": 1,
   "id": "cda447d0",
   "metadata": {},
   "outputs": [
    {
     "name": "stderr",
     "output_type": "stream",
     "text": [
      "\n",
      "KeyboardInterrupt\n",
      "\n"
     ]
    }
   ],
   "source": [
    "import pandas as pd\n",
    "import numpy as np\n",
    "import xgboost as xgb\n",
    "import mlflow\n",
    "import matplotlib.pyplot as plt\n",
    "import seaborn as sns\n",
    "\n",
    "from sklearn.pipeline import Pipeline\n",
    "from sklearn.model_selection import train_test_split\n",
    "from sklearn.compose import ColumnTransformer\n",
    "from sklearn.model_selection import KFold, cross_val_score\n",
    "from sklearn.preprocessing import MinMaxScaler, StandardScaler, OneHotEncoder, LabelEncoder\n",
    "from sklearn.feature_extraction import DictVectorizer\n",
    "from sklearn.metrics import mean_squared_error, r2_score\n",
    "from sklearn.linear_model import LinearRegression, Ridge, Lasso, BayesianRidge\n",
    "from sklearn.ensemble import RandomForestRegressor, GradientBoostingRegressor\n",
    "from sklearn.svm import SVR\n",
    "from sklearn.neighbors import KNeighborsRegressor\n",
    "from hyperopt import fmin, tpe, hp, STATUS_OK, Trials\n",
    "from hyperopt.pyll import scope\n",
    "from sklearn.compose import ColumnTransformer\n",
    "\n",
    "\n",
    "import warnings\n",
    "\n",
    "warnings.filterwarnings('ignore')"
   ]
  },
  {
   "cell_type": "markdown",
   "id": "4bfb5e8b",
   "metadata": {},
   "source": [
    "# Configs and Variables"
   ]
  },
  {
   "cell_type": "code",
   "execution_count": null,
   "id": "5c93f6b5",
   "metadata": {},
   "outputs": [],
   "source": [
    "MLFLOW_TRACKING_URI = 'http://127.0.0.1:5000'\n",
    "\n",
    "mlflow.set_tracking_uri(MLFLOW_TRACKING_URI)\n",
    "mlflow.set_experiment('portugal-rent-price')"
   ]
  },
  {
   "cell_type": "code",
   "execution_count": 2,
   "id": "67ad0834",
   "metadata": {},
   "outputs": [],
   "source": [
    "DATA_PATH = '../data/processed/data.parquet'"
   ]
  },
  {
   "cell_type": "markdown",
   "id": "1a79cf2c",
   "metadata": {},
   "source": [
    "# Functions"
   ]
  },
  {
   "cell_type": "code",
   "execution_count": 3,
   "id": "21f24f65",
   "metadata": {},
   "outputs": [],
   "source": [
    "def read_dataset(filename: str) -> pd.DataFrame:\n",
    "    df = pd.read_parquet(filename)\n",
    "    \n",
    "    df['property_ads'] = df.company.apply(lambda x: 'private' if x == 'Anúncio Particular' else 'private')\n",
    "    \n",
    "    # Generate val_data\n",
    "    train, val = train_test_split(df,  test_size=.3, train_size=.7, random_state=42)\n",
    "    \n",
    "    return (train, val)"
   ]
  },
  {
   "cell_type": "code",
   "execution_count": 4,
   "id": "3e87c0d9",
   "metadata": {},
   "outputs": [],
   "source": [
    "def one_hot_encode(data, column, encoder):\n",
    "    encoded = encoder.transform(data[column])\n",
    "    ohe_df = pd.DataFrame(encoded, columns=encoder.get_feature_names_out())\n",
    "    #concat with original data\n",
    "    data = pd.concat([data, ohe_df], axis=1).drop(column, axis=1)\n",
    "\n",
    "    return data"
   ]
  },
  {
   "cell_type": "markdown",
   "id": "fe95fc5b",
   "metadata": {},
   "source": [
    "# Load Data"
   ]
  },
  {
   "cell_type": "code",
   "execution_count": 5,
   "id": "3f3cdbef",
   "metadata": {},
   "outputs": [],
   "source": [
    "# train, val = read_dataset(DATA_PATH)"
   ]
  },
  {
   "cell_type": "code",
   "execution_count": 6,
   "id": "e6011f13",
   "metadata": {},
   "outputs": [],
   "source": [
    "# train.reset_index(inplace=True, drop=True)\n",
    "# val.reset_index(inplace=True, drop=True)"
   ]
  },
  {
   "cell_type": "code",
   "execution_count": 7,
   "id": "a6e091d7",
   "metadata": {},
   "outputs": [],
   "source": [
    "train = pd.read_parquet('../data/processed/train.parquet')\n",
    "val = pd.read_parquet('../data/processed/val.parquet')"
   ]
  },
  {
   "cell_type": "code",
   "execution_count": 8,
   "id": "b22022b6",
   "metadata": {},
   "outputs": [],
   "source": [
    "X_train = train.drop('price', axis=1)\n",
    "y_train = train['price']\n",
    "X_val = val.drop('price', axis=1)\n",
    "y_val = val['price']"
   ]
  },
  {
   "cell_type": "code",
   "execution_count": 9,
   "id": "65811e56",
   "metadata": {},
   "outputs": [
    {
     "data": {
      "text/plain": [
       "0"
      ]
     },
     "execution_count": 9,
     "metadata": {},
     "output_type": "execute_result"
    }
   ],
   "source": [
    "X_train.isna().sum().sum()"
   ]
  },
  {
   "cell_type": "code",
   "execution_count": 10,
   "id": "8b46b290",
   "metadata": {},
   "outputs": [
    {
     "data": {
      "text/plain": [
       "0"
      ]
     },
     "execution_count": 10,
     "metadata": {},
     "output_type": "execute_result"
    }
   ],
   "source": [
    "X_val.isna().sum().sum()"
   ]
  },
  {
   "cell_type": "code",
   "execution_count": 11,
   "id": "452a2fc2",
   "metadata": {},
   "outputs": [
    {
     "name": "stdout",
     "output_type": "stream",
     "text": [
      "Train dataset: (2177, 10)\n",
      "Val dataset: (933, 10)\n"
     ]
    }
   ],
   "source": [
    "print('Train dataset:', X_train.shape)\n",
    "print('Val dataset:', X_val.shape)"
   ]
  },
  {
   "cell_type": "code",
   "execution_count": 12,
   "id": "879b5c0d",
   "metadata": {},
   "outputs": [],
   "source": [
    "X_train.drop(['description', 'company', 'location'], inplace=True, axis=1)\n",
    "X_val.drop(['description', 'company', 'location'], inplace=True, axis=1)"
   ]
  },
  {
   "cell_type": "markdown",
   "id": "bec7b0f9",
   "metadata": {},
   "source": [
    "# Preparing Data"
   ]
  },
  {
   "cell_type": "code",
   "execution_count": 13,
   "id": "7c6ba030",
   "metadata": {},
   "outputs": [],
   "source": [
    "property_map = {'apartamento': 0, 'moradia': 1}\n",
    "X_train['property_type'] = X_train['property_type'].map(property_map)\n",
    "X_val['property_type'] = X_val['property_type'].map(property_map)"
   ]
  },
  {
   "cell_type": "code",
   "execution_count": 14,
   "id": "fdba6871",
   "metadata": {},
   "outputs": [
    {
     "name": "stderr",
     "output_type": "stream",
     "text": [
      "E:\\Estudos\\Projetos\\Python\\mlops_final_project\\.venv\\lib\\site-packages\\sklearn\\preprocessing\\_encoders.py:202: UserWarning: Found unknown categories in columns [2] during transform. These unknown categories will be encoded as all zeros\n",
      "  warnings.warn(\n"
     ]
    }
   ],
   "source": [
    "def preprocess_data(df_train: pd.DataFrame, df_val: pd.DataFrame):\n",
    "\n",
    "    property_map = {'apartamento': 0, 'moradia': 1}\n",
    "    numerical_columns = ['metric', 'rooms', 'bathroom']\n",
    "    categorical_columns = ['energy_certify',\n",
    "                           'property_type', 'district', 'condition']\n",
    "\n",
    "    preprocessor = ColumnTransformer(\n",
    "        transformers=[\n",
    "            ('onehot', OneHotEncoder(drop='first',\n",
    "             handle_unknown='ignore'), categorical_columns),\n",
    "            ('scaler', StandardScaler(), numerical_columns)\n",
    "        ]\n",
    "    )\n",
    "    X_train = df_train.drop(['price'], axis=1)\n",
    "    X_train['property_type'] = X_train['property_type'].map(property_map)\n",
    "\n",
    "    X_val = df_val.drop(['price'], axis=1)\n",
    "    X_val['property_type'] = X_val['property_type'].map(property_map)\n",
    "\n",
    "    y_train = df_train['price']\n",
    "    y_val = df_val['price']\n",
    "\n",
    "    X_train_processed = preprocessor.fit_transform(X_train)\n",
    "    X_val_processed = preprocessor.transform(X_val)\n",
    "\n",
    "    return (X_train_processed, X_val_processed, y_train, y_val, preprocessor)\n",
    "\n",
    "X_train_processed, X_val_processed, y_train, y_val, preprocessor = preprocess_data(train, val)"
   ]
  },
  {
   "cell_type": "markdown",
   "id": "e9c98c15",
   "metadata": {},
   "source": [
    "# Start Run Models"
   ]
  },
  {
   "cell_type": "code",
   "execution_count": 21,
   "id": "4005c2b4",
   "metadata": {},
   "outputs": [],
   "source": [
    "models = {\n",
    "    'ridge' : Ridge(),\n",
    "    'xgboost' : xgb.XGBRegressor(),\n",
    "    'gradient boosting' : GradientBoostingRegressor(),\n",
    "    'lasso' : Lasso(),\n",
    "    'random forest' : RandomForestRegressor(),\n",
    "    'bayesian ridge' : BayesianRidge(),\n",
    "    'support vector': SVR(),\n",
    "    'linear regressor': LinearRegression(),\n",
    "    'knn' : KNeighborsRegressor(n_neighbors = 4)\n",
    "}"
   ]
  },
  {
   "cell_type": "code",
   "execution_count": 22,
   "id": "9b2f2caf",
   "metadata": {},
   "outputs": [
    {
     "name": "stdout",
     "output_type": "stream",
     "text": [
      "Training the model: ridge\n",
      "Training the model: xgboost\n",
      "Training the model: gradient boosting\n",
      "Training the model: lasso\n",
      "Training the model: random forest\n",
      "Training the model: bayesian ridge\n",
      "Training the model: support vector\n",
      "Training the model: linear regressor\n",
      "Training the model: knn\n"
     ]
    }
   ],
   "source": [
    "for name, model in models.items():\n",
    "\n",
    "    with mlflow.start_run():\n",
    "        mlflow.set_tag('features', 'filter_rooms')\n",
    "        mlflow.set_tag('developer', 'marcospereira')\n",
    "        mlflow.log_param('numeric_columns', numb_columns)\n",
    "        mlflow.log_param('categorical_columns', cat_columns)\n",
    "\n",
    "\n",
    "        mlflow.set_tag('model', name)\n",
    "        print(f'Training the model: {name}')\n",
    "        model.fit(X_train_f, y_train)\n",
    "\n",
    "        y_pred = model.predict(X_val_f)\n",
    "\n",
    "        rmse = mean_squared_error(y_val, y_pred, squared=False)\n",
    "        r2 = r2_score(y_val, y_pred)\n",
    "        mlflow.log_metric('rmse', rmse)\n",
    "        mlflow.log_metric('r2', r2)\n",
    "    \n"
   ]
  },
  {
   "cell_type": "code",
   "execution_count": 29,
   "id": "bb3535c5",
   "metadata": {},
   "outputs": [
    {
     "name": "stdout",
     "output_type": "stream",
     "text": [
      "Training the model: ridge\n",
      "Training the model: xgboost\n",
      "Training the model: gradient boosting\n",
      "Training the model: lasso\n",
      "Training the model: random forest\n",
      "Training the model: bayesian ridge\n",
      "Training the model: support vector\n",
      "Training the model: linear regressor\n",
      "Training the model: knn\n"
     ]
    }
   ],
   "source": [
    "for name, model in models.items():\n",
    "\n",
    "    with mlflow.start_run():\n",
    "        mlflow.set_tag('features', 'filter_rooms')\n",
    "        mlflow.set_tag('developer', 'marcospereira')\n",
    "        mlflow.log_param('numeric_columns', numb_columns)\n",
    "        mlflow.log_param('categorical_columns', cat_columns)\n",
    "\n",
    "\n",
    "        mlflow.set_tag('model', name)\n",
    "        print(f'Training the model: {name}')\n",
    "        if name != 'bayesian ridge':\n",
    "            model.fit(X_train_processed, y_train)\n",
    "            y_pred = model.predict(X_val_processed)\n",
    "        else:\n",
    "            model.fit(X_train_processed.toarray(), y_train)\n",
    "            y_pred = model.predict(X_val_processed.toarray())\n",
    "\n",
    "        \n",
    "\n",
    "        rmse = mean_squared_error(y_val, y_pred, squared=False)\n",
    "        r2 = r2_score(y_val, y_pred)\n",
    "        mlflow.log_metric('rmse', rmse)\n",
    "        mlflow.log_metric('r2', r2)\n",
    "    \n"
   ]
  },
  {
   "cell_type": "code",
   "execution_count": 15,
   "id": "cd3de04e",
   "metadata": {},
   "outputs": [],
   "source": [
    "model = xgb.XGBRegressor()\n",
    "model.fit(X_train_processed, y_train)\n",
    "\n",
    "y_pred = model.predict(X_val_processed)\n",
    "\n",
    "rmse = mean_squared_error(y_val, y_pred, squared=False)\n",
    "r2 = r2_score(y_val, y_pred)"
   ]
  },
  {
   "cell_type": "code",
   "execution_count": 16,
   "id": "665b9416",
   "metadata": {},
   "outputs": [
    {
     "name": "stdout",
     "output_type": "stream",
     "text": [
      "1211.7854998648304\n",
      "0.6372367369620702\n"
     ]
    }
   ],
   "source": [
    "print(rmse)\n",
    "print(r2)"
   ]
  },
  {
   "cell_type": "code",
   "execution_count": 76,
   "id": "cd7b79f8",
   "metadata": {},
   "outputs": [
    {
     "data": {
      "text/plain": [
       "{'objective': 'reg:squarederror',\n",
       " 'base_score': None,\n",
       " 'booster': None,\n",
       " 'callbacks': None,\n",
       " 'colsample_bylevel': None,\n",
       " 'colsample_bynode': None,\n",
       " 'colsample_bytree': None,\n",
       " 'early_stopping_rounds': None,\n",
       " 'enable_categorical': False,\n",
       " 'eval_metric': None,\n",
       " 'feature_types': None,\n",
       " 'gamma': None,\n",
       " 'gpu_id': None,\n",
       " 'grow_policy': None,\n",
       " 'importance_type': None,\n",
       " 'interaction_constraints': None,\n",
       " 'learning_rate': None,\n",
       " 'max_bin': None,\n",
       " 'max_cat_threshold': None,\n",
       " 'max_cat_to_onehot': None,\n",
       " 'max_delta_step': None,\n",
       " 'max_depth': None,\n",
       " 'max_leaves': None,\n",
       " 'min_child_weight': None,\n",
       " 'missing': nan,\n",
       " 'monotone_constraints': None,\n",
       " 'n_estimators': 100,\n",
       " 'n_jobs': None,\n",
       " 'num_parallel_tree': None,\n",
       " 'predictor': None,\n",
       " 'random_state': None,\n",
       " 'reg_alpha': None,\n",
       " 'reg_lambda': None,\n",
       " 'sampling_method': None,\n",
       " 'scale_pos_weight': None,\n",
       " 'subsample': None,\n",
       " 'tree_method': None,\n",
       " 'validate_parameters': None,\n",
       " 'verbosity': None}"
      ]
     },
     "execution_count": 76,
     "metadata": {},
     "output_type": "execute_result"
    }
   ],
   "source": [
    "model.get_params()"
   ]
  },
  {
   "cell_type": "code",
   "execution_count": 45,
   "id": "bc8cf4f6",
   "metadata": {},
   "outputs": [],
   "source": [
    "from pycaret.regression import *"
   ]
  },
  {
   "cell_type": "code",
   "execution_count": 46,
   "id": "c84b3cda",
   "metadata": {},
   "outputs": [],
   "source": [
    "data = X_train.copy()\n",
    "data['Price'] = y_train"
   ]
  },
  {
   "cell_type": "code",
   "execution_count": 47,
   "id": "40e8922e",
   "metadata": {},
   "outputs": [],
   "source": [
    "data.drop(['description', 'company', 'location'], inplace=True, axis=1)"
   ]
  },
  {
   "cell_type": "code",
   "execution_count": 49,
   "id": "4e54e192",
   "metadata": {},
   "outputs": [
    {
     "data": {
      "text/html": [
       "<div>\n",
       "<style scoped>\n",
       "    .dataframe tbody tr th:only-of-type {\n",
       "        vertical-align: middle;\n",
       "    }\n",
       "\n",
       "    .dataframe tbody tr th {\n",
       "        vertical-align: top;\n",
       "    }\n",
       "\n",
       "    .dataframe thead th {\n",
       "        text-align: right;\n",
       "    }\n",
       "</style>\n",
       "<table border=\"1\" class=\"dataframe\">\n",
       "  <thead>\n",
       "    <tr style=\"text-align: right;\">\n",
       "      <th></th>\n",
       "      <th>energy_certify</th>\n",
       "      <th>metric</th>\n",
       "      <th>rooms</th>\n",
       "      <th>property_type</th>\n",
       "      <th>district</th>\n",
       "      <th>bathroom</th>\n",
       "      <th>condition</th>\n",
       "      <th>Price</th>\n",
       "    </tr>\n",
       "  </thead>\n",
       "  <tbody>\n",
       "    <tr>\n",
       "      <th>0</th>\n",
       "      <td>D</td>\n",
       "      <td>30.03</td>\n",
       "      <td>1</td>\n",
       "      <td>apartamento</td>\n",
       "      <td>Porto</td>\n",
       "      <td>1.0</td>\n",
       "      <td>Usado</td>\n",
       "      <td>1000</td>\n",
       "    </tr>\n",
       "    <tr>\n",
       "      <th>1</th>\n",
       "      <td>C</td>\n",
       "      <td>114.00</td>\n",
       "      <td>2</td>\n",
       "      <td>apartamento</td>\n",
       "      <td>Lisboa</td>\n",
       "      <td>3.0</td>\n",
       "      <td>Renovado</td>\n",
       "      <td>1950</td>\n",
       "    </tr>\n",
       "    <tr>\n",
       "      <th>2</th>\n",
       "      <td>D</td>\n",
       "      <td>90.00</td>\n",
       "      <td>2</td>\n",
       "      <td>apartamento</td>\n",
       "      <td>Faro</td>\n",
       "      <td>1.0</td>\n",
       "      <td>Usado</td>\n",
       "      <td>550</td>\n",
       "    </tr>\n",
       "    <tr>\n",
       "      <th>3</th>\n",
       "      <td>C</td>\n",
       "      <td>85.00</td>\n",
       "      <td>2</td>\n",
       "      <td>apartamento</td>\n",
       "      <td>Lisboa</td>\n",
       "      <td>2.0</td>\n",
       "      <td>Usado</td>\n",
       "      <td>1550</td>\n",
       "    </tr>\n",
       "    <tr>\n",
       "      <th>4</th>\n",
       "      <td>C</td>\n",
       "      <td>100.00</td>\n",
       "      <td>3</td>\n",
       "      <td>apartamento</td>\n",
       "      <td>Braga</td>\n",
       "      <td>1.0</td>\n",
       "      <td>Novo</td>\n",
       "      <td>900</td>\n",
       "    </tr>\n",
       "    <tr>\n",
       "      <th>...</th>\n",
       "      <td>...</td>\n",
       "      <td>...</td>\n",
       "      <td>...</td>\n",
       "      <td>...</td>\n",
       "      <td>...</td>\n",
       "      <td>...</td>\n",
       "      <td>...</td>\n",
       "      <td>...</td>\n",
       "    </tr>\n",
       "    <tr>\n",
       "      <th>2172</th>\n",
       "      <td>A</td>\n",
       "      <td>100.00</td>\n",
       "      <td>3</td>\n",
       "      <td>apartamento</td>\n",
       "      <td>Vila Real</td>\n",
       "      <td>2.0</td>\n",
       "      <td>Usado</td>\n",
       "      <td>600</td>\n",
       "    </tr>\n",
       "    <tr>\n",
       "      <th>2173</th>\n",
       "      <td>C</td>\n",
       "      <td>108.00</td>\n",
       "      <td>2</td>\n",
       "      <td>apartamento</td>\n",
       "      <td>Lisboa</td>\n",
       "      <td>2.0</td>\n",
       "      <td>Renovado</td>\n",
       "      <td>3000</td>\n",
       "    </tr>\n",
       "    <tr>\n",
       "      <th>2174</th>\n",
       "      <td>D</td>\n",
       "      <td>85.00</td>\n",
       "      <td>3</td>\n",
       "      <td>apartamento</td>\n",
       "      <td>Lisboa</td>\n",
       "      <td>2.0</td>\n",
       "      <td>Renovado</td>\n",
       "      <td>3500</td>\n",
       "    </tr>\n",
       "    <tr>\n",
       "      <th>2175</th>\n",
       "      <td>C</td>\n",
       "      <td>98.00</td>\n",
       "      <td>3</td>\n",
       "      <td>apartamento</td>\n",
       "      <td>Lisboa</td>\n",
       "      <td>2.0</td>\n",
       "      <td>Renovado</td>\n",
       "      <td>1900</td>\n",
       "    </tr>\n",
       "    <tr>\n",
       "      <th>2176</th>\n",
       "      <td>C</td>\n",
       "      <td>80.00</td>\n",
       "      <td>2</td>\n",
       "      <td>apartamento</td>\n",
       "      <td>Faro</td>\n",
       "      <td>1.0</td>\n",
       "      <td>Usado</td>\n",
       "      <td>900</td>\n",
       "    </tr>\n",
       "  </tbody>\n",
       "</table>\n",
       "<p>2177 rows × 8 columns</p>\n",
       "</div>"
      ],
      "text/plain": [
       "     energy_certify  metric  rooms property_type   district  bathroom  \\\n",
       "0                 D   30.03      1   apartamento      Porto       1.0   \n",
       "1                 C  114.00      2   apartamento     Lisboa       3.0   \n",
       "2                 D   90.00      2   apartamento       Faro       1.0   \n",
       "3                 C   85.00      2   apartamento     Lisboa       2.0   \n",
       "4                 C  100.00      3   apartamento      Braga       1.0   \n",
       "...             ...     ...    ...           ...        ...       ...   \n",
       "2172              A  100.00      3   apartamento  Vila Real       2.0   \n",
       "2173              C  108.00      2   apartamento     Lisboa       2.0   \n",
       "2174              D   85.00      3   apartamento     Lisboa       2.0   \n",
       "2175              C   98.00      3   apartamento     Lisboa       2.0   \n",
       "2176              C   80.00      2   apartamento       Faro       1.0   \n",
       "\n",
       "     condition  Price  \n",
       "0        Usado   1000  \n",
       "1     Renovado   1950  \n",
       "2        Usado    550  \n",
       "3        Usado   1550  \n",
       "4         Novo    900  \n",
       "...        ...    ...  \n",
       "2172     Usado    600  \n",
       "2173  Renovado   3000  \n",
       "2174  Renovado   3500  \n",
       "2175  Renovado   1900  \n",
       "2176     Usado    900  \n",
       "\n",
       "[2177 rows x 8 columns]"
      ]
     },
     "execution_count": 49,
     "metadata": {},
     "output_type": "execute_result"
    }
   ],
   "source": [
    "data"
   ]
  },
  {
   "cell_type": "code",
   "execution_count": 48,
   "id": "d6c0f191",
   "metadata": {},
   "outputs": [
    {
     "data": {
      "text/html": [
       "<style type=\"text/css\">\n",
       "#T_60ea0_row10_col1, #T_60ea0_row16_col1 {\n",
       "  background-color: lightgreen;\n",
       "}\n",
       "</style>\n",
       "<table id=\"T_60ea0\">\n",
       "  <thead>\n",
       "    <tr>\n",
       "      <th class=\"blank level0\" >&nbsp;</th>\n",
       "      <th id=\"T_60ea0_level0_col0\" class=\"col_heading level0 col0\" >Description</th>\n",
       "      <th id=\"T_60ea0_level0_col1\" class=\"col_heading level0 col1\" >Value</th>\n",
       "    </tr>\n",
       "  </thead>\n",
       "  <tbody>\n",
       "    <tr>\n",
       "      <th id=\"T_60ea0_level0_row0\" class=\"row_heading level0 row0\" >0</th>\n",
       "      <td id=\"T_60ea0_row0_col0\" class=\"data row0 col0\" >Session id</td>\n",
       "      <td id=\"T_60ea0_row0_col1\" class=\"data row0 col1\" >5783</td>\n",
       "    </tr>\n",
       "    <tr>\n",
       "      <th id=\"T_60ea0_level0_row1\" class=\"row_heading level0 row1\" >1</th>\n",
       "      <td id=\"T_60ea0_row1_col0\" class=\"data row1 col0\" >Target</td>\n",
       "      <td id=\"T_60ea0_row1_col1\" class=\"data row1 col1\" >Price</td>\n",
       "    </tr>\n",
       "    <tr>\n",
       "      <th id=\"T_60ea0_level0_row2\" class=\"row_heading level0 row2\" >2</th>\n",
       "      <td id=\"T_60ea0_row2_col0\" class=\"data row2 col0\" >Target type</td>\n",
       "      <td id=\"T_60ea0_row2_col1\" class=\"data row2 col1\" >Regression</td>\n",
       "    </tr>\n",
       "    <tr>\n",
       "      <th id=\"T_60ea0_level0_row3\" class=\"row_heading level0 row3\" >3</th>\n",
       "      <td id=\"T_60ea0_row3_col0\" class=\"data row3 col0\" >Original data shape</td>\n",
       "      <td id=\"T_60ea0_row3_col1\" class=\"data row3 col1\" >(2177, 8)</td>\n",
       "    </tr>\n",
       "    <tr>\n",
       "      <th id=\"T_60ea0_level0_row4\" class=\"row_heading level0 row4\" >4</th>\n",
       "      <td id=\"T_60ea0_row4_col0\" class=\"data row4 col0\" >Transformed data shape</td>\n",
       "      <td id=\"T_60ea0_row4_col1\" class=\"data row4 col1\" >(2177, 41)</td>\n",
       "    </tr>\n",
       "    <tr>\n",
       "      <th id=\"T_60ea0_level0_row5\" class=\"row_heading level0 row5\" >5</th>\n",
       "      <td id=\"T_60ea0_row5_col0\" class=\"data row5 col0\" >Transformed train set shape</td>\n",
       "      <td id=\"T_60ea0_row5_col1\" class=\"data row5 col1\" >(1523, 41)</td>\n",
       "    </tr>\n",
       "    <tr>\n",
       "      <th id=\"T_60ea0_level0_row6\" class=\"row_heading level0 row6\" >6</th>\n",
       "      <td id=\"T_60ea0_row6_col0\" class=\"data row6 col0\" >Transformed test set shape</td>\n",
       "      <td id=\"T_60ea0_row6_col1\" class=\"data row6 col1\" >(654, 41)</td>\n",
       "    </tr>\n",
       "    <tr>\n",
       "      <th id=\"T_60ea0_level0_row7\" class=\"row_heading level0 row7\" >7</th>\n",
       "      <td id=\"T_60ea0_row7_col0\" class=\"data row7 col0\" >Ordinal features</td>\n",
       "      <td id=\"T_60ea0_row7_col1\" class=\"data row7 col1\" >1</td>\n",
       "    </tr>\n",
       "    <tr>\n",
       "      <th id=\"T_60ea0_level0_row8\" class=\"row_heading level0 row8\" >8</th>\n",
       "      <td id=\"T_60ea0_row8_col0\" class=\"data row8 col0\" >Numeric features</td>\n",
       "      <td id=\"T_60ea0_row8_col1\" class=\"data row8 col1\" >3</td>\n",
       "    </tr>\n",
       "    <tr>\n",
       "      <th id=\"T_60ea0_level0_row9\" class=\"row_heading level0 row9\" >9</th>\n",
       "      <td id=\"T_60ea0_row9_col0\" class=\"data row9 col0\" >Categorical features</td>\n",
       "      <td id=\"T_60ea0_row9_col1\" class=\"data row9 col1\" >4</td>\n",
       "    </tr>\n",
       "    <tr>\n",
       "      <th id=\"T_60ea0_level0_row10\" class=\"row_heading level0 row10\" >10</th>\n",
       "      <td id=\"T_60ea0_row10_col0\" class=\"data row10 col0\" >Preprocess</td>\n",
       "      <td id=\"T_60ea0_row10_col1\" class=\"data row10 col1\" >True</td>\n",
       "    </tr>\n",
       "    <tr>\n",
       "      <th id=\"T_60ea0_level0_row11\" class=\"row_heading level0 row11\" >11</th>\n",
       "      <td id=\"T_60ea0_row11_col0\" class=\"data row11 col0\" >Imputation type</td>\n",
       "      <td id=\"T_60ea0_row11_col1\" class=\"data row11 col1\" >simple</td>\n",
       "    </tr>\n",
       "    <tr>\n",
       "      <th id=\"T_60ea0_level0_row12\" class=\"row_heading level0 row12\" >12</th>\n",
       "      <td id=\"T_60ea0_row12_col0\" class=\"data row12 col0\" >Numeric imputation</td>\n",
       "      <td id=\"T_60ea0_row12_col1\" class=\"data row12 col1\" >mean</td>\n",
       "    </tr>\n",
       "    <tr>\n",
       "      <th id=\"T_60ea0_level0_row13\" class=\"row_heading level0 row13\" >13</th>\n",
       "      <td id=\"T_60ea0_row13_col0\" class=\"data row13 col0\" >Categorical imputation</td>\n",
       "      <td id=\"T_60ea0_row13_col1\" class=\"data row13 col1\" >mode</td>\n",
       "    </tr>\n",
       "    <tr>\n",
       "      <th id=\"T_60ea0_level0_row14\" class=\"row_heading level0 row14\" >14</th>\n",
       "      <td id=\"T_60ea0_row14_col0\" class=\"data row14 col0\" >Maximum one-hot encoding</td>\n",
       "      <td id=\"T_60ea0_row14_col1\" class=\"data row14 col1\" >25</td>\n",
       "    </tr>\n",
       "    <tr>\n",
       "      <th id=\"T_60ea0_level0_row15\" class=\"row_heading level0 row15\" >15</th>\n",
       "      <td id=\"T_60ea0_row15_col0\" class=\"data row15 col0\" >Encoding method</td>\n",
       "      <td id=\"T_60ea0_row15_col1\" class=\"data row15 col1\" >None</td>\n",
       "    </tr>\n",
       "    <tr>\n",
       "      <th id=\"T_60ea0_level0_row16\" class=\"row_heading level0 row16\" >16</th>\n",
       "      <td id=\"T_60ea0_row16_col0\" class=\"data row16 col0\" >Transform target</td>\n",
       "      <td id=\"T_60ea0_row16_col1\" class=\"data row16 col1\" >True</td>\n",
       "    </tr>\n",
       "    <tr>\n",
       "      <th id=\"T_60ea0_level0_row17\" class=\"row_heading level0 row17\" >17</th>\n",
       "      <td id=\"T_60ea0_row17_col0\" class=\"data row17 col0\" >Transform target method</td>\n",
       "      <td id=\"T_60ea0_row17_col1\" class=\"data row17 col1\" >yeo-johnson</td>\n",
       "    </tr>\n",
       "    <tr>\n",
       "      <th id=\"T_60ea0_level0_row18\" class=\"row_heading level0 row18\" >18</th>\n",
       "      <td id=\"T_60ea0_row18_col0\" class=\"data row18 col0\" >Fold Generator</td>\n",
       "      <td id=\"T_60ea0_row18_col1\" class=\"data row18 col1\" >KFold</td>\n",
       "    </tr>\n",
       "    <tr>\n",
       "      <th id=\"T_60ea0_level0_row19\" class=\"row_heading level0 row19\" >19</th>\n",
       "      <td id=\"T_60ea0_row19_col0\" class=\"data row19 col0\" >Fold Number</td>\n",
       "      <td id=\"T_60ea0_row19_col1\" class=\"data row19 col1\" >10</td>\n",
       "    </tr>\n",
       "    <tr>\n",
       "      <th id=\"T_60ea0_level0_row20\" class=\"row_heading level0 row20\" >20</th>\n",
       "      <td id=\"T_60ea0_row20_col0\" class=\"data row20 col0\" >CPU Jobs</td>\n",
       "      <td id=\"T_60ea0_row20_col1\" class=\"data row20 col1\" >-1</td>\n",
       "    </tr>\n",
       "    <tr>\n",
       "      <th id=\"T_60ea0_level0_row21\" class=\"row_heading level0 row21\" >21</th>\n",
       "      <td id=\"T_60ea0_row21_col0\" class=\"data row21 col0\" >Use GPU</td>\n",
       "      <td id=\"T_60ea0_row21_col1\" class=\"data row21 col1\" >False</td>\n",
       "    </tr>\n",
       "    <tr>\n",
       "      <th id=\"T_60ea0_level0_row22\" class=\"row_heading level0 row22\" >22</th>\n",
       "      <td id=\"T_60ea0_row22_col0\" class=\"data row22 col0\" >Log Experiment</td>\n",
       "      <td id=\"T_60ea0_row22_col1\" class=\"data row22 col1\" >False</td>\n",
       "    </tr>\n",
       "    <tr>\n",
       "      <th id=\"T_60ea0_level0_row23\" class=\"row_heading level0 row23\" >23</th>\n",
       "      <td id=\"T_60ea0_row23_col0\" class=\"data row23 col0\" >Experiment Name</td>\n",
       "      <td id=\"T_60ea0_row23_col1\" class=\"data row23 col1\" >reg-default-name</td>\n",
       "    </tr>\n",
       "    <tr>\n",
       "      <th id=\"T_60ea0_level0_row24\" class=\"row_heading level0 row24\" >24</th>\n",
       "      <td id=\"T_60ea0_row24_col0\" class=\"data row24 col0\" >USI</td>\n",
       "      <td id=\"T_60ea0_row24_col1\" class=\"data row24 col1\" >d953</td>\n",
       "    </tr>\n",
       "  </tbody>\n",
       "</table>\n"
      ],
      "text/plain": [
       "<pandas.io.formats.style.Styler at 0x20777481f10>"
      ]
     },
     "metadata": {},
     "output_type": "display_data"
    }
   ],
   "source": [
    "s = setup(data, target='Price', transform_target=True)"
   ]
  },
  {
   "cell_type": "code",
   "execution_count": 27,
   "id": "b7d82fb0",
   "metadata": {},
   "outputs": [
    {
     "data": {
      "text/html": [],
      "text/plain": [
       "<IPython.core.display.HTML object>"
      ]
     },
     "metadata": {},
     "output_type": "display_data"
    },
    {
     "data": {
      "text/html": [
       "<style type=\"text/css\">\n",
       "#T_f4c64 th {\n",
       "  text-align: left;\n",
       "}\n",
       "#T_f4c64_row0_col0, #T_f4c64_row0_col5, #T_f4c64_row0_col6, #T_f4c64_row1_col0, #T_f4c64_row1_col1, #T_f4c64_row1_col2, #T_f4c64_row1_col3, #T_f4c64_row1_col4, #T_f4c64_row1_col5, #T_f4c64_row1_col6, #T_f4c64_row2_col0, #T_f4c64_row2_col1, #T_f4c64_row2_col2, #T_f4c64_row2_col3, #T_f4c64_row2_col4, #T_f4c64_row2_col5, #T_f4c64_row2_col6, #T_f4c64_row3_col0, #T_f4c64_row3_col1, #T_f4c64_row3_col2, #T_f4c64_row3_col3, #T_f4c64_row3_col4, #T_f4c64_row3_col5, #T_f4c64_row3_col6, #T_f4c64_row4_col0, #T_f4c64_row4_col1, #T_f4c64_row4_col2, #T_f4c64_row4_col3, #T_f4c64_row4_col4, #T_f4c64_row4_col5, #T_f4c64_row4_col6, #T_f4c64_row5_col0, #T_f4c64_row5_col1, #T_f4c64_row5_col2, #T_f4c64_row5_col3, #T_f4c64_row5_col4, #T_f4c64_row6_col0, #T_f4c64_row6_col1, #T_f4c64_row6_col2, #T_f4c64_row6_col3, #T_f4c64_row6_col4, #T_f4c64_row6_col5, #T_f4c64_row6_col6, #T_f4c64_row7_col0, #T_f4c64_row7_col1, #T_f4c64_row7_col2, #T_f4c64_row7_col3, #T_f4c64_row7_col4, #T_f4c64_row7_col5, #T_f4c64_row7_col6, #T_f4c64_row8_col0, #T_f4c64_row8_col1, #T_f4c64_row8_col2, #T_f4c64_row8_col3, #T_f4c64_row8_col4, #T_f4c64_row8_col5, #T_f4c64_row8_col6, #T_f4c64_row9_col0, #T_f4c64_row9_col1, #T_f4c64_row9_col2, #T_f4c64_row9_col3, #T_f4c64_row9_col4, #T_f4c64_row9_col5, #T_f4c64_row9_col6, #T_f4c64_row10_col0, #T_f4c64_row10_col1, #T_f4c64_row10_col2, #T_f4c64_row10_col3, #T_f4c64_row10_col4, #T_f4c64_row10_col5, #T_f4c64_row10_col6, #T_f4c64_row11_col0, #T_f4c64_row11_col1, #T_f4c64_row11_col2, #T_f4c64_row11_col3, #T_f4c64_row11_col4, #T_f4c64_row11_col5, #T_f4c64_row11_col6, #T_f4c64_row12_col0, #T_f4c64_row12_col1, #T_f4c64_row12_col2, #T_f4c64_row12_col3, #T_f4c64_row12_col4, #T_f4c64_row12_col5, #T_f4c64_row12_col6, #T_f4c64_row13_col0, #T_f4c64_row13_col1, #T_f4c64_row13_col2, #T_f4c64_row13_col3, #T_f4c64_row13_col4, #T_f4c64_row13_col5, #T_f4c64_row13_col6, #T_f4c64_row14_col0, #T_f4c64_row14_col1, #T_f4c64_row14_col2, #T_f4c64_row14_col3, #T_f4c64_row14_col4, #T_f4c64_row14_col5, #T_f4c64_row14_col6, #T_f4c64_row15_col0, #T_f4c64_row15_col1, #T_f4c64_row15_col2, #T_f4c64_row15_col3, #T_f4c64_row15_col4, #T_f4c64_row15_col5, #T_f4c64_row15_col6, #T_f4c64_row16_col0, #T_f4c64_row16_col1, #T_f4c64_row16_col2, #T_f4c64_row16_col3, #T_f4c64_row16_col4, #T_f4c64_row16_col5, #T_f4c64_row16_col6 {\n",
       "  text-align: left;\n",
       "}\n",
       "#T_f4c64_row0_col1, #T_f4c64_row0_col2, #T_f4c64_row0_col3, #T_f4c64_row0_col4, #T_f4c64_row5_col5, #T_f4c64_row5_col6 {\n",
       "  text-align: left;\n",
       "  background-color: yellow;\n",
       "}\n",
       "#T_f4c64_row0_col7, #T_f4c64_row1_col7, #T_f4c64_row2_col7, #T_f4c64_row3_col7, #T_f4c64_row4_col7, #T_f4c64_row5_col7, #T_f4c64_row6_col7, #T_f4c64_row7_col7, #T_f4c64_row8_col7, #T_f4c64_row9_col7, #T_f4c64_row10_col7, #T_f4c64_row11_col7, #T_f4c64_row12_col7, #T_f4c64_row13_col7, #T_f4c64_row14_col7, #T_f4c64_row15_col7 {\n",
       "  text-align: left;\n",
       "  background-color: lightgrey;\n",
       "}\n",
       "#T_f4c64_row16_col7 {\n",
       "  text-align: left;\n",
       "  background-color: yellow;\n",
       "  background-color: lightgrey;\n",
       "}\n",
       "</style>\n",
       "<table id=\"T_f4c64\">\n",
       "  <thead>\n",
       "    <tr>\n",
       "      <th class=\"blank level0\" >&nbsp;</th>\n",
       "      <th id=\"T_f4c64_level0_col0\" class=\"col_heading level0 col0\" >Model</th>\n",
       "      <th id=\"T_f4c64_level0_col1\" class=\"col_heading level0 col1\" >MAE</th>\n",
       "      <th id=\"T_f4c64_level0_col2\" class=\"col_heading level0 col2\" >MSE</th>\n",
       "      <th id=\"T_f4c64_level0_col3\" class=\"col_heading level0 col3\" >RMSE</th>\n",
       "      <th id=\"T_f4c64_level0_col4\" class=\"col_heading level0 col4\" >R2</th>\n",
       "      <th id=\"T_f4c64_level0_col5\" class=\"col_heading level0 col5\" >RMSLE</th>\n",
       "      <th id=\"T_f4c64_level0_col6\" class=\"col_heading level0 col6\" >MAPE</th>\n",
       "      <th id=\"T_f4c64_level0_col7\" class=\"col_heading level0 col7\" >TT (Sec)</th>\n",
       "    </tr>\n",
       "  </thead>\n",
       "  <tbody>\n",
       "    <tr>\n",
       "      <th id=\"T_f4c64_level0_row0\" class=\"row_heading level0 row0\" >xgboost</th>\n",
       "      <td id=\"T_f4c64_row0_col0\" class=\"data row0 col0\" >Extreme Gradient Boosting</td>\n",
       "      <td id=\"T_f4c64_row0_col1\" class=\"data row0 col1\" >508.9871</td>\n",
       "      <td id=\"T_f4c64_row0_col2\" class=\"data row0 col2\" >859935.1005</td>\n",
       "      <td id=\"T_f4c64_row0_col3\" class=\"data row0 col3\" >911.1140</td>\n",
       "      <td id=\"T_f4c64_row0_col4\" class=\"data row0 col4\" >0.6928</td>\n",
       "      <td id=\"T_f4c64_row0_col5\" class=\"data row0 col5\" >0.3886</td>\n",
       "      <td id=\"T_f4c64_row0_col6\" class=\"data row0 col6\" >0.3177</td>\n",
       "      <td id=\"T_f4c64_row0_col7\" class=\"data row0 col7\" >0.1110</td>\n",
       "    </tr>\n",
       "    <tr>\n",
       "      <th id=\"T_f4c64_level0_row1\" class=\"row_heading level0 row1\" >lightgbm</th>\n",
       "      <td id=\"T_f4c64_row1_col0\" class=\"data row1 col0\" >Light Gradient Boosting Machine</td>\n",
       "      <td id=\"T_f4c64_row1_col1\" class=\"data row1 col1\" >510.9619</td>\n",
       "      <td id=\"T_f4c64_row1_col2\" class=\"data row1 col2\" >898259.0426</td>\n",
       "      <td id=\"T_f4c64_row1_col3\" class=\"data row1 col3\" >926.4543</td>\n",
       "      <td id=\"T_f4c64_row1_col4\" class=\"data row1 col4\" >0.6862</td>\n",
       "      <td id=\"T_f4c64_row1_col5\" class=\"data row1 col5\" >0.3902</td>\n",
       "      <td id=\"T_f4c64_row1_col6\" class=\"data row1 col6\" >0.3196</td>\n",
       "      <td id=\"T_f4c64_row1_col7\" class=\"data row1 col7\" >0.0870</td>\n",
       "    </tr>\n",
       "    <tr>\n",
       "      <th id=\"T_f4c64_level0_row2\" class=\"row_heading level0 row2\" >et</th>\n",
       "      <td id=\"T_f4c64_row2_col0\" class=\"data row2 col0\" >Extra Trees Regressor</td>\n",
       "      <td id=\"T_f4c64_row2_col1\" class=\"data row2 col1\" >521.7096</td>\n",
       "      <td id=\"T_f4c64_row2_col2\" class=\"data row2 col2\" >893173.6853</td>\n",
       "      <td id=\"T_f4c64_row2_col3\" class=\"data row2 col3\" >927.9339</td>\n",
       "      <td id=\"T_f4c64_row2_col4\" class=\"data row2 col4\" >0.6842</td>\n",
       "      <td id=\"T_f4c64_row2_col5\" class=\"data row2 col5\" >0.3973</td>\n",
       "      <td id=\"T_f4c64_row2_col6\" class=\"data row2 col6\" >0.3337</td>\n",
       "      <td id=\"T_f4c64_row2_col7\" class=\"data row2 col7\" >0.1370</td>\n",
       "    </tr>\n",
       "    <tr>\n",
       "      <th id=\"T_f4c64_level0_row3\" class=\"row_heading level0 row3\" >gbr</th>\n",
       "      <td id=\"T_f4c64_row3_col0\" class=\"data row3 col0\" >Gradient Boosting Regressor</td>\n",
       "      <td id=\"T_f4c64_row3_col1\" class=\"data row3 col1\" >515.4264</td>\n",
       "      <td id=\"T_f4c64_row3_col2\" class=\"data row3 col2\" >942157.2889</td>\n",
       "      <td id=\"T_f4c64_row3_col3\" class=\"data row3 col3\" >944.0790</td>\n",
       "      <td id=\"T_f4c64_row3_col4\" class=\"data row3 col4\" >0.6774</td>\n",
       "      <td id=\"T_f4c64_row3_col5\" class=\"data row3 col5\" >0.3860</td>\n",
       "      <td id=\"T_f4c64_row3_col6\" class=\"data row3 col6\" >0.3173</td>\n",
       "      <td id=\"T_f4c64_row3_col7\" class=\"data row3 col7\" >0.1010</td>\n",
       "    </tr>\n",
       "    <tr>\n",
       "      <th id=\"T_f4c64_level0_row4\" class=\"row_heading level0 row4\" >rf</th>\n",
       "      <td id=\"T_f4c64_row4_col0\" class=\"data row4 col0\" >Random Forest Regressor</td>\n",
       "      <td id=\"T_f4c64_row4_col1\" class=\"data row4 col1\" >524.6662</td>\n",
       "      <td id=\"T_f4c64_row4_col2\" class=\"data row4 col2\" >945002.8015</td>\n",
       "      <td id=\"T_f4c64_row4_col3\" class=\"data row4 col3\" >947.8781</td>\n",
       "      <td id=\"T_f4c64_row4_col4\" class=\"data row4 col4\" >0.6739</td>\n",
       "      <td id=\"T_f4c64_row4_col5\" class=\"data row4 col5\" >0.4018</td>\n",
       "      <td id=\"T_f4c64_row4_col6\" class=\"data row4 col6\" >0.3326</td>\n",
       "      <td id=\"T_f4c64_row4_col7\" class=\"data row4 col7\" >0.1370</td>\n",
       "    </tr>\n",
       "    <tr>\n",
       "      <th id=\"T_f4c64_level0_row5\" class=\"row_heading level0 row5\" >ridge</th>\n",
       "      <td id=\"T_f4c64_row5_col0\" class=\"data row5 col0\" >Ridge Regression</td>\n",
       "      <td id=\"T_f4c64_row5_col1\" class=\"data row5 col1\" >527.9999</td>\n",
       "      <td id=\"T_f4c64_row5_col2\" class=\"data row5 col2\" >965958.0938</td>\n",
       "      <td id=\"T_f4c64_row5_col3\" class=\"data row5 col3\" >963.7854</td>\n",
       "      <td id=\"T_f4c64_row5_col4\" class=\"data row5 col4\" >0.6593</td>\n",
       "      <td id=\"T_f4c64_row5_col5\" class=\"data row5 col5\" >0.3598</td>\n",
       "      <td id=\"T_f4c64_row5_col6\" class=\"data row5 col6\" >0.2861</td>\n",
       "      <td id=\"T_f4c64_row5_col7\" class=\"data row5 col7\" >0.0740</td>\n",
       "    </tr>\n",
       "    <tr>\n",
       "      <th id=\"T_f4c64_level0_row6\" class=\"row_heading level0 row6\" >br</th>\n",
       "      <td id=\"T_f4c64_row6_col0\" class=\"data row6 col0\" >Bayesian Ridge</td>\n",
       "      <td id=\"T_f4c64_row6_col1\" class=\"data row6 col1\" >541.7035</td>\n",
       "      <td id=\"T_f4c64_row6_col2\" class=\"data row6 col2\" >1049079.0781</td>\n",
       "      <td id=\"T_f4c64_row6_col3\" class=\"data row6 col3\" >1000.3505</td>\n",
       "      <td id=\"T_f4c64_row6_col4\" class=\"data row6 col4\" >0.6335</td>\n",
       "      <td id=\"T_f4c64_row6_col5\" class=\"data row6 col5\" >0.3609</td>\n",
       "      <td id=\"T_f4c64_row6_col6\" class=\"data row6 col6\" >0.2882</td>\n",
       "      <td id=\"T_f4c64_row6_col7\" class=\"data row6 col7\" >0.0740</td>\n",
       "    </tr>\n",
       "    <tr>\n",
       "      <th id=\"T_f4c64_level0_row7\" class=\"row_heading level0 row7\" >lr</th>\n",
       "      <td id=\"T_f4c64_row7_col0\" class=\"data row7 col0\" >Linear Regression</td>\n",
       "      <td id=\"T_f4c64_row7_col1\" class=\"data row7 col1\" >553.5952</td>\n",
       "      <td id=\"T_f4c64_row7_col2\" class=\"data row7 col2\" >1133669.3067</td>\n",
       "      <td id=\"T_f4c64_row7_col3\" class=\"data row7 col3\" >1037.3726</td>\n",
       "      <td id=\"T_f4c64_row7_col4\" class=\"data row7 col4\" >0.6067</td>\n",
       "      <td id=\"T_f4c64_row7_col5\" class=\"data row7 col5\" >0.3632</td>\n",
       "      <td id=\"T_f4c64_row7_col6\" class=\"data row7 col6\" >0.2908</td>\n",
       "      <td id=\"T_f4c64_row7_col7\" class=\"data row7 col7\" >0.2560</td>\n",
       "    </tr>\n",
       "    <tr>\n",
       "      <th id=\"T_f4c64_level0_row8\" class=\"row_heading level0 row8\" >huber</th>\n",
       "      <td id=\"T_f4c64_row8_col0\" class=\"data row8 col0\" >Huber Regressor</td>\n",
       "      <td id=\"T_f4c64_row8_col1\" class=\"data row8 col1\" >553.6198</td>\n",
       "      <td id=\"T_f4c64_row8_col2\" class=\"data row8 col2\" >1131870.8184</td>\n",
       "      <td id=\"T_f4c64_row8_col3\" class=\"data row8 col3\" >1038.2797</td>\n",
       "      <td id=\"T_f4c64_row8_col4\" class=\"data row8 col4\" >0.6020</td>\n",
       "      <td id=\"T_f4c64_row8_col5\" class=\"data row8 col5\" >0.3713</td>\n",
       "      <td id=\"T_f4c64_row8_col6\" class=\"data row8 col6\" >0.2969</td>\n",
       "      <td id=\"T_f4c64_row8_col7\" class=\"data row8 col7\" >0.0750</td>\n",
       "    </tr>\n",
       "    <tr>\n",
       "      <th id=\"T_f4c64_level0_row9\" class=\"row_heading level0 row9\" >ada</th>\n",
       "      <td id=\"T_f4c64_row9_col0\" class=\"data row9 col0\" >AdaBoost Regressor</td>\n",
       "      <td id=\"T_f4c64_row9_col1\" class=\"data row9 col1\" >620.0689</td>\n",
       "      <td id=\"T_f4c64_row9_col2\" class=\"data row9 col2\" >1261549.3514</td>\n",
       "      <td id=\"T_f4c64_row9_col3\" class=\"data row9 col3\" >1099.3655</td>\n",
       "      <td id=\"T_f4c64_row9_col4\" class=\"data row9 col4\" >0.5639</td>\n",
       "      <td id=\"T_f4c64_row9_col5\" class=\"data row9 col5\" >0.4593</td>\n",
       "      <td id=\"T_f4c64_row9_col6\" class=\"data row9 col6\" >0.4003</td>\n",
       "      <td id=\"T_f4c64_row9_col7\" class=\"data row9 col7\" >0.0820</td>\n",
       "    </tr>\n",
       "    <tr>\n",
       "      <th id=\"T_f4c64_level0_row10\" class=\"row_heading level0 row10\" >omp</th>\n",
       "      <td id=\"T_f4c64_row10_col0\" class=\"data row10 col0\" >Orthogonal Matching Pursuit</td>\n",
       "      <td id=\"T_f4c64_row10_col1\" class=\"data row10 col1\" >620.8700</td>\n",
       "      <td id=\"T_f4c64_row10_col2\" class=\"data row10 col2\" >1402364.1183</td>\n",
       "      <td id=\"T_f4c64_row10_col3\" class=\"data row10 col3\" >1149.5710</td>\n",
       "      <td id=\"T_f4c64_row10_col4\" class=\"data row10 col4\" >0.5180</td>\n",
       "      <td id=\"T_f4c64_row10_col5\" class=\"data row10 col5\" >0.4161</td>\n",
       "      <td id=\"T_f4c64_row10_col6\" class=\"data row10 col6\" >0.3393</td>\n",
       "      <td id=\"T_f4c64_row10_col7\" class=\"data row10 col7\" >0.0730</td>\n",
       "    </tr>\n",
       "    <tr>\n",
       "      <th id=\"T_f4c64_level0_row11\" class=\"row_heading level0 row11\" >dt</th>\n",
       "      <td id=\"T_f4c64_row11_col0\" class=\"data row11 col0\" >Decision Tree Regressor</td>\n",
       "      <td id=\"T_f4c64_row11_col1\" class=\"data row11 col1\" >672.2790</td>\n",
       "      <td id=\"T_f4c64_row11_col2\" class=\"data row11 col2\" >1565156.3495</td>\n",
       "      <td id=\"T_f4c64_row11_col3\" class=\"data row11 col3\" >1232.2221</td>\n",
       "      <td id=\"T_f4c64_row11_col4\" class=\"data row11 col4\" >0.4199</td>\n",
       "      <td id=\"T_f4c64_row11_col5\" class=\"data row11 col5\" >0.4952</td>\n",
       "      <td id=\"T_f4c64_row11_col6\" class=\"data row11 col6\" >0.4277</td>\n",
       "      <td id=\"T_f4c64_row11_col7\" class=\"data row11 col7\" >0.0720</td>\n",
       "    </tr>\n",
       "    <tr>\n",
       "      <th id=\"T_f4c64_level0_row12\" class=\"row_heading level0 row12\" >knn</th>\n",
       "      <td id=\"T_f4c64_row12_col0\" class=\"data row12 col0\" >K Neighbors Regressor</td>\n",
       "      <td id=\"T_f4c64_row12_col1\" class=\"data row12 col1\" >748.2536</td>\n",
       "      <td id=\"T_f4c64_row12_col2\" class=\"data row12 col2\" >1928241.8518</td>\n",
       "      <td id=\"T_f4c64_row12_col3\" class=\"data row12 col3\" >1370.5271</td>\n",
       "      <td id=\"T_f4c64_row12_col4\" class=\"data row12 col4\" >0.3161</td>\n",
       "      <td id=\"T_f4c64_row12_col5\" class=\"data row12 col5\" >0.5074</td>\n",
       "      <td id=\"T_f4c64_row12_col6\" class=\"data row12 col6\" >0.4572</td>\n",
       "      <td id=\"T_f4c64_row12_col7\" class=\"data row12 col7\" >0.0790</td>\n",
       "    </tr>\n",
       "    <tr>\n",
       "      <th id=\"T_f4c64_level0_row13\" class=\"row_heading level0 row13\" >lasso</th>\n",
       "      <td id=\"T_f4c64_row13_col0\" class=\"data row13 col0\" >Lasso Regression</td>\n",
       "      <td id=\"T_f4c64_row13_col1\" class=\"data row13 col1\" >857.8704</td>\n",
       "      <td id=\"T_f4c64_row13_col2\" class=\"data row13 col2\" >2653743.2560</td>\n",
       "      <td id=\"T_f4c64_row13_col3\" class=\"data row13 col3\" >1593.5390</td>\n",
       "      <td id=\"T_f4c64_row13_col4\" class=\"data row13 col4\" >0.0198</td>\n",
       "      <td id=\"T_f4c64_row13_col5\" class=\"data row13 col5\" >0.5632</td>\n",
       "      <td id=\"T_f4c64_row13_col6\" class=\"data row13 col6\" >0.4866</td>\n",
       "      <td id=\"T_f4c64_row13_col7\" class=\"data row13 col7\" >0.1230</td>\n",
       "    </tr>\n",
       "    <tr>\n",
       "      <th id=\"T_f4c64_level0_row14\" class=\"row_heading level0 row14\" >llar</th>\n",
       "      <td id=\"T_f4c64_row14_col0\" class=\"data row14 col0\" >Lasso Least Angle Regression</td>\n",
       "      <td id=\"T_f4c64_row14_col1\" class=\"data row14 col1\" >857.8704</td>\n",
       "      <td id=\"T_f4c64_row14_col2\" class=\"data row14 col2\" >2653743.2560</td>\n",
       "      <td id=\"T_f4c64_row14_col3\" class=\"data row14 col3\" >1593.5390</td>\n",
       "      <td id=\"T_f4c64_row14_col4\" class=\"data row14 col4\" >0.0198</td>\n",
       "      <td id=\"T_f4c64_row14_col5\" class=\"data row14 col5\" >0.5632</td>\n",
       "      <td id=\"T_f4c64_row14_col6\" class=\"data row14 col6\" >0.4866</td>\n",
       "      <td id=\"T_f4c64_row14_col7\" class=\"data row14 col7\" >0.0740</td>\n",
       "    </tr>\n",
       "    <tr>\n",
       "      <th id=\"T_f4c64_level0_row15\" class=\"row_heading level0 row15\" >dummy</th>\n",
       "      <td id=\"T_f4c64_row15_col0\" class=\"data row15 col0\" >Dummy Regressor</td>\n",
       "      <td id=\"T_f4c64_row15_col1\" class=\"data row15 col1\" >957.8597</td>\n",
       "      <td id=\"T_f4c64_row15_col2\" class=\"data row15 col2\" >3125331.2962</td>\n",
       "      <td id=\"T_f4c64_row15_col3\" class=\"data row15 col3\" >1737.5140</td>\n",
       "      <td id=\"T_f4c64_row15_col4\" class=\"data row15 col4\" >-0.0799</td>\n",
       "      <td id=\"T_f4c64_row15_col5\" class=\"data row15 col5\" >0.6602</td>\n",
       "      <td id=\"T_f4c64_row15_col6\" class=\"data row15 col6\" >0.5429</td>\n",
       "      <td id=\"T_f4c64_row15_col7\" class=\"data row15 col7\" >0.0820</td>\n",
       "    </tr>\n",
       "    <tr>\n",
       "      <th id=\"T_f4c64_level0_row16\" class=\"row_heading level0 row16\" >en</th>\n",
       "      <td id=\"T_f4c64_row16_col0\" class=\"data row16 col0\" >Elastic Net</td>\n",
       "      <td id=\"T_f4c64_row16_col1\" class=\"data row16 col1\" >871.2701</td>\n",
       "      <td id=\"T_f4c64_row16_col2\" class=\"data row16 col2\" >3225480.9777</td>\n",
       "      <td id=\"T_f4c64_row16_col3\" class=\"data row16 col3\" >1703.2247</td>\n",
       "      <td id=\"T_f4c64_row16_col4\" class=\"data row16 col4\" >-0.2624</td>\n",
       "      <td id=\"T_f4c64_row16_col5\" class=\"data row16 col5\" >0.5618</td>\n",
       "      <td id=\"T_f4c64_row16_col6\" class=\"data row16 col6\" >0.4925</td>\n",
       "      <td id=\"T_f4c64_row16_col7\" class=\"data row16 col7\" >0.0710</td>\n",
       "    </tr>\n",
       "  </tbody>\n",
       "</table>\n"
      ],
      "text/plain": [
       "<pandas.io.formats.style.Styler at 0x20775df9fa0>"
      ]
     },
     "metadata": {},
     "output_type": "display_data"
    },
    {
     "data": {
      "text/html": [],
      "text/plain": [
       "<IPython.core.display.HTML object>"
      ]
     },
     "metadata": {},
     "output_type": "display_data"
    }
   ],
   "source": [
    "best = compare_models()"
   ]
  },
  {
   "cell_type": "code",
   "execution_count": 28,
   "id": "c966fd5f",
   "metadata": {},
   "outputs": [
    {
     "data": {
      "text/html": [],
      "text/plain": [
       "<IPython.core.display.HTML object>"
      ]
     },
     "metadata": {},
     "output_type": "display_data"
    },
    {
     "data": {
      "application/vnd.jupyter.widget-view+json": {
       "model_id": "c122b33be3f84e29b4ccab295fc765ea",
       "version_major": 2,
       "version_minor": 0
      },
      "text/plain": [
       "VBox(children=(HBox(children=(TukeyAnscombeWidget({\n",
       "    'data': [{'hovertemplate': 'Split=train<br>Predictions…"
      ]
     },
     "metadata": {},
     "output_type": "display_data"
    }
   ],
   "source": [
    "plot_model(best, plot = 'residuals_interactive')\n"
   ]
  },
  {
   "cell_type": "code",
   "execution_count": 29,
   "id": "d51f8592",
   "metadata": {},
   "outputs": [
    {
     "data": {
      "text/html": [],
      "text/plain": [
       "<IPython.core.display.HTML object>"
      ]
     },
     "metadata": {},
     "output_type": "display_data"
    },
    {
     "data": {
      "image/png": "[encoded data removed]",
      "text/plain": [
       "<Figure size 800x500 with 1 Axes>"
      ]
     },
     "metadata": {},
     "output_type": "display_data"
    }
   ],
   "source": [
    "plot_model(best, plot = 'feature')\n"
   ]
  },
  {
   "cell_type": "code",
   "execution_count": 30,
   "id": "c14e5dcc",
   "metadata": {},
   "outputs": [],
   "source": [
    "# finalize the model\n",
    "final_best = finalize_model(best)"
   ]
  },
  {
   "cell_type": "code",
   "execution_count": 31,
   "id": "3ff57829",
   "metadata": {},
   "outputs": [
    {
     "data": {
      "text/html": [
       "<style>#sk-container-id-2 {color: black;background-color: white;}#sk-container-id-2 pre{padding: 0;}#sk-container-id-2 div.sk-toggleable {background-color: white;}#sk-container-id-2 label.sk-toggleable__label {cursor: pointer;display: block;width: 100%;margin-bottom: 0;padding: 0.3em;box-sizing: border-box;text-align: center;}#sk-container-id-2 label.sk-toggleable__label-arrow:before {content: \"▸\";float: left;margin-right: 0.25em;color: #696969;}#sk-container-id-2 label.sk-toggleable__label-arrow:hover:before {color: black;}#sk-container-id-2 div.sk-estimator:hover label.sk-toggleable__label-arrow:before {color: black;}#sk-container-id-2 div.sk-toggleable__content {max-height: 0;max-width: 0;overflow: hidden;text-align: left;background-color: #f0f8ff;}#sk-container-id-2 div.sk-toggleable__content pre {margin: 0.2em;color: black;border-radius: 0.25em;background-color: #f0f8ff;}#sk-container-id-2 input.sk-toggleable__control:checked~div.sk-toggleable__content {max-height: 200px;max-width: 100%;overflow: auto;}#sk-container-id-2 input.sk-toggleable__control:checked~label.sk-toggleable__label-arrow:before {content: \"▾\";}#sk-container-id-2 div.sk-estimator input.sk-toggleable__control:checked~label.sk-toggleable__label {background-color: #d4ebff;}#sk-container-id-2 div.sk-label input.sk-toggleable__control:checked~label.sk-toggleable__label {background-color: #d4ebff;}#sk-container-id-2 input.sk-hidden--visually {border: 0;clip: rect(1px 1px 1px 1px);clip: rect(1px, 1px, 1px, 1px);height: 1px;margin: -1px;overflow: hidden;padding: 0;position: absolute;width: 1px;}#sk-container-id-2 div.sk-estimator {font-family: monospace;background-color: #f0f8ff;border: 1px dotted black;border-radius: 0.25em;box-sizing: border-box;margin-bottom: 0.5em;}#sk-container-id-2 div.sk-estimator:hover {background-color: #d4ebff;}#sk-container-id-2 div.sk-parallel-item::after {content: \"\";width: 100%;border-bottom: 1px solid gray;flex-grow: 1;}#sk-container-id-2 div.sk-label:hover label.sk-toggleable__label {background-color: #d4ebff;}#sk-container-id-2 div.sk-serial::before {content: \"\";position: absolute;border-left: 1px solid gray;box-sizing: border-box;top: 0;bottom: 0;left: 50%;z-index: 0;}#sk-container-id-2 div.sk-serial {display: flex;flex-direction: column;align-items: center;background-color: white;padding-right: 0.2em;padding-left: 0.2em;position: relative;}#sk-container-id-2 div.sk-item {position: relative;z-index: 1;}#sk-container-id-2 div.sk-parallel {display: flex;align-items: stretch;justify-content: center;background-color: white;position: relative;}#sk-container-id-2 div.sk-item::before, #sk-container-id-2 div.sk-parallel-item::before {content: \"\";position: absolute;border-left: 1px solid gray;box-sizing: border-box;top: 0;bottom: 0;left: 50%;z-index: -1;}#sk-container-id-2 div.sk-parallel-item {display: flex;flex-direction: column;z-index: 1;position: relative;background-color: white;}#sk-container-id-2 div.sk-parallel-item:first-child::after {align-self: flex-end;width: 50%;}#sk-container-id-2 div.sk-parallel-item:last-child::after {align-self: flex-start;width: 50%;}#sk-container-id-2 div.sk-parallel-item:only-child::after {width: 0;}#sk-container-id-2 div.sk-dashed-wrapped {border: 1px dashed gray;margin: 0 0.4em 0.5em 0.4em;box-sizing: border-box;padding-bottom: 0.4em;background-color: white;}#sk-container-id-2 div.sk-label label {font-family: monospace;font-weight: bold;display: inline-block;line-height: 1.2em;}#sk-container-id-2 div.sk-label-container {text-align: center;}#sk-container-id-2 div.sk-container {/* jupyter's `normalize.less` sets `[hidden] { display: none; }` but bootstrap.min.css set `[hidden] { display: none !important; }` so we also need the `!important` here to be able to override the default hidden behavior on the sphinx rendered scikit-learn.org. See: https://github.com/scikit-learn/scikit-learn/issues/21755 */display: inline-block !important;position: relative;}#sk-container-id-2 div.sk-text-repr-fallback {display: none;}</style><div id=\"sk-container-id-2\" class=\"sk-top-container\"><div class=\"sk-text-repr-fallback\"><pre>Pipeline(memory=FastMemory(location=C:\\Users\\MARCOS~1\\AppData\\Local\\Temp\\joblib),\n",
       "         steps=[(&#x27;target_transformation&#x27;,\n",
       "                 TransformerWrapperWithInverse(transformer=TargetTransformer(estimator=PowerTransformer(standardize=False)))),\n",
       "                (&#x27;numerical_imputer&#x27;,\n",
       "                 TransformerWrapper(include=[&#x27;metric&#x27;, &#x27;rooms&#x27;, &#x27;bathroom&#x27;],\n",
       "                                    transformer=SimpleImputer())),\n",
       "                (&#x27;categorical_impute...\n",
       "                              feature_types=None, gamma=None, gpu_id=None,\n",
       "                              grow_policy=None, importance_type=None,\n",
       "                              interaction_constraints=None, learning_rate=None,\n",
       "                              max_bin=None, max_cat_threshold=None,\n",
       "                              max_cat_to_onehot=None, max_delta_step=None,\n",
       "                              max_depth=None, max_leaves=None,\n",
       "                              min_child_weight=None, missing=nan,\n",
       "                              monotone_constraints=None, n_estimators=100,\n",
       "                              n_jobs=-1, num_parallel_tree=None, predictor=None,\n",
       "                              random_state=7282, ...))])</pre><b>In a Jupyter environment, please rerun this cell to show the HTML representation or trust the notebook. <br />On GitHub, the HTML representation is unable to render, please try loading this page with nbviewer.org.</b></div><div class=\"sk-container\" hidden><div class=\"sk-item sk-dashed-wrapped\"><div class=\"sk-label-container\"><div class=\"sk-label sk-toggleable\"><input class=\"sk-toggleable__control sk-hidden--visually\" id=\"sk-estimator-id-2\" type=\"checkbox\" ><label for=\"sk-estimator-id-2\" class=\"sk-toggleable__label sk-toggleable__label-arrow\">Pipeline</label><div class=\"sk-toggleable__content\"><pre>Pipeline(memory=FastMemory(location=C:\\Users\\MARCOS~1\\AppData\\Local\\Temp\\joblib),\n",
       "         steps=[(&#x27;target_transformation&#x27;,\n",
       "                 TransformerWrapperWithInverse(transformer=TargetTransformer(estimator=PowerTransformer(standardize=False)))),\n",
       "                (&#x27;numerical_imputer&#x27;,\n",
       "                 TransformerWrapper(include=[&#x27;metric&#x27;, &#x27;rooms&#x27;, &#x27;bathroom&#x27;],\n",
       "                                    transformer=SimpleImputer())),\n",
       "                (&#x27;categorical_impute...\n",
       "                              feature_types=None, gamma=None, gpu_id=None,\n",
       "                              grow_policy=None, importance_type=None,\n",
       "                              interaction_constraints=None, learning_rate=None,\n",
       "                              max_bin=None, max_cat_threshold=None,\n",
       "                              max_cat_to_onehot=None, max_delta_step=None,\n",
       "                              max_depth=None, max_leaves=None,\n",
       "                              min_child_weight=None, missing=nan,\n",
       "                              monotone_constraints=None, n_estimators=100,\n",
       "                              n_jobs=-1, num_parallel_tree=None, predictor=None,\n",
       "                              random_state=7282, ...))])</pre></div></div></div><div class=\"sk-serial\"><div class=\"sk-item sk-dashed-wrapped\"><div class=\"sk-label-container\"><div class=\"sk-label sk-toggleable\"><input class=\"sk-toggleable__control sk-hidden--visually\" id=\"sk-estimator-id-3\" type=\"checkbox\" ><label for=\"sk-estimator-id-3\" class=\"sk-toggleable__label sk-toggleable__label-arrow\">target_transformation: TransformerWrapperWithInverse</label><div class=\"sk-toggleable__content\"><pre>TransformerWrapperWithInverse(transformer=TargetTransformer(estimator=PowerTransformer(standardize=False)))</pre></div></div></div><div class=\"sk-parallel\"><div class=\"sk-parallel-item\"><div class=\"sk-item\"><div class=\"sk-label-container\"><div class=\"sk-label sk-toggleable\"><input class=\"sk-toggleable__control sk-hidden--visually\" id=\"sk-estimator-id-4\" type=\"checkbox\" ><label for=\"sk-estimator-id-4\" class=\"sk-toggleable__label sk-toggleable__label-arrow\">transformer: TargetTransformer</label><div class=\"sk-toggleable__content\"><pre>TargetTransformer(estimator=PowerTransformer(standardize=False))</pre></div></div></div><div class=\"sk-serial\"><div class=\"sk-item sk-dashed-wrapped\"><div class=\"sk-parallel\"><div class=\"sk-parallel-item\"><div class=\"sk-item\"><div class=\"sk-label-container\"><div class=\"sk-label sk-toggleable\"><input class=\"sk-toggleable__control sk-hidden--visually\" id=\"sk-estimator-id-5\" type=\"checkbox\" ><label for=\"sk-estimator-id-5\" class=\"sk-toggleable__label sk-toggleable__label-arrow\">estimator: PowerTransformer</label><div class=\"sk-toggleable__content\"><pre>PowerTransformer(standardize=False)</pre></div></div></div><div class=\"sk-serial\"><div class=\"sk-item\"><div class=\"sk-estimator sk-toggleable\"><input class=\"sk-toggleable__control sk-hidden--visually\" id=\"sk-estimator-id-6\" type=\"checkbox\" ><label for=\"sk-estimator-id-6\" class=\"sk-toggleable__label sk-toggleable__label-arrow\">PowerTransformer</label><div class=\"sk-toggleable__content\"><pre>PowerTransformer(standardize=False)</pre></div></div></div></div></div></div></div></div></div></div></div></div></div><div class=\"sk-item sk-dashed-wrapped\"><div class=\"sk-label-container\"><div class=\"sk-label sk-toggleable\"><input class=\"sk-toggleable__control sk-hidden--visually\" id=\"sk-estimator-id-7\" type=\"checkbox\" ><label for=\"sk-estimator-id-7\" class=\"sk-toggleable__label sk-toggleable__label-arrow\">numerical_imputer: TransformerWrapper</label><div class=\"sk-toggleable__content\"><pre>TransformerWrapper(include=[&#x27;metric&#x27;, &#x27;rooms&#x27;, &#x27;bathroom&#x27;],\n",
       "                   transformer=SimpleImputer())</pre></div></div></div><div class=\"sk-parallel\"><div class=\"sk-parallel-item\"><div class=\"sk-item\"><div class=\"sk-label-container\"><div class=\"sk-label sk-toggleable\"><input class=\"sk-toggleable__control sk-hidden--visually\" id=\"sk-estimator-id-8\" type=\"checkbox\" ><label for=\"sk-estimator-id-8\" class=\"sk-toggleable__label sk-toggleable__label-arrow\">transformer: SimpleImputer</label><div class=\"sk-toggleable__content\"><pre>SimpleImputer()</pre></div></div></div><div class=\"sk-serial\"><div class=\"sk-item\"><div class=\"sk-estimator sk-toggleable\"><input class=\"sk-toggleable__control sk-hidden--visually\" id=\"sk-estimator-id-9\" type=\"checkbox\" ><label for=\"sk-estimator-id-9\" class=\"sk-toggleable__label sk-toggleable__label-arrow\">SimpleImputer</label><div class=\"sk-toggleable__content\"><pre>SimpleImputer()</pre></div></div></div></div></div></div></div></div><div class=\"sk-item sk-dashed-wrapped\"><div class=\"sk-label-container\"><div class=\"sk-label sk-toggleable\"><input class=\"sk-toggleable__control sk-hidden--visually\" id=\"sk-estimator-id-10\" type=\"checkbox\" ><label for=\"sk-estimator-id-10\" class=\"sk-toggleable__label sk-toggleable__label-arrow\">categorical_imputer: TransformerWrapper</label><div class=\"sk-toggleable__content\"><pre>TransformerWrapper(include=[&#x27;energy_certify&#x27;, &#x27;location&#x27;, &#x27;property_type&#x27;,\n",
       "                            &#x27;district&#x27;, &#x27;condition&#x27;],\n",
       "                   transformer=SimpleImputer(strategy=&#x27;most_frequent&#x27;))</pre></div></div></div><div class=\"sk-parallel\"><div class=\"sk-parallel-item\"><div class=\"sk-item\"><div class=\"sk-label-container\"><div class=\"sk-label sk-toggleable\"><input class=\"sk-toggleable__control sk-hidden--visually\" id=\"sk-estimator-id-11\" type=\"checkbox\" ><label for=\"sk-estimator-id-11\" class=\"sk-toggleable__label sk-toggleable__label-arrow\">transformer: SimpleImputer</label><div class=\"sk-toggleable__content\"><pre>SimpleImputer(strategy=&#x27;most_frequent&#x27;)</pre></div></div></div><div class=\"sk-serial\"><div class=\"sk-item\"><div class=\"sk-estimator sk-toggleable\"><input class=\"sk-toggleable__control sk-hidden--visually\" id=\"sk-estimator-id-12\" type=\"checkbox\" ><label for=\"sk-estimator-id-12\" class=\"sk-toggleable__label sk-toggleable__label-arrow\">SimpleImputer</label><div class=\"sk-toggleable__content\"><pre>SimpleImputer(strategy=&#x27;most_frequent&#x27;)</pre></div></div></div></div></div></div></div></div><div class=\"sk-item sk-dashed-wrapped\"><div class=\"sk-label-container\"><div class=\"sk-label sk-toggleable\"><input class=\"sk-toggleable__control sk-hidden--visually\" id=\"sk-estimator-id-13\" type=\"checkbox\" ><label for=\"sk-estimator-id-13\" class=\"sk-toggleable__label sk-toggleable__label-arrow\">ordinal_encoding: TransformerWrapper</label><div class=\"sk-toggleable__content\"><pre>TransformerWrapper(include=[&#x27;property_type&#x27;],\n",
       "                   transformer=OrdinalEncoder(cols=[&#x27;property_type&#x27;],\n",
       "                                              handle_missing=&#x27;return_nan&#x27;,\n",
       "                                              mapping=[{&#x27;col&#x27;: &#x27;property_type&#x27;,\n",
       "                                                        &#x27;data_type&#x27;: dtype(&#x27;O&#x27;),\n",
       "                                                        &#x27;mapping&#x27;: apartamento    0\n",
       "moradia        1\n",
       "NaN           -1\n",
       "dtype: int64}]))</pre></div></div></div><div class=\"sk-parallel\"><div class=\"sk-parallel-item\"><div class=\"sk-item\"><div class=\"sk-label-container\"><div class=\"sk-label sk-toggleable\"><input class=\"sk-toggleable__control sk-hidden--visually\" id=\"sk-estimator-id-14\" type=\"checkbox\" ><label for=\"sk-estimator-id-14\" class=\"sk-toggleable__label sk-toggleable__label-arrow\">transformer: OrdinalEncoder</label><div class=\"sk-toggleable__content\"><pre>OrdinalEncoder(cols=[&#x27;property_type&#x27;], handle_missing=&#x27;return_nan&#x27;,\n",
       "               mapping=[{&#x27;col&#x27;: &#x27;property_type&#x27;, &#x27;data_type&#x27;: dtype(&#x27;O&#x27;),\n",
       "                         &#x27;mapping&#x27;: apartamento    0\n",
       "moradia        1\n",
       "NaN           -1\n",
       "dtype: int64}])</pre></div></div></div><div class=\"sk-serial\"><div class=\"sk-item\"><div class=\"sk-estimator sk-toggleable\"><input class=\"sk-toggleable__control sk-hidden--visually\" id=\"sk-estimator-id-15\" type=\"checkbox\" ><label for=\"sk-estimator-id-15\" class=\"sk-toggleable__label sk-toggleable__label-arrow\">OrdinalEncoder</label><div class=\"sk-toggleable__content\"><pre>OrdinalEncoder(cols=[&#x27;property_type&#x27;], handle_missing=&#x27;return_nan&#x27;,\n",
       "               mapping=[{&#x27;col&#x27;: &#x27;property_type&#x27;, &#x27;data_type&#x27;: dtype(&#x27;O&#x27;),\n",
       "                         &#x27;mapping&#x27;: apartamento    0\n",
       "moradia        1\n",
       "NaN           -1\n",
       "dtype: int64}])</pre></div></div></div></div></div></div></div></div><div class=\"sk-item sk-dashed-wrapped\"><div class=\"sk-label-container\"><div class=\"sk-label sk-toggleable\"><input class=\"sk-toggleable__control sk-hidden--visually\" id=\"sk-estimator-id-16\" type=\"checkbox\" ><label for=\"sk-estimator-id-16\" class=\"sk-toggleable__label sk-toggleable__label-arrow\">onehot_encoding: TransformerWrapper</label><div class=\"sk-toggleable__content\"><pre>TransformerWrapper(include=[&#x27;energy_certify&#x27;, &#x27;district&#x27;, &#x27;condition&#x27;],\n",
       "                   transformer=OneHotEncoder(cols=[&#x27;energy_certify&#x27;, &#x27;district&#x27;,\n",
       "                                                   &#x27;condition&#x27;],\n",
       "                                             handle_missing=&#x27;return_nan&#x27;,\n",
       "                                             use_cat_names=True))</pre></div></div></div><div class=\"sk-parallel\"><div class=\"sk-parallel-item\"><div class=\"sk-item\"><div class=\"sk-label-container\"><div class=\"sk-label sk-toggleable\"><input class=\"sk-toggleable__control sk-hidden--visually\" id=\"sk-estimator-id-17\" type=\"checkbox\" ><label for=\"sk-estimator-id-17\" class=\"sk-toggleable__label sk-toggleable__label-arrow\">transformer: OneHotEncoder</label><div class=\"sk-toggleable__content\"><pre>OneHotEncoder(cols=[&#x27;energy_certify&#x27;, &#x27;district&#x27;, &#x27;condition&#x27;],\n",
       "              handle_missing=&#x27;return_nan&#x27;, use_cat_names=True)</pre></div></div></div><div class=\"sk-serial\"><div class=\"sk-item\"><div class=\"sk-estimator sk-toggleable\"><input class=\"sk-toggleable__control sk-hidden--visually\" id=\"sk-estimator-id-18\" type=\"checkbox\" ><label for=\"sk-estimator-id-18\" class=\"sk-toggleable__label sk-toggleable__label-arrow\">OneHotEncoder</label><div class=\"sk-toggleable__content\"><pre>OneHotEncoder(cols=[&#x27;energy_certify&#x27;, &#x27;district&#x27;, &#x27;condition&#x27;],\n",
       "              handle_missing=&#x27;return_nan&#x27;, use_cat_names=True)</pre></div></div></div></div></div></div></div></div><div class=\"sk-item sk-dashed-wrapped\"><div class=\"sk-label-container\"><div class=\"sk-label sk-toggleable\"><input class=\"sk-toggleable__control sk-hidden--visually\" id=\"sk-estimator-id-19\" type=\"checkbox\" ><label for=\"sk-estimator-id-19\" class=\"sk-toggleable__label sk-toggleable__label-arrow\">rest_encoding: TransformerWrapper</label><div class=\"sk-toggleable__content\"><pre>TransformerWrapper(include=[&#x27;location&#x27;],\n",
       "                   transformer=TargetEncoder(cols=[&#x27;location&#x27;],\n",
       "                                             handle_missing=&#x27;return_nan&#x27;))</pre></div></div></div><div class=\"sk-parallel\"><div class=\"sk-parallel-item\"><div class=\"sk-item\"><div class=\"sk-label-container\"><div class=\"sk-label sk-toggleable\"><input class=\"sk-toggleable__control sk-hidden--visually\" id=\"sk-estimator-id-20\" type=\"checkbox\" ><label for=\"sk-estimator-id-20\" class=\"sk-toggleable__label sk-toggleable__label-arrow\">transformer: TargetEncoder</label><div class=\"sk-toggleable__content\"><pre>TargetEncoder(cols=[&#x27;location&#x27;], handle_missing=&#x27;return_nan&#x27;)</pre></div></div></div><div class=\"sk-serial\"><div class=\"sk-item\"><div class=\"sk-estimator sk-toggleable\"><input class=\"sk-toggleable__control sk-hidden--visually\" id=\"sk-estimator-id-21\" type=\"checkbox\" ><label for=\"sk-estimator-id-21\" class=\"sk-toggleable__label sk-toggleable__label-arrow\">TargetEncoder</label><div class=\"sk-toggleable__content\"><pre>TargetEncoder(cols=[&#x27;location&#x27;], handle_missing=&#x27;return_nan&#x27;)</pre></div></div></div></div></div></div></div></div><div class=\"sk-item\"><div class=\"sk-estimator sk-toggleable\"><input class=\"sk-toggleable__control sk-hidden--visually\" id=\"sk-estimator-id-22\" type=\"checkbox\" ><label for=\"sk-estimator-id-22\" class=\"sk-toggleable__label sk-toggleable__label-arrow\">XGBRegressor</label><div class=\"sk-toggleable__content\"><pre>XGBRegressor(base_score=None, booster=&#x27;gbtree&#x27;, callbacks=None,\n",
       "             colsample_bylevel=None, colsample_bynode=None,\n",
       "             colsample_bytree=None, early_stopping_rounds=None,\n",
       "             enable_categorical=False, eval_metric=None, feature_types=None,\n",
       "             gamma=None, gpu_id=None, grow_policy=None, importance_type=None,\n",
       "             interaction_constraints=None, learning_rate=None, max_bin=None,\n",
       "             max_cat_threshold=None, max_cat_to_onehot=None,\n",
       "             max_delta_step=None, max_depth=None, max_leaves=None,\n",
       "             min_child_weight=None, missing=nan, monotone_constraints=None,\n",
       "             n_estimators=100, n_jobs=-1, num_parallel_tree=None,\n",
       "             predictor=None, random_state=7282, ...)</pre></div></div></div></div></div></div></div>"
      ],
      "text/plain": [
       "Pipeline(memory=FastMemory(location=C:\\Users\\MARCOS~1\\AppData\\Local\\Temp\\joblib),\n",
       "         steps=[('target_transformation',\n",
       "                 TransformerWrapperWithInverse(transformer=TargetTransformer(estimator=PowerTransformer(standardize=False)))),\n",
       "                ('numerical_imputer',\n",
       "                 TransformerWrapper(include=['metric', 'rooms', 'bathroom'],\n",
       "                                    transformer=SimpleImputer())),\n",
       "                ('categorical_impute...\n",
       "                              feature_types=None, gamma=None, gpu_id=None,\n",
       "                              grow_policy=None, importance_type=None,\n",
       "                              interaction_constraints=None, learning_rate=None,\n",
       "                              max_bin=None, max_cat_threshold=None,\n",
       "                              max_cat_to_onehot=None, max_delta_step=None,\n",
       "                              max_depth=None, max_leaves=None,\n",
       "                              min_child_weight=None, missing=nan,\n",
       "                              monotone_constraints=None, n_estimators=100,\n",
       "                              n_jobs=-1, num_parallel_tree=None, predictor=None,\n",
       "                              random_state=7282, ...))])"
      ]
     },
     "execution_count": 31,
     "metadata": {},
     "output_type": "execute_result"
    }
   ],
   "source": [
    "final_best"
   ]
  },
  {
   "cell_type": "code",
   "execution_count": 33,
   "id": "a57edd32",
   "metadata": {},
   "outputs": [
    {
     "data": {
      "text/html": [
       "<div>\n",
       "<style scoped>\n",
       "    .dataframe tbody tr th:only-of-type {\n",
       "        vertical-align: middle;\n",
       "    }\n",
       "\n",
       "    .dataframe tbody tr th {\n",
       "        vertical-align: top;\n",
       "    }\n",
       "\n",
       "    .dataframe thead th {\n",
       "        text-align: right;\n",
       "    }\n",
       "</style>\n",
       "<table border=\"1\" class=\"dataframe\">\n",
       "  <thead>\n",
       "    <tr style=\"text-align: right;\">\n",
       "      <th></th>\n",
       "      <th>energy_certify</th>\n",
       "      <th>metric</th>\n",
       "      <th>description</th>\n",
       "      <th>location</th>\n",
       "      <th>rooms</th>\n",
       "      <th>company</th>\n",
       "      <th>property_type</th>\n",
       "      <th>district</th>\n",
       "      <th>bathroom</th>\n",
       "      <th>condition</th>\n",
       "    </tr>\n",
       "  </thead>\n",
       "  <tbody>\n",
       "    <tr>\n",
       "      <th>0</th>\n",
       "      <td>D</td>\n",
       "      <td>30.03</td>\n",
       "      <td>Apartamento T1 para Arrendamento à Casa da Música</td>\n",
       "      <td>Lordelo do Ouro e Massarelos, Porto</td>\n",
       "      <td>1</td>\n",
       "      <td>Frontal Imobiliaria</td>\n",
       "      <td>apartamento</td>\n",
       "      <td>Porto</td>\n",
       "      <td>1.0</td>\n",
       "      <td>Usado</td>\n",
       "    </tr>\n",
       "    <tr>\n",
       "      <th>1</th>\n",
       "      <td>C</td>\n",
       "      <td>114.00</td>\n",
       "      <td>Apartamento T2 - Jardins da Parede.</td>\n",
       "      <td>Carcavelos e Parede, Cascais, Lisboa</td>\n",
       "      <td>2</td>\n",
       "      <td>La Vita - Homes -</td>\n",
       "      <td>apartamento</td>\n",
       "      <td>Lisboa</td>\n",
       "      <td>3.0</td>\n",
       "      <td>Renovado</td>\n",
       "    </tr>\n",
       "    <tr>\n",
       "      <th>2</th>\n",
       "      <td>D</td>\n",
       "      <td>90.00</td>\n",
       "      <td>Apartamento T2 em Tavira - Centro</td>\n",
       "      <td>Luz de Tavira e Santo Estêvão, Tavira, Faro</td>\n",
       "      <td>2</td>\n",
       "      <td>OLX</td>\n",
       "      <td>apartamento</td>\n",
       "      <td>Faro</td>\n",
       "      <td>1.0</td>\n",
       "      <td>Usado</td>\n",
       "    </tr>\n",
       "    <tr>\n",
       "      <th>3</th>\n",
       "      <td>C</td>\n",
       "      <td>85.00</td>\n",
       "      <td>Apartamento para alugar com 2 quartos (3 assoa...</td>\n",
       "      <td>Oeiras e São Julião da Barra, Paço de Arcos e ...</td>\n",
       "      <td>2</td>\n",
       "      <td>AbelhaZ - Mediação Imobiliária Unip., Lda</td>\n",
       "      <td>apartamento</td>\n",
       "      <td>Lisboa</td>\n",
       "      <td>2.0</td>\n",
       "      <td>Usado</td>\n",
       "    </tr>\n",
       "    <tr>\n",
       "      <th>4</th>\n",
       "      <td>C</td>\n",
       "      <td>100.00</td>\n",
       "      <td>Apartamento T3 em Esposende para arrendar</td>\n",
       "      <td>Esposende, Marinhas e Gandra, Esposende, Braga</td>\n",
       "      <td>3</td>\n",
       "      <td>GLOBODOMINANTE Soluções Imobiliárias</td>\n",
       "      <td>apartamento</td>\n",
       "      <td>Braga</td>\n",
       "      <td>1.0</td>\n",
       "      <td>Novo</td>\n",
       "    </tr>\n",
       "    <tr>\n",
       "      <th>...</th>\n",
       "      <td>...</td>\n",
       "      <td>...</td>\n",
       "      <td>...</td>\n",
       "      <td>...</td>\n",
       "      <td>...</td>\n",
       "      <td>...</td>\n",
       "      <td>...</td>\n",
       "      <td>...</td>\n",
       "      <td>...</td>\n",
       "      <td>...</td>\n",
       "    </tr>\n",
       "    <tr>\n",
       "      <th>2172</th>\n",
       "      <td>A</td>\n",
       "      <td>100.00</td>\n",
       "      <td>Arrendo apartamento T3</td>\n",
       "      <td>Vila Real (Nossa Senhora da Conceição, São Ped...</td>\n",
       "      <td>3</td>\n",
       "      <td>OLX</td>\n",
       "      <td>apartamento</td>\n",
       "      <td>Vila Real</td>\n",
       "      <td>2.0</td>\n",
       "      <td>Usado</td>\n",
       "    </tr>\n",
       "    <tr>\n",
       "      <th>2173</th>\n",
       "      <td>C</td>\n",
       "      <td>108.00</td>\n",
       "      <td>APARTMENT T2, AVENIDA INFANTE SANTO,  ESTRELA,...</td>\n",
       "      <td>Estrela, Lisboa</td>\n",
       "      <td>2</td>\n",
       "      <td>KW LEAD</td>\n",
       "      <td>apartamento</td>\n",
       "      <td>Lisboa</td>\n",
       "      <td>2.0</td>\n",
       "      <td>Renovado</td>\n",
       "    </tr>\n",
       "    <tr>\n",
       "      <th>2174</th>\n",
       "      <td>D</td>\n",
       "      <td>85.00</td>\n",
       "      <td>Apartamento T3 com Jardim Exclusivo e Possibil...</td>\n",
       "      <td>Cascais e Estoril, Cascais, Lisboa</td>\n",
       "      <td>3</td>\n",
       "      <td>AFINEST - Abreu Faro - Mediação Imobiliária, Lda.</td>\n",
       "      <td>apartamento</td>\n",
       "      <td>Lisboa</td>\n",
       "      <td>2.0</td>\n",
       "      <td>Renovado</td>\n",
       "    </tr>\n",
       "    <tr>\n",
       "      <th>2175</th>\n",
       "      <td>C</td>\n",
       "      <td>98.00</td>\n",
       "      <td>Apartamento T3, REMODELADO, junto ao Jardim da...</td>\n",
       "      <td>Estrela, Lisboa</td>\n",
       "      <td>3</td>\n",
       "      <td>Home Tailors</td>\n",
       "      <td>apartamento</td>\n",
       "      <td>Lisboa</td>\n",
       "      <td>2.0</td>\n",
       "      <td>Renovado</td>\n",
       "    </tr>\n",
       "    <tr>\n",
       "      <th>2176</th>\n",
       "      <td>C</td>\n",
       "      <td>80.00</td>\n",
       "      <td>Apartamento T2, no centro da cidade de Tavira ...</td>\n",
       "      <td>Tavira (Santa Maria e Santiago), Tavira, Faro</td>\n",
       "      <td>2</td>\n",
       "      <td>Kimo Tavira</td>\n",
       "      <td>apartamento</td>\n",
       "      <td>Faro</td>\n",
       "      <td>1.0</td>\n",
       "      <td>Usado</td>\n",
       "    </tr>\n",
       "  </tbody>\n",
       "</table>\n",
       "<p>2177 rows × 10 columns</p>\n",
       "</div>"
      ],
      "text/plain": [
       "     energy_certify  metric  \\\n",
       "0                 D   30.03   \n",
       "1                 C  114.00   \n",
       "2                 D   90.00   \n",
       "3                 C   85.00   \n",
       "4                 C  100.00   \n",
       "...             ...     ...   \n",
       "2172              A  100.00   \n",
       "2173              C  108.00   \n",
       "2174              D   85.00   \n",
       "2175              C   98.00   \n",
       "2176              C   80.00   \n",
       "\n",
       "                                            description  \\\n",
       "0     Apartamento T1 para Arrendamento à Casa da Música   \n",
       "1                   Apartamento T2 - Jardins da Parede.   \n",
       "2                     Apartamento T2 em Tavira - Centro   \n",
       "3     Apartamento para alugar com 2 quartos (3 assoa...   \n",
       "4             Apartamento T3 em Esposende para arrendar   \n",
       "...                                                 ...   \n",
       "2172                             Arrendo apartamento T3   \n",
       "2173  APARTMENT T2, AVENIDA INFANTE SANTO,  ESTRELA,...   \n",
       "2174  Apartamento T3 com Jardim Exclusivo e Possibil...   \n",
       "2175  Apartamento T3, REMODELADO, junto ao Jardim da...   \n",
       "2176  Apartamento T2, no centro da cidade de Tavira ...   \n",
       "\n",
       "                                               location  rooms  \\\n",
       "0                   Lordelo do Ouro e Massarelos, Porto      1   \n",
       "1                  Carcavelos e Parede, Cascais, Lisboa      2   \n",
       "2           Luz de Tavira e Santo Estêvão, Tavira, Faro      2   \n",
       "3     Oeiras e São Julião da Barra, Paço de Arcos e ...      2   \n",
       "4        Esposende, Marinhas e Gandra, Esposende, Braga      3   \n",
       "...                                                 ...    ...   \n",
       "2172  Vila Real (Nossa Senhora da Conceição, São Ped...      3   \n",
       "2173                                    Estrela, Lisboa      2   \n",
       "2174                 Cascais e Estoril, Cascais, Lisboa      3   \n",
       "2175                                    Estrela, Lisboa      3   \n",
       "2176      Tavira (Santa Maria e Santiago), Tavira, Faro      2   \n",
       "\n",
       "                                                company property_type  \\\n",
       "0                                   Frontal Imobiliaria   apartamento   \n",
       "1                                     La Vita - Homes -   apartamento   \n",
       "2                                                   OLX   apartamento   \n",
       "3             AbelhaZ - Mediação Imobiliária Unip., Lda   apartamento   \n",
       "4                  GLOBODOMINANTE Soluções Imobiliárias   apartamento   \n",
       "...                                                 ...           ...   \n",
       "2172                                                OLX   apartamento   \n",
       "2173                                            KW LEAD   apartamento   \n",
       "2174  AFINEST - Abreu Faro - Mediação Imobiliária, Lda.   apartamento   \n",
       "2175                                       Home Tailors   apartamento   \n",
       "2176                                        Kimo Tavira   apartamento   \n",
       "\n",
       "       district  bathroom condition  \n",
       "0         Porto       1.0     Usado  \n",
       "1        Lisboa       3.0  Renovado  \n",
       "2          Faro       1.0     Usado  \n",
       "3        Lisboa       2.0     Usado  \n",
       "4         Braga       1.0      Novo  \n",
       "...         ...       ...       ...  \n",
       "2172  Vila Real       2.0     Usado  \n",
       "2173     Lisboa       2.0  Renovado  \n",
       "2174     Lisboa       2.0  Renovado  \n",
       "2175     Lisboa       2.0  Renovado  \n",
       "2176       Faro       1.0     Usado  \n",
       "\n",
       "[2177 rows x 10 columns]"
      ]
     },
     "execution_count": 33,
     "metadata": {},
     "output_type": "execute_result"
    }
   ],
   "source": [
    "X_val"
   ]
  },
  {
   "cell_type": "code",
   "execution_count": 35,
   "id": "e27b6802",
   "metadata": {},
   "outputs": [],
   "source": [
    "y_pred = final_best.predict(X_val.drop(['description', 'company'], axis=1))"
   ]
  },
  {
   "cell_type": "code",
   "execution_count": 36,
   "id": "25cb8c34",
   "metadata": {},
   "outputs": [
    {
     "data": {
      "text/plain": [
       "0"
      ]
     },
     "execution_count": 36,
     "metadata": {},
     "output_type": "execute_result"
    }
   ],
   "source": [
    "y_pred.isna().sum()"
   ]
  },
  {
   "cell_type": "code",
   "execution_count": 37,
   "id": "3a3286dc",
   "metadata": {},
   "outputs": [
    {
     "data": {
      "text/plain": [
       "0        966.428040\n",
       "1       2286.099365\n",
       "2        593.696838\n",
       "3       1554.612549\n",
       "4        966.778748\n",
       "           ...     \n",
       "2172     691.873108\n",
       "2173    2729.788086\n",
       "2174    3168.817871\n",
       "2175    2445.641846\n",
       "2176     856.957336\n",
       "Name: Price, Length: 2177, dtype: float32"
      ]
     },
     "execution_count": 37,
     "metadata": {},
     "output_type": "execute_result"
    }
   ],
   "source": [
    "y_pred"
   ]
  },
  {
   "cell_type": "code",
   "execution_count": 38,
   "id": "985d7958",
   "metadata": {},
   "outputs": [
    {
     "data": {
      "text/plain": [
       "317.3531351702526"
      ]
     },
     "execution_count": 38,
     "metadata": {},
     "output_type": "execute_result"
    }
   ],
   "source": [
    "mean_squared_error(y_val, round(y_pred), squared=False)"
   ]
  },
  {
   "cell_type": "code",
   "execution_count": 39,
   "id": "f3c50ce5",
   "metadata": {},
   "outputs": [
    {
     "data": {
      "text/plain": [
       "0       1000\n",
       "1       1950\n",
       "2        550\n",
       "3       1550\n",
       "4        900\n",
       "        ... \n",
       "2172     600\n",
       "2173    3000\n",
       "2174    3500\n",
       "2175    1900\n",
       "2176     900\n",
       "Name: price, Length: 2177, dtype: int32"
      ]
     },
     "execution_count": 39,
     "metadata": {},
     "output_type": "execute_result"
    }
   ],
   "source": [
    "y_val"
   ]
  },
  {
   "cell_type": "code",
   "execution_count": 40,
   "id": "98f8af30",
   "metadata": {},
   "outputs": [
    {
     "data": {
      "text/plain": [
       "0        966.0\n",
       "1       2286.0\n",
       "2        594.0\n",
       "3       1555.0\n",
       "4        967.0\n",
       "         ...  \n",
       "2172     692.0\n",
       "2173    2730.0\n",
       "2174    3169.0\n",
       "2175    2446.0\n",
       "2176     857.0\n",
       "Name: Price, Length: 2177, dtype: float32"
      ]
     },
     "execution_count": 40,
     "metadata": {},
     "output_type": "execute_result"
    }
   ],
   "source": [
    "round(y_pred)"
   ]
  },
  {
   "cell_type": "code",
   "execution_count": 41,
   "id": "b5ad67e0",
   "metadata": {},
   "outputs": [
    {
     "data": {
      "text/plain": [
       "0.9660404798968676"
      ]
     },
     "execution_count": 41,
     "metadata": {},
     "output_type": "execute_result"
    }
   ],
   "source": [
    "r2_score(y_val, round(y_pred))"
   ]
  },
  {
   "cell_type": "code",
   "execution_count": null,
   "id": "0db7d886",
   "metadata": {},
   "outputs": [],
   "source": [
    "# https://towardsdatascience.com/easy-mlops-with-pycaret-mlflow-7fbcbf1e38c6"
   ]
  }
 ],
 "metadata": {
  "kernelspec": {
   "display_name": "Python 3 (ipykernel)",
   "language": "python",
   "name": "python3"
  },
  "language_info": {
   "codemirror_mode": {
    "name": "ipython",
    "version": 3
   },
   "file_extension": ".py",
   "mimetype": "text/x-python",
   "name": "python",
   "nbconvert_exporter": "python",
   "pygments_lexer": "ipython3",
   "version": "3.9.12"
  }
 },
 "nbformat": 4,
 "nbformat_minor": 5
}
